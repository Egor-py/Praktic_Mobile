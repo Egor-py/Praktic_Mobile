{
 "cells": [
  {
   "cell_type": "markdown",
   "id": "1cbe3c9f",
   "metadata": {},
   "source": [
    "<h1><center>Практическая работа 2</center></h1>\n",
    "<h1><center>Расчет потерь на трассе радиоканала по модели Хата</center></h1>\n",
    "<h3>Выполнил Дмитриев Егор ИКТУ-88 Вариант 3</h3>"
   ]
  },
  {
   "cell_type": "markdown",
   "id": "047bdc83",
   "metadata": {},
   "source": [
    "### Цель работы\n",
    ">Ознакомиться с принципами расчета потерь в радиоканале согласно моделям Хата и COST231–Хата."
   ]
  },
  {
   "cell_type": "markdown",
   "id": "a7ed8568",
   "metadata": {},
   "source": [
    "### 1. Выбор значений по номеру варианта\n",
    ">$f_1 = 200 МГц; f_2 = 1700 МГц;  h_{sb} = 50 м; h_{ms} = 2.5 м $"
   ]
  },
  {
   "cell_type": "code",
   "execution_count": 6,
   "id": "63a3f8df",
   "metadata": {},
   "outputs": [],
   "source": [
    "import numpy as np\n",
    "import math\n",
    "import matplotlib.pyplot as plt\n",
    "f1 = 200\n",
    "f2 = 1700\n",
    "hbs = 50 \n",
    "hms = 2.5"
   ]
  },
  {
   "cell_type": "markdown",
   "id": "d8445c71",
   "metadata": {},
   "source": [
    "## 2. Расчет по модели Хата для величины $ f_1 $"
   ]
  },
  {
   "cell_type": "markdown",
   "id": "ad9a001e",
   "metadata": {},
   "source": [
    "$ L_{город}[дБ] $\n",
    ">$ a(h_{ms})[дБ] = 8,29[lg(1,54h_{ms})]ˆ{2} - 1,1 $ , $  f < 300МГц $"
   ]
  },
  {
   "cell_type": "code",
   "execution_count": 12,
   "id": "e70c117f",
   "metadata": {},
   "outputs": [
    {
     "name": "stdout",
     "output_type": "stream",
     "text": [
      "102.30667376314858 дБ\n",
      "112.47298245705912 дБ\n",
      "118.41989181375226 дБ\n",
      "122.63929115096965 дБ\n",
      "125.91211154083712 дБ\n",
      "128.5862005076628 дБ\n",
      "130.84711051415536 дБ\n",
      "132.8055998448802 дБ\n",
      "134.53310986435594 дБ\n",
      "136.07842023474765 дБ\n"
     ]
    }
   ],
   "source": [
    "Lgor = np.zeros(10,)\n",
    "for i in range(1,11):\n",
    "    Lgor[i-1] = 69.55 + 26.16*math.log10(f1) - 13.83*math.log10(hbs) + (44.9 - 6.55*math.log10(hbs))*math.log10(i)  \\\n",
    "    - 8.29*(math.log10(1.54*hms))**2 - 1.1\n",
    "    print(Lgor[i-1], 'дБ')"
   ]
  },
  {
   "cell_type": "markdown",
   "id": "9ef9b6b7",
   "metadata": {},
   "source": [
    "$ L_{мал.город}[дБ] $\n",
    ">$ a(h_{ms})[дБ] = (1,1lg(f)-0,7)h_{ms} - (1,56lg(f)-0,8) $"
   ]
  },
  {
   "cell_type": "code",
   "execution_count": 13,
   "id": "ab24a69c",
   "metadata": {},
   "outputs": [
    {
     "name": "stdout",
     "output_type": "stream",
     "text": [
      "97.13075024529084 дБ\n",
      "107.29705893920138 дБ\n",
      "113.24396829589452 дБ\n",
      "117.46336763311191 дБ\n",
      "120.73618802297938 дБ\n",
      "123.41027698980506 дБ\n",
      "125.67118699629762 дБ\n",
      "127.62967632702245 дБ\n",
      "129.3571863464982 дБ\n",
      "130.9024967168899 дБ\n"
     ]
    }
   ],
   "source": [
    "Lmalgor = np.zeros(10,)\n",
    "for i in range(1,11):\n",
    "    Lmalgor[i-1] = 69.55 + 26.16*math.log10(f1) - 13.83*math.log10(hbs) + (44.9 - 6.55*math.log10(hbs))*math.log10(i)  \\\n",
    "    - (1.1*math.log10(f1))*hms - (1.56*math.log10(f1) - 0.8)\n",
    "    print(Lmalgor[i-1], 'дБ')"
   ]
  },
  {
   "cell_type": "markdown",
   "id": "7dafd343",
   "metadata": {},
   "source": [
    "$ L_{пригород}[дБ] $"
   ]
  },
  {
   "cell_type": "code",
   "execution_count": 14,
   "id": "dbf60bdc",
   "metadata": {},
   "outputs": [
    {
     "name": "stdout",
     "output_type": "stream",
     "text": [
      "95.44847910023917 дБ\n",
      "105.6147877941497 дБ\n",
      "111.56169715084285 дБ\n",
      "115.78109648806024 дБ\n",
      "119.0539168779277 дБ\n",
      "121.72800584475338 дБ\n",
      "123.98891585124593 дБ\n",
      "125.94740518197077 дБ\n",
      "127.67491520144651 дБ\n",
      "129.22022557183823 дБ\n"
     ]
    }
   ],
   "source": [
    "Lprigor = np.zeros(10,)\n",
    "for i in range(1,11):\n",
    "    Lprigor[i-1] = Lgor[i-1] - 2*(math.log10(f1/28))**2 - 5.4\n",
    "    print(Lprigor[i-1], 'дБ')"
   ]
  },
  {
   "cell_type": "markdown",
   "id": "b5e5810d",
   "metadata": {},
   "source": [
    "$ L_{сел}[дБ] $"
   ]
  },
  {
   "cell_type": "code",
   "execution_count": 15,
   "id": "65f4f1a6",
   "metadata": {},
   "outputs": [
    {
     "name": "stdout",
     "output_type": "stream",
     "text": [
      "78.23570096795044 дБ\n",
      "88.40200966186097 дБ\n",
      "94.34891901855411 дБ\n",
      "98.56831835577151 дБ\n",
      "101.84113874563897 дБ\n",
      "104.51522771246465 дБ\n",
      "106.77613771895722 дБ\n",
      "108.73462704968205 дБ\n",
      "110.46213706915779 дБ\n",
      "112.00744743954951 дБ\n"
     ]
    }
   ],
   "source": [
    "Lsel = np.zeros(10,)\n",
    "for i in range(1,11):\n",
    "    Lsel[i-1] = Lgor[i-1] - 4.78*(math.log10(f1))**2 + 18.33*math.log10(f1) - 40.94\n",
    "    print(Lsel[i-1], 'дБ')\n",
    "k = np.array([1, 2, 3, 4, 5, 6, 7, 8, 9, 10])"
   ]
  },
  {
   "cell_type": "markdown",
   "id": "205fe946",
   "metadata": {},
   "source": [
    "#### График"
   ]
  },
  {
   "cell_type": "code",
   "execution_count": 16,
   "id": "aca00995",
   "metadata": {},
   "outputs": [
    {
     "data": {
      "image/png": "[encoded data removed]",
      "text/plain": [
       "<Figure size 432x288 with 1 Axes>"
      ]
     },
     "metadata": {
      "needs_background": "light"
     },
     "output_type": "display_data"
    }
   ],
   "source": [
    "plt.plot(k, Lgor, '-', label = 'город')\n",
    "plt.plot(k, Lmalgor, '--', label = 'мал.город')\n",
    "plt.plot(k, Lprigor, '-', label = 'пригород')\n",
    "plt.plot(k, Lsel, '.-', label = 'село')\n",
    "plt.title('График зависимости величины потерь в дБ от расстояния  по модели Хата')\n",
    "plt.xlabel('км')\n",
    "plt.ylabel('дБ')\n",
    "plt.legend()\n",
    "plt.grid()"
   ]
  },
  {
   "cell_type": "markdown",
   "id": "c6867542",
   "metadata": {},
   "source": [
    "## 3. Расчет по модели COST231-Хата для величины $ f_2 $"
   ]
  },
  {
   "cell_type": "markdown",
   "id": "2124c585",
   "metadata": {},
   "source": [
    "$ L_{город}[дБ] $\n",
    ">$ a(h_{ms})[дБ] = 3,2[lg(11,75h_{ms})]ˆ{2} - 4,97 $ , $  f \\ge 300МГц $"
   ]
  },
  {
   "cell_type": "code",
   "execution_count": 17,
   "id": "13bd003c",
   "metadata": {},
   "outputs": [
    {
     "name": "stdout",
     "output_type": "stream",
     "text": [
      "123.4665840394046 дБ\n",
      "133.63289273331512 дБ\n",
      "139.57980209000826 дБ\n",
      "143.79920142722565 дБ\n",
      "147.07202181709312 дБ\n",
      "149.7461107839188 дБ\n",
      "152.00702079041136 дБ\n",
      "153.9655101211362 дБ\n",
      "155.69302014061194 дБ\n",
      "157.23833051100365 дБ\n"
     ]
    }
   ],
   "source": [
    "L2gor = np.zeros(10,)\n",
    "C = 3\n",
    "for i in range(1,11):\n",
    "    L2gor[i-1] = 46.3 + 33.9*math.log10(f2) - 13.82*math.log10(hbs) + (44.9 - 6.55*math.log10(hbs))*math.log10(i)  \\\n",
    "    - 3.2*(math.log10(11.75*hms))**2 - 4.97 + C\n",
    "    print(L2gor[i-1], 'дБ')"
   ]
  },
  {
   "cell_type": "markdown",
   "id": "5c5c5731",
   "metadata": {},
   "source": [
    "$ L_{сред.город}[дБ] $\n",
    ">$ a(h_{ms})[дБ] = (1,1lg(f)-0,7)h_{ms} - (1,56lg(f)-0,8) $"
   ]
  },
  {
   "cell_type": "code",
   "execution_count": 18,
   "id": "051ddb79",
   "metadata": {},
   "outputs": [
    {
     "name": "stdout",
     "output_type": "stream",
     "text": [
      "119.35921812365935 дБ\n",
      "129.52552681756987 дБ\n",
      "135.472436174263 дБ\n",
      "139.6918355114804 дБ\n",
      "142.96465590134787 дБ\n",
      "145.63874486817355 дБ\n",
      "147.8996548746661 дБ\n",
      "149.85814420539094 дБ\n",
      "151.5856542248667 дБ\n",
      "153.1309645952584 дБ\n"
     ]
    }
   ],
   "source": [
    "L2sredgor = np.zeros(10,)\n",
    "for i in range(1,11):\n",
    "    L2sredgor[i-1] = 46.3 + 33.9*math.log10(f2) - 13.82*math.log10(hbs) + (44.9 - 6.55*math.log10(hbs))*math.log10(i)  \\\n",
    "    - (1.1*math.log10(f2)-0.7)*hms - 1.56*math.log10(f2) - 0.8\n",
    "    print(L2sredgor[i-1], 'дБ')"
   ]
  },
  {
   "cell_type": "markdown",
   "id": "49b98c11",
   "metadata": {},
   "source": [
    "$ L_{сел}[дБ] $"
   ]
  },
  {
   "cell_type": "code",
   "execution_count": 21,
   "id": "3d577abb",
   "metadata": {},
   "outputs": [
    {
     "name": "stdout",
     "output_type": "stream",
     "text": [
      "91.85758765149757 дБ\n",
      "102.0238963454081 дБ\n",
      "107.97080570210125 дБ\n",
      "112.19020503931864 дБ\n",
      "115.46302542918608 дБ\n",
      "118.13711439601178 дБ\n",
      "120.39802440250435 дБ\n",
      "122.35651373322918 дБ\n",
      "124.08402375270492 дБ\n",
      "125.62933412309661 дБ\n"
     ]
    }
   ],
   "source": [
    "L2sel = np.zeros(10,)\n",
    "for i in range(1,11):\n",
    "    L2sel[i-1] = L2gor[i-1] - 4.78*(math.log10(f2))**2 + 18.33*math.log10(f2) - 40.94\n",
    "    print(L2sel[i-1], 'дБ')"
   ]
  },
  {
   "cell_type": "markdown",
   "id": "3c216dc7",
   "metadata": {},
   "source": [
    "#### График"
   ]
  },
  {
   "cell_type": "code",
   "execution_count": 24,
   "id": "cc4da47e",
   "metadata": {},
   "outputs": [
    {
     "data": {
      "image/png": "[encoded data removed]",
      "text/plain": [
       "<Figure size 432x288 with 1 Axes>"
      ]
     },
     "metadata": {
      "needs_background": "light"
     },
     "output_type": "display_data"
    }
   ],
   "source": [
    "plt.plot(k, L2gor, '-', label = 'город')\n",
    "plt.plot(k, L2sredgor, '--', label = 'сред.город')\n",
    "plt.plot(k, L2sel, '.-', label = 'село')\n",
    "plt.title('График зависимости величины потерь в дБ от расстояния по модели COST231-Хата')\n",
    "plt.xlabel('км')\n",
    "plt.ylabel('дБ')\n",
    "plt.legend()\n",
    "plt.grid()"
   ]
  },
  {
   "cell_type": "markdown",
   "id": "b481751d",
   "metadata": {},
   "source": [
    "### 4. Выводы:\n",
    "- Для частот менее 300МГц наименьшее затухание радиосигнала наблюдается в сельской местности, а наибольшее в городе  "
   ]
  },
  {
   "cell_type": "code",
   "execution_count": null,
   "id": "29a6dac9",
   "metadata": {},
   "outputs": [],
   "source": []
  }
 ],
 "metadata": {
  "kernelspec": {
   "display_name": "Python 3 (ipykernel)",
   "language": "python",
   "name": "python3"
  },
  "language_info": {
   "codemirror_mode": {
    "name": "ipython",
    "version": 3
   },
   "file_extension": ".py",
   "mimetype": "text/x-python",
   "name": "python",
   "nbconvert_exporter": "python",
   "pygments_lexer": "ipython3",
   "version": "3.9.7"
  }
 },
 "nbformat": 4,
 "nbformat_minor": 5
}
