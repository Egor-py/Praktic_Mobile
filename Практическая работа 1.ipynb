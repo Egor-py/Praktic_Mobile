{
 "cells": [
  {
   "cell_type": "markdown",
   "id": "62279319",
   "metadata": {},
   "source": [
    "<h1><center>Практическая работа №1</center></h1>\n",
    "<h1><center>Расчет радиуса заны Френеля для беспроводного канала</center></h1>\n",
    "<h3>Выполнил Дмитриев Егор ИКТУ-88 Вариант 3</h3>"
   ]
  },
  {
   "cell_type": "markdown",
   "id": "fbf6fe7a",
   "metadata": {},
   "source": [
    ">Цель работы:\n",
    "Ознакомиться с понятием зоны Френеля, научиться рассчитывать ради- ус зоны Френеля и оценивать требуемую высоту размещения приемопередаю- щего оборудования."
   ]
  },
  {
   "cell_type": "code",
   "execution_count": 2,
   "id": "c703e026",
   "metadata": {},
   "outputs": [],
   "source": [
    "import numpy as np\n",
    "import math\n",
    "import matplotlib.pyplot as plt"
   ]
  },
  {
   "cell_type": "markdown",
   "id": "a4ca684b",
   "metadata": {},
   "source": [
    "### 1. Выбор значений по номеру варианта ###\n",
    "> f1 = 0.9 ГГц ; f2 = 1,9 ГГц; d = 30 км "
   ]
  },
  {
   "cell_type": "code",
   "execution_count": 3,
   "id": "e66b1615",
   "metadata": {},
   "outputs": [],
   "source": [
    "f1 = 0.9\n",
    "f2 = 1.9\n",
    "d = 30"
   ]
  },
  {
   "cell_type": "markdown",
   "id": "9481a6a8",
   "metadata": {},
   "source": [
    "### 2. Рачет радиуса зоны Френеля в центральной точке для f1 и f2"
   ]
  },
  {
   "cell_type": "code",
   "execution_count": 4,
   "id": "4869c999",
   "metadata": {},
   "outputs": [
    {
     "name": "stdout",
     "output_type": "stream",
     "text": [
      "Rc_f1 =  49.96966579836211 м\n"
     ]
    }
   ],
   "source": [
    "Rcf1 = 17.31*math.sqrt(d/(4*f1))\n",
    "print('Rc_f1 = ', Rcf1, 'м')"
   ]
  },
  {
   "cell_type": "code",
   "execution_count": 5,
   "id": "cd4bad24",
   "metadata": {},
   "outputs": [
    {
     "name": "stdout",
     "output_type": "stream",
     "text": [
      "Rc_f2 =  34.39148265119386 м\n"
     ]
    }
   ],
   "source": [
    "Rcf2 = 17.31*math.sqrt(d/(4*f2))\n",
    "print('Rc_f2 = ', Rcf2, 'м')"
   ]
  },
  {
   "cell_type": "markdown",
   "id": "b180deef",
   "metadata": {},
   "source": [
    "### 3. Расчет радиусов зоны Френеля в 10 точках равномерно от каждой из антенн для f1 и f2"
   ]
  },
  {
   "cell_type": "code",
   "execution_count": 6,
   "id": "13c5afd7",
   "metadata": {},
   "outputs": [
    {
     "name": "stdout",
     "output_type": "stream",
     "text": [
      "[ 0.   1.5  3.   4.5  6.   7.5  9.  10.5 12.  13.5 15.  16.5 18.  19.5\n",
      " 21.  22.5 24.  25.5 27.  28.5 30. ]\n",
      "[30.0, 28.5, 27.0, 25.5, 24.0, 22.5, 21.0, 19.5, 18.0, 16.5, 15.0, 13.5, 12.0, 10.5, 9.0, 7.5, 6.0, 4.5, 3.0, 1.5, 0.0]\n",
      "[ 0.         21.78127235 29.98179948 35.68547919 39.97573264 43.275\n",
      " 45.79795519 47.66802309 48.96007353 49.71918971 49.9696658  49.71918971\n",
      " 48.96007353 47.66802309 45.79795519 43.275      39.97573264 35.68547919\n",
      " 29.98179948 21.78127235  0.        ]\n"
     ]
    }
   ],
   "source": [
    "d1 = np.zeros(21,)\n",
    "d2 = np.zeros(21,)\n",
    "k = d/20\n",
    "d1[0] = 0\n",
    "for i in range(1, 21):\n",
    "    d1[i] = k + d1[i-1] \n",
    "d2 = list(reversed(d1))\n",
    "print(d1)\n",
    "print(d2)\n",
    "Rf1 = np.zeros((21,))\n",
    "for i in range (21):\n",
    "    Rf1[i] = 17.31 * math.sqrt((1/f1)*((d1[i]*d2[i])/(d1[i]+d2[i])))\n",
    "print(Rf1)"
   ]
  },
  {
   "cell_type": "code",
   "execution_count": 7,
   "id": "c7a3eccd",
   "metadata": {},
   "outputs": [
    {
     "name": "stdout",
     "output_type": "stream",
     "text": [
      "[ 0.         14.99089974 20.63488959 24.56043119 27.51318612 29.78389765\n",
      " 31.5203145  32.8073835  33.6966336  34.21909318 34.39148265 34.21909318\n",
      " 33.6966336  32.8073835  31.5203145  29.78389765 27.51318612 24.56043119\n",
      " 20.63488959 14.99089974  0.        ]\n"
     ]
    }
   ],
   "source": [
    "Rf2 = np.zeros((21,))\n",
    "for i in range (21):\n",
    "    Rf2[i] = 17.31 * math.sqrt((1/f2)*(d1[i]*d2[i]/(d1[i]+d2[i])))\n",
    "print(Rf2)"
   ]
  },
  {
   "cell_type": "markdown",
   "id": "6be92650",
   "metadata": {},
   "source": [
    "### 4. Графики зависимоти зоны Френеля от расстояния до антенн"
   ]
  },
  {
   "cell_type": "code",
   "execution_count": 15,
   "id": "e16cc4a1",
   "metadata": {},
   "outputs": [
    {
     "data": {
      "image/png": "[encoded data removed]",
      "text/plain": [
       "<Figure size 432x288 with 1 Axes>"
      ]
     },
     "metadata": {
      "needs_background": "light"
     },
     "output_type": "display_data"
    }
   ],
   "source": [
    "plt.plot(d1, Rf1)\n",
    "plt.title('Для частоты = 0.9')\n",
    "plt.xlabel('км')\n",
    "plt.ylabel('м')\n",
    "plt.grid()"
   ]
  },
  {
   "cell_type": "code",
   "execution_count": 16,
   "id": "902d702f",
   "metadata": {},
   "outputs": [
    {
     "data": {
      "image/png": "[encoded data removed]",
      "text/plain": [
       "<Figure size 432x288 with 1 Axes>"
      ]
     },
     "metadata": {
      "needs_background": "light"
     },
     "output_type": "display_data"
    }
   ],
   "source": [
    "plt.plot(d1, Rf2)\n",
    "plt.title('Для частоты = 1.9')\n",
    "plt.xlabel('км')\n",
    "plt.ylabel('м')\n",
    "plt.grid()"
   ]
  },
  {
   "cell_type": "code",
   "execution_count": 24,
   "id": "2bf313a9",
   "metadata": {},
   "outputs": [
    {
     "data": {
      "image/png": "[encoded data removed]",
      "text/plain": [
       "<Figure size 432x288 with 1 Axes>"
      ]
     },
     "metadata": {
      "needs_background": "light"
     },
     "output_type": "display_data"
    }
   ],
   "source": [
    "plt.plot(d1, Rf1, '-', label = '0.9 ГГц')\n",
    "plt.plot(d1, Rf2, '--', label = '1.9 ГГц')\n",
    "plt.title('Сравнение зон')\n",
    "plt.legend()\n",
    "plt.xlabel('км')\n",
    "plt.ylabel('м')\n",
    "plt.grid()"
   ]
  },
  {
   "cell_type": "markdown",
   "id": "7cd22f7c",
   "metadata": {},
   "source": [
    "### 5. Расчет высоты подвеса антенны"
   ]
  },
  {
   "cell_type": "markdown",
   "id": "6d623a35",
   "metadata": {},
   "source": [
    "##### Для f1"
   ]
  },
  {
   "cell_type": "code",
   "execution_count": 32,
   "id": "6612ac2d",
   "metadata": {},
   "outputs": [
    {
     "name": "stdout",
     "output_type": "stream",
     "text": [
      "H1 =  79.95146527737937 м\n"
     ]
    }
   ],
   "source": [
    "print('H1 = ', Rcf1*0.6 + Rcf1, 'м') "
   ]
  },
  {
   "cell_type": "markdown",
   "id": "2762ae76",
   "metadata": {},
   "source": [
    "##### Для f2"
   ]
  },
  {
   "cell_type": "code",
   "execution_count": 33,
   "id": "d6ee8ff1",
   "metadata": {},
   "outputs": [
    {
     "name": "stdout",
     "output_type": "stream",
     "text": [
      "H2 =  55.02637224191018 м\n"
     ]
    }
   ],
   "source": [
    "print('H2 = ', Rcf2*0.6 + Rcf2, 'м')"
   ]
  },
  {
   "cell_type": "markdown",
   "id": "d81b5146",
   "metadata": {},
   "source": [
    "### 6. Вывод:\n",
    ">Из графиков мы выдим, что зона Фринеля меньше при большей частоте"
   ]
  },
  {
   "cell_type": "code",
   "execution_count": null,
   "id": "92d3e3d5",
   "metadata": {},
   "outputs": [],
   "source": []
  }
 ],
 "metadata": {
  "kernelspec": {
   "display_name": "Python 3 (ipykernel)",
   "language": "python",
   "name": "python3"
  },
  "language_info": {
   "codemirror_mode": {
    "name": "ipython",
    "version": 3
   },
   "file_extension": ".py",
   "mimetype": "text/x-python",
   "name": "python",
   "nbconvert_exporter": "python",
   "pygments_lexer": "ipython3",
   "version": "3.9.7"
  }
 },
 "nbformat": 4,
 "nbformat_minor": 5
}
