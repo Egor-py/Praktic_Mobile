{
 "cells": [
  {
   "cell_type": "markdown",
   "id": "2e10bfbf",
   "metadata": {},
   "source": [
    "<h1><center>Практическая работа 7</center></h1>\n",
    "<h1><center>Расчет дальности работы беспроводного канала связи 802.11</center></h1>\n",
    "<h4>Выполнил Дмитриев Егор ИКТУ-88 Вариант 3</h4>"
   ]
  },
  {
   "cell_type": "markdown",
   "id": "cde4ca29",
   "metadata": {},
   "source": [
    "## Цель работы:\n",
    ">Ознакомиться со стандартами IEEE 802.11 и используемыми диапазовани частот. Научиться определять дальность работы канала связи 802.11 в зависимости от требуемой скорости передачи и используемого частотного канала."
   ]
  },
  {
   "cell_type": "markdown",
   "id": "59032405",
   "metadata": {},
   "source": [
    "### 1. Выбор значений в соответсвии с вариантом\n",
    "$ P_t = 12дБм; G_t = 3дБи; G_r = 1дБи $\\\n",
    "802.11g: канал 1 = 3; канал 2 = 10\\\n",
    "802.11n: канал 1 = 44; канал 2 = 108"
   ]
  },
  {
   "cell_type": "markdown",
   "id": "e4e0a758",
   "metadata": {},
   "source": [
    "### 2. Расчет дальности работы. Технология 802.11g"
   ]
  },
  {
   "cell_type": "code",
   "execution_count": 24,
   "id": "39c4517a",
   "metadata": {},
   "outputs": [],
   "source": [
    "import numpy as np\n",
    "import matplotlib.pyplot as plt\n",
    "import math\n",
    "P_t = 12\n",
    "G_t = 3\n",
    "G_r = 1\n",
    "F_k1 = 2422\n",
    "F_k2 = 2457"
   ]
  },
  {
   "cell_type": "code",
   "execution_count": 25,
   "id": "94dd4934",
   "metadata": {},
   "outputs": [],
   "source": [
    "SOM = 10\n",
    "Pmin_1 = np.array([-87, -86, -85, -83, -80, -76, -71, -66])\n",
    "Pmin_2 = np.array([-96, -95, -92, -90, -86, -83, -77, -74])\n",
    "Vpd_1 = np.array([6, 9, 12, 18, 24,36, 48, 54])\n",
    "Vpd_2 = np.array([15, 30, 45, 60, 90, 120, 135, 150])"
   ]
  },
  {
   "cell_type": "markdown",
   "id": "38d8f1a8",
   "metadata": {},
   "source": [
    "#### Расчет для перового канала $f = 2422 МГц$"
   ]
  },
  {
   "cell_type": "code",
   "execution_count": 26,
   "id": "6ae3860d",
   "metadata": {},
   "outputs": [
    {
     "name": "stdout",
     "output_type": "stream",
     "text": [
      "D(2,4ГГц) = 412.881915772089 м\n",
      "D(2,4ГГц) = 367.98139477033254 м\n",
      "D(2,4ГГц) = 327.96376330482286 м\n",
      "D(2,4ГГц) = 260.510877159452 м\n",
      "D(2,4ГГц) = 184.42757727124805 м\n",
      "D(2,4ГГц) = 116.3659344039824 м\n",
      "D(2,4ГГц) = 65.43737375974868 м\n",
      "D(2,4ГГц) = 36.79813947703324 м\n"
     ]
    }
   ],
   "source": [
    "D_24g_1 = np.zeros(8,)\n",
    "for i in range(8):\n",
    "    Y = P_t + G_t + G_r - Pmin_1[i] \n",
    "    FSL = Y - SOM\n",
    "    D_24g_1[i] = 10**((FSL-33)/20 - math.log10(F_k1))*1000\n",
    "    print('D(2,4ГГц) =', D_24g_1[i], 'м')"
   ]
  },
  {
   "cell_type": "markdown",
   "id": "dbedf4bb",
   "metadata": {},
   "source": [
    "#### Расчет для второго канала $f = 2457 МГц$"
   ]
  },
  {
   "cell_type": "code",
   "execution_count": 27,
   "id": "c6e8a2ae",
   "metadata": {},
   "outputs": [
    {
     "name": "stdout",
     "output_type": "stream",
     "text": [
      "D(2,4ГГц) = 407.0004070004071 м\n",
      "D(2,4ГГц) = 362.73949455992926 м\n",
      "D(2,4ГГц) = 323.2919148246974 м\n",
      "D(2,4ГГц) = 256.79989600333465 м\n",
      "D(2,4ГГц) = 181.8004038058458 м\n",
      "D(2,4ГГц) = 114.70830001076337 м\n",
      "D(2,4ГГц) = 64.5052174383848 м\n",
      "D(2,4ГГц) = 36.273949455992906 м\n"
     ]
    }
   ],
   "source": [
    "D_24g_2 = np.zeros(8,)\n",
    "for i in range(8):\n",
    "    Y = P_t + G_t + G_r - Pmin_1[i] \n",
    "    FSL = Y - SOM\n",
    "    D_24g_2[i] = 10**((FSL-33)/20 - math.log10(F_k2))*1000\n",
    "    print('D(2,4ГГц) =', D_24g_2[i], 'м')"
   ]
  },
  {
   "cell_type": "markdown",
   "id": "0bba2e20",
   "metadata": {},
   "source": [
    "### 3. Расчет дальности работы. Технология 802.11n"
   ]
  },
  {
   "cell_type": "code",
   "execution_count": 28,
   "id": "691be88d",
   "metadata": {},
   "outputs": [],
   "source": [
    "F_k1 = 5220\n",
    "F_k2 = 5540"
   ]
  },
  {
   "cell_type": "markdown",
   "id": "2fe02092",
   "metadata": {},
   "source": [
    "#### Расчет для перового канала $f = 5220 МГц$"
   ]
  },
  {
   "cell_type": "code",
   "execution_count": 29,
   "id": "3f133e6f",
   "metadata": {},
   "outputs": [
    {
     "name": "stdout",
     "output_type": "stream",
     "text": [
      "D(5ГГц) = 539.9201017747998 м\n",
      "D(5ГГц) = 481.2042972240574 м\n",
      "D(5ГГц) = 340.66655364730326 м\n",
      "D(5ГГц) = 270.60106218826706 м\n",
      "D(5ГГц) = 170.73772761182875 м\n",
      "D(5ГГц) = 120.87305449812128 м\n",
      "D(5ГГц) = 60.58003180399195 м\n",
      "D(5ГГц) = 42.88737813349311 м\n"
     ]
    }
   ],
   "source": [
    "D_5g_1 = np.zeros(8,)\n",
    "for i in range(8):\n",
    "    Y = P_t + G_t + G_r - Pmin_2[i] \n",
    "    FSL = Y - SOM\n",
    "    D_5g_1[i] = 10**((FSL-33)/20 - math.log10(F_k1))*1000\n",
    "    print('D(5ГГц) =', D_5g_1[i], 'м')"
   ]
  },
  {
   "cell_type": "markdown",
   "id": "cc880e32",
   "metadata": {},
   "source": [
    "#### Расчет для перового канала $f = 5540 МГц$"
   ]
  },
  {
   "cell_type": "code",
   "execution_count": 30,
   "id": "2c492af8",
   "metadata": {},
   "outputs": [
    {
     "name": "stdout",
     "output_type": "stream",
     "text": [
      "D(5ГГц) = 508.7333810946668 м\n",
      "D(5ГГц) = 453.4091031605738 м\n",
      "D(5ГГц) = 320.98906318392096 м\n",
      "D(5ГГц) = 254.97067592468474 м\n",
      "D(5ГГц) = 160.87562060175915 м\n",
      "D(5ГГц) = 113.89121741519726 м\n",
      "D(5ГГц) = 57.08082419076496 м\n",
      "D(5ГГц) = 40.410128855024176 м\n"
     ]
    }
   ],
   "source": [
    "D_5g_2 = np.zeros(8,)\n",
    "for i in range(8):\n",
    "    Y = P_t + G_t + G_r - Pmin_2[i] \n",
    "    FSL = Y - SOM\n",
    "    D_5g_2[i] = 10**((FSL-33)/20 - math.log10(F_k2))*1000\n",
    "    print('D(5ГГц) =', D_5g_2[i], 'м')"
   ]
  },
  {
   "cell_type": "markdown",
   "id": "525af4c4",
   "metadata": {},
   "source": [
    "### 4. Графики"
   ]
  },
  {
   "cell_type": "code",
   "execution_count": 40,
   "id": "6049340b",
   "metadata": {},
   "outputs": [
    {
     "data": {
      "text/plain": [
       "<matplotlib.legend.Legend at 0x7f791b5121c0>"
      ]
     },
     "execution_count": 40,
     "metadata": {},
     "output_type": "execute_result"
    },
    {
     "data": {
      "image/png": "[encoded data removed]",
      "text/plain": [
       "<Figure size 432x288 with 1 Axes>"
      ]
     },
     "metadata": {
      "needs_background": "light"
     },
     "output_type": "display_data"
    }
   ],
   "source": [
    "plt.plot(Vpd_1, D_24g_1, color = 'purple', label = '2.4ГГц, fкан = 2422МГц')\n",
    "plt.plot(Vpd_1, D_24g_2, '-.',color = 'black', label = '2.4ГГц, fкан = 2457МГц')\n",
    "plt.plot(Vpd_2, D_5g_1, '-', color = 'b', label = '5ГГц, fкан = 5220МГц')\n",
    "plt.plot(Vpd_2, D_5g_2, '-.', color = 'r', label = '5ГГц, fкан = 5540МГц')\n",
    "plt.xlabel('Мбит/с')\n",
    "plt.ylabel('м')\n",
    "plt.title('График зависимости скорости передачи от расстояния')\n",
    "plt.legend()"
   ]
  },
  {
   "cell_type": "markdown",
   "id": "a903acd2",
   "metadata": {},
   "source": [
    "### Выводы:\n",
    "> Сети, работающие по стандарту 802.11n, гораздо эффективнее сетей, работающих по стандарту 802.11g, так как работают на большее расстоние и большие скорости"
   ]
  },
  {
   "cell_type": "code",
   "execution_count": null,
   "id": "e6e5b97a",
   "metadata": {},
   "outputs": [],
   "source": []
  }
 ],
 "metadata": {
  "kernelspec": {
   "display_name": "Python 3 (ipykernel)",
   "language": "python",
   "name": "python3"
  },
  "language_info": {
   "codemirror_mode": {
    "name": "ipython",
    "version": 3
   },
   "file_extension": ".py",
   "mimetype": "text/x-python",
   "name": "python",
   "nbconvert_exporter": "python",
   "pygments_lexer": "ipython3",
   "version": "3.9.7"
  }
 },
 "nbformat": 4,
 "nbformat_minor": 5
}
