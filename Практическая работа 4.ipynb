{
 "cells": [
  {
   "cell_type": "markdown",
   "id": "04527cd5",
   "metadata": {},
   "source": [
    "<h1><center>Практическая работа 4</center></h1>\n",
    "<h1><center>Оценка потерь на трассе радиоканала в случает дифракции на клине при одном препядствии</center></h1>\n",
    "<h4>Выполнил Дмитриев Егор ИКТУ-88 Вариант 3</h4>"
   ]
  },
  {
   "cell_type": "markdown",
   "id": "c16e4ad1",
   "metadata": {},
   "source": [
    "### Цель работы: \n",
    ">Целью данной работы является ознакомление с механизмом дифракции радиосигала на клине при одном препядствии, в также принципами оценки величины потерь, вызываемых данным типом дифракции"
   ]
  },
  {
   "cell_type": "markdown",
   "id": "29aa30c5",
   "metadata": {},
   "source": [
    "### 1. Выбор значений по номеру варианта \n",
    "$ f = 600 МГц; h_T = 42 м; h_R = 22м; a = 7км; b = 12км;  H'_1 = 44м; H'_2 = 20м $"
   ]
  },
  {
   "cell_type": "markdown",
   "id": "8e97c5f0",
   "metadata": {},
   "source": [
    "### 2.Расчет потерь при изменении $a$"
   ]
  },
  {
   "cell_type": "code",
   "execution_count": 65,
   "id": "ad91481b",
   "metadata": {},
   "outputs": [],
   "source": [
    "import numpy as np\n",
    "import matplotlib.pyplot as plt\n",
    "import math\n",
    "\n",
    "f = 600\n",
    "hT = 42\n",
    "hR = 22\n",
    "H1 = 44\n",
    "H2 = 20"
   ]
  },
  {
   "cell_type": "code",
   "execution_count": 66,
   "id": "82841b0a",
   "metadata": {},
   "outputs": [],
   "source": [
    "b = 12\n",
    "k = 5\n",
    "a = np.zeros(11,)\n",
    "for i in range(11):\n",
    "    a[i] = k\n",
    "    k += 1"
   ]
  },
  {
   "cell_type": "code",
   "execution_count": 67,
   "id": "cc7c5460",
   "metadata": {},
   "outputs": [
    {
     "name": "stdout",
     "output_type": "stream",
     "text": [
      "v =  7.487815151267135 > -0,7\n",
      "Ldif_H1 =  30.330434988442747 [дБ]\n",
      "v =  7.713201428105705 > -0,7\n",
      "Ldif_H1 =  30.58917070469019 [дБ]\n",
      "v =  7.888742531707217 > -0,7\n",
      "Ldif_H1 =  30.785522381511903 [дБ]\n",
      "v =  8.029250444258109 > -0,7\n",
      "Ldif_H1 =  30.939575855678704 [дБ]\n",
      "v =  8.143968758584052 > -0,7\n",
      "Ldif_H1 =  31.063373929323078 [дБ]\n",
      "v =  8.239057430482113 > -0,7\n",
      "Ldif_H1 =  31.16467793523116 [дБ]\n",
      "v =  8.318826809693041 > -0,7\n",
      "Ldif_H1 =  31.248766054398864 [дБ]\n",
      "v =  8.386406299280427 > -0,7\n",
      "Ldif_H1 =  31.319377431557655 [дБ]\n",
      "v =  8.44413365437333 > -0,7\n",
      "Ldif_H1 =  31.37924660582469 [дБ]\n",
      "v =  8.493795237133194 > -0,7\n",
      "Ldif_H1 =  31.43042491625227 [дБ]\n",
      "v =  8.536781445249249 > -0,7\n",
      "Ldif_H1 =  31.47448349571505 [дБ]\n"
     ]
    }
   ],
   "source": [
    "la = 3*10**8/(f*10**6)\n",
    "Ldif_H1 = np.zeros(11,)\n",
    "for i in range(11):\n",
    "    h = H1 - (hT + a[i]*((hR-hT)/(a[i]+b)))\n",
    "    d1 = math.sqrt(a[i]**2 + (H1-hT)**2)\n",
    "    d2 = math.sqrt(b**2 + (H1-hR)**2)\n",
    "    v = h*math.sqrt((2/la)*(1/d1 + 1/d2))\n",
    "    print('v = ', v, '> -0,7')\n",
    "    Ldif_H1[i] = 6.9 + 20*math.log10(math.sqrt((v-0.1)**2+1)+v-0.1)\n",
    "    print('Ldif_H1 = ', Ldif_H1[i], '[дБ]')"
   ]
  },
  {
   "cell_type": "code",
   "execution_count": 68,
   "id": "6184f721",
   "metadata": {},
   "outputs": [
    {
     "name": "stdout",
     "output_type": "stream",
     "text": [
      "v =  -15.310905607814886 > -0,7\n",
      "Ldif_H2 =  -22.8862919131074 [дБ]\n",
      "v =  -13.646433295879332 > -0,7\n",
      "Ldif_H2 =  -21.8958691904066 [дБ]\n",
      "v =  -12.320620358509032 > -0,7\n",
      "Ldif_H2 =  -21.017507199830163 [дБ]\n",
      "v =  -11.240950621961352 > -0,7\n",
      "Ldif_H2 =  -20.230423315047666 [дБ]\n",
      "v =  -10.345041396039205 > -0,7\n",
      "Ldif_H2 =  -19.518638863782655 [дБ]\n",
      "v =  -9.589722583020158 > -0,7\n",
      "Ldif_H2 =  -18.86986260796799 [дБ]\n",
      "v =  -8.944302509669967 > -0,7\n",
      "Ldif_H2 =  -18.27452694433226 [дБ]\n",
      "v =  -8.386406299280427 > -0,7\n",
      "Ldif_H2 =  -17.72507186915545 [дБ]\n",
      "v =  -7.899350837962149 > -0,7\n",
      "Ldif_H2 =  -17.215432409542473 [дБ]\n",
      "v =  -7.470446413382205 > -0,7\n",
      "Ldif_H2 =  -16.740673012287253 [дБ]\n",
      "v =  -7.08986933588497 > -0,7\n",
      "Ldif_H2 =  -16.296724479842368 [дБ]\n"
     ]
    }
   ],
   "source": [
    "Ldif_H2 = np.zeros(11,)\n",
    "for i in range(11):\n",
    "    h = H2 - (hT + a[i]*((hR-hT)/(a[i]+b)))\n",
    "    d1 = math.sqrt(a[i]**2 + (H1-hT)**2)\n",
    "    d2 = math.sqrt(b**2 + (H1-hR)**2)\n",
    "    v = h*math.sqrt((2/la)*(1/d1 + 1/d2))\n",
    "    print('v = ', v, '> -0,7')\n",
    "    Ldif_H2[i] = 6.9 + 20*math.log10(math.sqrt((v-0.1)**2+1)+v-0.1)\n",
    "    print('Ldif_H2 = ', Ldif_H2[i], '[дБ]')"
   ]
  },
  {
   "cell_type": "code",
   "execution_count": 69,
   "id": "762c4be1",
   "metadata": {},
   "outputs": [
    {
     "name": "stdout",
     "output_type": "stream",
     "text": [
      "L0 =  112.61200343523834 [дБ]\n",
      "L0 =  113.10847510973899 [дБ]\n",
      "L0 =  113.57809702672944 [дБ]\n",
      "L0 =  114.0236249209525 [дБ]\n",
      "L0 =  114.44741090235127 [дБ]\n",
      "L0 =  114.851478624117 [дБ]\n",
      "L0 =  115.23758172802474 [дБ]\n",
      "L0 =  115.60724984190499 [дБ]\n",
      "L0 =  115.96182518111362 [дБ]\n",
      "L0 =  116.30249196708922 [дБ]\n",
      "L0 =  116.63030029085262 [дБ]\n"
     ]
    }
   ],
   "source": [
    "L0 = np.zeros(11,)\n",
    "for i in range(11,):\n",
    "    L0[i] = 32.44 + 20*math.log10(a[i] + b) + 20*math.log10(f)\n",
    "    print('L0 = ', L0[i], '[дБ]')"
   ]
  },
  {
   "cell_type": "code",
   "execution_count": 70,
   "id": "07926b2c",
   "metadata": {},
   "outputs": [
    {
     "data": {
      "text/plain": [
       "<matplotlib.legend.Legend at 0x28d95ed8880>"
      ]
     },
     "execution_count": 70,
     "metadata": {},
     "output_type": "execute_result"
    },
    {
     "data": {
      "image/png": "[encoded data removed]",
      "text/plain": [
       "<Figure size 432x288 with 1 Axes>"
      ]
     },
     "metadata": {
      "needs_background": "light"
     },
     "output_type": "display_data"
    }
   ],
   "source": [
    "d = a + b\n",
    "plt.plot(d, Ldif_H1, '-', label = 'Потери при H1 = 44м и Потери в своб.пр')\n",
    "plt.plot(d, Ldif_H2, '--', label = 'Потери при H2 = 20м и Потери в своб.пр')\n",
    "plt.plot(d, L0, '-.', label = 'Потери в свободном пространстве')\n",
    "plt.xlabel('км')\n",
    "plt.ylabel('дБ')\n",
    "plt.legend()"
   ]
  },
  {
   "cell_type": "code",
   "execution_count": 71,
   "id": "e792906c",
   "metadata": {},
   "outputs": [
    {
     "data": {
      "text/plain": [
       "<matplotlib.legend.Legend at 0x28d95a9c910>"
      ]
     },
     "execution_count": 71,
     "metadata": {},
     "output_type": "execute_result"
    },
    {
     "data": {
      "image/png": "[encoded data removed]",
      "text/plain": [
       "<Figure size 432x288 with 1 Axes>"
      ]
     },
     "metadata": {
      "needs_background": "light"
     },
     "output_type": "display_data"
    }
   ],
   "source": [
    "d = a + b\n",
    "\n",
    "plt.plot(d, Ldif_H1, '-', label = 'Потери при H1 = 44м')\n",
    "plt.plot(d, Ldif_H2, '-', label = 'Потери при H1 = 20м')\n",
    "plt.xlabel('км')\n",
    "plt.ylabel('дБ')\n",
    "#plt.title('График зависимости величины потерь на дифракцию на клине в дБ')\n",
    "plt.legend()"
   ]
  },
  {
   "cell_type": "markdown",
   "id": "b65ce5e3",
   "metadata": {},
   "source": [
    "### 3.Расчет потерь при изменении $b$"
   ]
  },
  {
   "cell_type": "code",
   "execution_count": 72,
   "id": "d938cb8e",
   "metadata": {},
   "outputs": [],
   "source": [
    "a = 7\n",
    "k = 10\n",
    "b = np.zeros(11,)\n",
    "for i in range(11):\n",
    "    b[i] = k\n",
    "    k += 1"
   ]
  },
  {
   "cell_type": "code",
   "execution_count": 73,
   "id": "03147dfe",
   "metadata": {},
   "outputs": [
    {
     "name": "stdout",
     "output_type": "stream",
     "text": [
      "v =  8.654505179786131 > -0,7\n",
      "Ldif_H1 =  31.594020082578275 [дБ]\n",
      "v =  8.250876731418764 > -0,7\n",
      "Ldif_H1 =  31.17718824429251 [дБ]\n",
      "v =  7.888742531707217 > -0,7\n",
      "Ldif_H1 =  30.785522381511903 [дБ]\n",
      "v =  7.562005190326937 > -0,7\n",
      "Ldif_H1 =  30.41644887711447 [дБ]\n",
      "v =  7.265723420504583 > -0,7\n",
      "Ldif_H1 =  30.067784856983224 [дБ]\n",
      "v =  6.995847659845116 > -0,7\n",
      "Ldif_H1 =  29.737661657521286 [дБ]\n",
      "v =  6.749025175658815 > -0,7\n",
      "Ldif_H1 =  29.42446572476055 [дБ]\n",
      "v =  6.522454321652927 > -0,7\n",
      "Ldif_H1 =  29.126792542028376 [дБ]\n",
      "v =  6.313774111530239 > -0,7\n",
      "Ldif_H1 =  28.843410404891706 [дБ]\n",
      "v =  6.120979531609738 > -0,7\n",
      "Ldif_H1 =  28.573231709490095 [дБ]\n",
      "v =  5.942355857161529 > -0,7\n",
      "Ldif_H1 =  28.31529002017036 [дБ]\n"
     ]
    }
   ],
   "source": [
    "la = 3*10**8/(f*10**6)\n",
    "Ldif_H1 = np.zeros(11,)\n",
    "for i in range(11):\n",
    "    h = H1 - (hT + a*((hR-hT)/(a+b[i])))\n",
    "    d1 = math.sqrt(a**2 + (H1-hT)**2)\n",
    "    d2 = math.sqrt(b[i]**2 + (H1-hR)**2)\n",
    "    v = h*math.sqrt((2/la)*(1/d1 + 1/d2))\n",
    "    print('v = ', v, '> -0,7')\n",
    "    Ldif_H1[i] = 6.9 + 20*math.log10(math.sqrt((v-0.1)**2+1)+v-0.1)\n",
    "    print('Ldif_H1 = ', Ldif_H1[i], '[дБ]')"
   ]
  },
  {
   "cell_type": "code",
   "execution_count": 74,
   "id": "ced50413",
   "metadata": {},
   "outputs": [
    {
     "name": "stdout",
     "output_type": "stream",
     "text": [
      "v =  -13.357258999941724 > -0.7\n",
      "Ldif_H2 =  -21.71169798451914 [дБ]\n",
      "v =  -13.546344756800739 > -0.7\n",
      "Ldif_H2 =  -21.83256390088674 [дБ]\n",
      "v =  -13.71190698843294 > -0.7\n",
      "Ldif_H2 =  -21.937033249888763 [дБ]\n",
      "v =  -13.858219238707896 > -0.7\n",
      "Ldif_H2 =  -22.02832419531923 [дБ]\n",
      "v =  -13.98854687417134 > -0.7\n",
      "Ldif_H2 =  -22.10884344284902 [дБ]\n",
      "v =  -14.105436114549299 > -0.7\n",
      "Ldif_H2 =  -22.18043221300617 [дБ]\n",
      "v =  -14.210906687004234 > -0.7\n",
      "Ldif_H2 =  -22.244526337179245 [дБ]\n",
      "v =  -14.306584324763175 > -0.7\n",
      "Ldif_H2 =  -22.30226399484942 [дБ]\n",
      "v =  -14.393794344256104 > -0.7\n",
      "Ldif_H2 =  -22.354560299308204 [дБ]\n",
      "v =  -14.473629254022159 > -0.7\n",
      "Ldif_H2 =  -22.402160204481902 [дБ]\n",
      "v =  -14.546998572992859 > -0.7\n",
      "Ldif_H2 =  -22.44567683468057 [дБ]\n"
     ]
    }
   ],
   "source": [
    "Ldif_H2 = np.zeros(11,)\n",
    "for i in range(11,):\n",
    "    h = H2 - (hT + a*((hR-hT)/(a+b[i])))\n",
    "    d1 = math.sqrt(a**2 + (H1-hT)**2)\n",
    "    d2 = math.sqrt(b[i]**2 + (H2-hR)**2)\n",
    "    v = h*math.sqrt((2/la)*(1/d1 + 1/d2))\n",
    "    print('v = ', v, '> -0.7')\n",
    "    Ldif_H2[i] = 6.9 + 20*math.log10(math.sqrt((v-0.1)**2+1)+v-0.1)\n",
    "    print('Ldif_H2 = ', Ldif_H2[i], '[дБ]')"
   ]
  },
  {
   "cell_type": "code",
   "execution_count": 75,
   "id": "cf5f84fb",
   "metadata": {},
   "outputs": [
    {
     "data": {
      "text/plain": [
       "<matplotlib.legend.Legend at 0x28d95eb5820>"
      ]
     },
     "execution_count": 75,
     "metadata": {},
     "output_type": "execute_result"
    },
    {
     "data": {
      "image/png": "[encoded data removed]",
      "text/plain": [
       "<Figure size 432x288 with 1 Axes>"
      ]
     },
     "metadata": {
      "needs_background": "light"
     },
     "output_type": "display_data"
    }
   ],
   "source": [
    "d = a + b\n",
    "plt.plot(d, Ldif_H1, '-', label = 'Потери при H1 = 44м и Потери в своб.пр')\n",
    "plt.plot(d, Ldif_H2, '--', label = 'Потери при H2 = 20м и Потери в своб.пр')\n",
    "plt.plot(d, L0, '-.', label = 'Потери в свободном пространстве')\n",
    "plt.xlabel('км')\n",
    "plt.ylabel('дБ')\n",
    "plt.legend()\n"
   ]
  },
  {
   "cell_type": "code",
   "execution_count": 76,
   "id": "5725217d",
   "metadata": {},
   "outputs": [
    {
     "data": {
      "text/plain": [
       "<matplotlib.legend.Legend at 0x28d95f153d0>"
      ]
     },
     "execution_count": 76,
     "metadata": {},
     "output_type": "execute_result"
    },
    {
     "data": {
      "image/png": "[encoded data removed]",
      "text/plain": [
       "<Figure size 432x288 with 1 Axes>"
      ]
     },
     "metadata": {
      "needs_background": "light"
     },
     "output_type": "display_data"
    }
   ],
   "source": [
    "plt.plot(d, Ldif_H1, '-', label = 'Потери при H1 = 44м')\n",
    "plt.plot(d, Ldif_H2, '-', label = 'Потери при H1 = 20м')\n",
    "plt.xlabel('км')\n",
    "plt.ylabel('дБ')\n",
    "#plt.title('График зависимости величины потерь на дифракцию на клине в дБ')\n",
    "plt.legend()"
   ]
  },
  {
   "cell_type": "markdown",
   "id": "fce66610",
   "metadata": {},
   "source": [
    "### 4. Вывод: \n",
    ">Потери в свободном пространстве являются преобладающими"
   ]
  },
  {
   "cell_type": "code",
   "execution_count": null,
   "id": "ab68f22d",
   "metadata": {},
   "outputs": [],
   "source": []
  },
  {
   "cell_type": "code",
   "execution_count": null,
   "id": "7a3094d2",
   "metadata": {},
   "outputs": [],
   "source": []
  }
 ],
 "metadata": {
  "kernelspec": {
   "display_name": "Python 3 (ipykernel)",
   "language": "python",
   "name": "python3"
  },
  "language_info": {
   "codemirror_mode": {
    "name": "ipython",
    "version": 3
   },
   "file_extension": ".py",
   "mimetype": "text/x-python",
   "name": "python",
   "nbconvert_exporter": "python",
   "pygments_lexer": "ipython3",
   "version": "3.9.7"
  }
 },
 "nbformat": 4,
 "nbformat_minor": 5
}
