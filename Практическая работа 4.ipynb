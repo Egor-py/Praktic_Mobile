{
 "cells": [
  {
   "cell_type": "markdown",
   "id": "04527cd5",
   "metadata": {},
   "source": [
    "<h1><center>Практическая работа 4</center></h1>\n",
    "<h1><center>Оценка потерь на трассе радиоканала в случает дифракции на клине при одном препядствии</center></h1>\n",
    "<h4>Выполнил Дмитриев Егор ИКТУ-88 Вариант 3</h4>"
   ]
  },
  {
   "cell_type": "markdown",
   "id": "c16e4ad1",
   "metadata": {},
   "source": [
    "### Цель работы: \n",
    ">Целью данной работы является ознакомление с механизмом дифракции радиосигала на клине при одном препядствии, в также принципами оценки величины потерь, вызываемых данным типом дифракции"
   ]
  },
  {
   "cell_type": "markdown",
   "id": "29aa30c5",
   "metadata": {},
   "source": [
    "### 1. Выбор значений по номеру варианта \n",
    "$ f = 600 МГц; h_T = 42 м; h_R = 22м; a = 7км; b = 12км;  H'_1 = 44м; H'_2 = 20м $"
   ]
  },
  {
   "cell_type": "markdown",
   "id": "8e97c5f0",
   "metadata": {},
   "source": [
    "### 2.Расчет потерь при изменении $a$"
   ]
  },
  {
   "cell_type": "code",
<<<<<<< HEAD
   "execution_count": 1,
=======
   "execution_count": 65,
>>>>>>> 60016208b276b5d7579f6e35022ac5827254751a
   "id": "ad91481b",
   "metadata": {},
   "outputs": [],
   "source": [
    "import numpy as np\n",
    "import matplotlib.pyplot as plt\n",
    "import math\n",
    "\n",
    "f = 600\n",
    "hT = 42\n",
    "hR = 22\n",
    "H1 = 44\n",
    "H2 = 20"
   ]
  },
  {
   "cell_type": "code",
<<<<<<< HEAD
   "execution_count": 2,
=======
   "execution_count": 66,
>>>>>>> 60016208b276b5d7579f6e35022ac5827254751a
   "id": "82841b0a",
   "metadata": {},
   "outputs": [],
   "source": [
    "b = 12\n",
    "k = 5\n",
    "a = np.zeros(11,)\n",
    "for i in range(11):\n",
    "    a[i] = k\n",
    "    k += 1"
   ]
  },
  {
   "cell_type": "code",
<<<<<<< HEAD
   "execution_count": 3,
=======
   "execution_count": 67,
>>>>>>> 60016208b276b5d7579f6e35022ac5827254751a
   "id": "cc7c5460",
   "metadata": {},
   "outputs": [
    {
     "name": "stdout",
     "output_type": "stream",
     "text": [
<<<<<<< HEAD
      "v =  0.002367855057632238 > -0,7\n",
      "Ldif_H1 =  6.053319447043247 [дБ]\n",
      "v =  0.002439128456447751 > -0,7\n",
      "Ldif_H1 =  6.053935592457224 [дБ]\n",
      "v =  0.002494639427483787 > -0,7\n",
      "Ldif_H1 =  6.054415477524383 [дБ]\n",
      "v =  0.002539071930777445 > -0,7\n",
      "Ldif_H1 =  6.054799592544331 [дБ]\n",
      "v =  0.0025753490470379558 > -0,7\n",
      "Ldif_H1 =  6.055113206194117 [дБ]\n",
      "v =  0.0026054187253257877 > -0,7\n",
      "Ldif_H1 =  6.055373157720576 [дБ]\n",
      "v =  0.0026306440179102095 > -0,7\n",
      "Ldif_H1 =  6.055591230250034 [дБ]\n",
      "v =  0.002652014528930986 > -0,7\n",
      "Ldif_H1 =  6.055775978627139 [дБ]\n",
      "v =  0.0026702695214700753 > -0,7\n",
      "Ldif_H1 =  6.055933793603399 [дБ]\n",
      "v =  0.0026859738928430876 > -0,7\n",
      "Ldif_H1 =  6.056069558602895 [дБ]\n",
      "v =  0.0026995673254051633 > -0,7\n",
      "Ldif_H1 =  6.056187074607025 [дБ]\n"
=======
      "v =  7.487815151267135 > -0,7\n",
      "Ldif_H1 =  30.330434988442747 [дБ]\n",
      "v =  7.713201428105705 > -0,7\n",
      "Ldif_H1 =  30.58917070469019 [дБ]\n",
      "v =  7.888742531707217 > -0,7\n",
      "Ldif_H1 =  30.785522381511903 [дБ]\n",
      "v =  8.029250444258109 > -0,7\n",
      "Ldif_H1 =  30.939575855678704 [дБ]\n",
      "v =  8.143968758584052 > -0,7\n",
      "Ldif_H1 =  31.063373929323078 [дБ]\n",
      "v =  8.239057430482113 > -0,7\n",
      "Ldif_H1 =  31.16467793523116 [дБ]\n",
      "v =  8.318826809693041 > -0,7\n",
      "Ldif_H1 =  31.248766054398864 [дБ]\n",
      "v =  8.386406299280427 > -0,7\n",
      "Ldif_H1 =  31.319377431557655 [дБ]\n",
      "v =  8.44413365437333 > -0,7\n",
      "Ldif_H1 =  31.37924660582469 [дБ]\n",
      "v =  8.493795237133194 > -0,7\n",
      "Ldif_H1 =  31.43042491625227 [дБ]\n",
      "v =  8.536781445249249 > -0,7\n",
      "Ldif_H1 =  31.47448349571505 [дБ]\n"
>>>>>>> 60016208b276b5d7579f6e35022ac5827254751a
     ]
    }
   ],
   "source": [
<<<<<<< HEAD
    "la = 3*10**8/f*10\n",
=======
    "la = 3*10**8/(f*10**6)\n",
>>>>>>> 60016208b276b5d7579f6e35022ac5827254751a
    "Ldif_H1 = np.zeros(11,)\n",
    "for i in range(11):\n",
    "    h = H1 - (hT + a[i]*((hR-hT)/(a[i]+b)))\n",
    "    d1 = math.sqrt(a[i]**2 + (H1-hT)**2)\n",
    "    d2 = math.sqrt(b**2 + (H1-hR)**2)\n",
    "    v = h*math.sqrt((2/la)*(1/d1 + 1/d2))\n",
    "    print('v = ', v, '> -0,7')\n",
    "    Ldif_H1[i] = 6.9 + 20*math.log10(math.sqrt((v-0.1)**2+1)+v-0.1)\n",
    "    print('Ldif_H1 = ', Ldif_H1[i], '[дБ]')"
   ]
  },
  {
   "cell_type": "code",
<<<<<<< HEAD
   "execution_count": 4,
=======
   "execution_count": 68,
>>>>>>> 60016208b276b5d7579f6e35022ac5827254751a
   "id": "6184f721",
   "metadata": {},
   "outputs": [
    {
     "name": "stdout",
     "output_type": "stream",
     "text": [
<<<<<<< HEAD
      "v =  -0.005276109554760897 > -0.7\n",
      "Ldif_H2 =  5.98726405093744 [дБ]\n",
      "v =  -0.004753960243908383 > -0.7\n",
      "Ldif_H2 =  5.9917745789658525 [дБ]\n",
      "v =  -0.004336085714782817 > -0.7\n",
      "Ldif_H2 =  5.995384516894422 [дБ]\n",
      "v =  -0.003993975062991036 > -0.7\n",
      "Ldif_H2 =  5.998340061156136 [дБ]\n",
      "v =  -0.0037084718108543256 > -0.7\n",
      "Ldif_H2 =  6.000806645408753 [дБ]\n",
      "v =  -0.0034663499103158046 > -0.7\n",
      "Ldif_H2 =  6.002898496309571 [дБ]\n",
      "v =  -0.003258218799036527 > -0.7\n",
      "Ldif_H2 =  6.004696719794184 [дБ]\n",
      "v =  -0.0030772360437230977 > -0.7\n",
      "Ldif_H2 =  6.006260416392282 [дБ]\n",
      "v =  -0.0029182989033003184 > -0.7\n",
      "Ldif_H2 =  6.007633662002954 [дБ]\n",
      "v =  -0.0027775231490906245 > -0.7\n",
      "Ldif_H2 =  6.00885000851925 [дБ]\n",
      "v =  -0.0026518981051476876 > -0.7\n",
      "Ldif_H2 =  6.00993546286859 [дБ]\n"
=======
      "v =  -15.310905607814886 > -0,7\n",
      "Ldif_H2 =  -22.8862919131074 [дБ]\n",
      "v =  -13.646433295879332 > -0,7\n",
      "Ldif_H2 =  -21.8958691904066 [дБ]\n",
      "v =  -12.320620358509032 > -0,7\n",
      "Ldif_H2 =  -21.017507199830163 [дБ]\n",
      "v =  -11.240950621961352 > -0,7\n",
      "Ldif_H2 =  -20.230423315047666 [дБ]\n",
      "v =  -10.345041396039205 > -0,7\n",
      "Ldif_H2 =  -19.518638863782655 [дБ]\n",
      "v =  -9.589722583020158 > -0,7\n",
      "Ldif_H2 =  -18.86986260796799 [дБ]\n",
      "v =  -8.944302509669967 > -0,7\n",
      "Ldif_H2 =  -18.27452694433226 [дБ]\n",
      "v =  -8.386406299280427 > -0,7\n",
      "Ldif_H2 =  -17.72507186915545 [дБ]\n",
      "v =  -7.899350837962149 > -0,7\n",
      "Ldif_H2 =  -17.215432409542473 [дБ]\n",
      "v =  -7.470446413382205 > -0,7\n",
      "Ldif_H2 =  -16.740673012287253 [дБ]\n",
      "v =  -7.08986933588497 > -0,7\n",
      "Ldif_H2 =  -16.296724479842368 [дБ]\n"
>>>>>>> 60016208b276b5d7579f6e35022ac5827254751a
     ]
    }
   ],
   "source": [
    "Ldif_H2 = np.zeros(11,)\n",
    "for i in range(11):\n",
    "    h = H2 - (hT + a[i]*((hR-hT)/(a[i]+b)))\n",
    "    d1 = math.sqrt(a[i]**2 + (H1-hT)**2)\n",
    "    d2 = math.sqrt(b**2 + (H1-hR)**2)\n",
    "    v = h*math.sqrt((2/la)*(1/d1 + 1/d2))\n",
    "    print('v = ', v, '> -0,7')\n",
    "    Ldif_H2[i] = 6.9 + 20*math.log10(math.sqrt((v-0.1)**2+1)+v-0.1)\n",
    "    print('Ldif_H2 = ', Ldif_H2[i], '[дБ]')"
   ]
  },
  {
   "cell_type": "code",
<<<<<<< HEAD
   "execution_count": 5,
=======
   "execution_count": 69,
>>>>>>> 60016208b276b5d7579f6e35022ac5827254751a
   "id": "762c4be1",
   "metadata": {},
   "outputs": [
    {
     "name": "stdout",
     "output_type": "stream",
     "text": [
      "L0 =  112.61200343523834 [дБ]\n",
      "L0 =  113.10847510973899 [дБ]\n",
      "L0 =  113.57809702672944 [дБ]\n",
      "L0 =  114.0236249209525 [дБ]\n",
      "L0 =  114.44741090235127 [дБ]\n",
      "L0 =  114.851478624117 [дБ]\n",
      "L0 =  115.23758172802474 [дБ]\n",
      "L0 =  115.60724984190499 [дБ]\n",
      "L0 =  115.96182518111362 [дБ]\n",
      "L0 =  116.30249196708922 [дБ]\n",
      "L0 =  116.63030029085262 [дБ]\n"
     ]
    }
   ],
   "source": [
    "L0 = np.zeros(11,)\n",
    "for i in range(11,):\n",
    "    L0[i] = 32.44 + 20*math.log10(a[i] + b) + 20*math.log10(f)\n",
    "    print('L0 = ', L0[i], '[дБ]')"
   ]
  },
  {
   "cell_type": "code",
<<<<<<< HEAD
   "execution_count": 6,
=======
   "execution_count": 70,
>>>>>>> 60016208b276b5d7579f6e35022ac5827254751a
   "id": "07926b2c",
   "metadata": {},
   "outputs": [
    {
     "data": {
      "text/plain": [
<<<<<<< HEAD
       "<matplotlib.legend.Legend at 0x7f96936528b0>"
      ]
     },
     "execution_count": 6,
=======
       "<matplotlib.legend.Legend at 0x28d95ed8880>"
      ]
     },
     "execution_count": 70,
>>>>>>> 60016208b276b5d7579f6e35022ac5827254751a
     "metadata": {},
     "output_type": "execute_result"
    },
    {
     "data": {
<<<<<<< HEAD
      "image/png": "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\n",
=======
      "image/png": "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\n",
>>>>>>> 60016208b276b5d7579f6e35022ac5827254751a
      "text/plain": [
       "<Figure size 432x288 with 1 Axes>"
      ]
     },
     "metadata": {
      "needs_background": "light"
     },
     "output_type": "display_data"
    }
   ],
   "source": [
    "d = a + b\n",
    "plt.plot(d, Ldif_H1, '-', label = 'Потери при H1 = 44м и Потери в своб.пр')\n",
    "plt.plot(d, Ldif_H2, '--', label = 'Потери при H2 = 20м и Потери в своб.пр')\n",
    "plt.plot(d, L0, '-.', label = 'Потери в свободном пространстве')\n",
    "plt.xlabel('км')\n",
    "plt.ylabel('дБ')\n",
    "plt.legend()"
   ]
  },
  {
   "cell_type": "code",
<<<<<<< HEAD
   "execution_count": 7,
=======
   "execution_count": 71,
>>>>>>> 60016208b276b5d7579f6e35022ac5827254751a
   "id": "e792906c",
   "metadata": {},
   "outputs": [
    {
     "data": {
      "text/plain": [
<<<<<<< HEAD
       "<matplotlib.legend.Legend at 0x7f96937897f0>"
      ]
     },
     "execution_count": 7,
=======
       "<matplotlib.legend.Legend at 0x28d95a9c910>"
      ]
     },
     "execution_count": 71,
>>>>>>> 60016208b276b5d7579f6e35022ac5827254751a
     "metadata": {},
     "output_type": "execute_result"
    },
    {
     "data": {
<<<<<<< HEAD
      "image/png": "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\n",
=======
      "image/png": "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\n",
>>>>>>> 60016208b276b5d7579f6e35022ac5827254751a
      "text/plain": [
       "<Figure size 432x288 with 1 Axes>"
      ]
     },
     "metadata": {
      "needs_background": "light"
     },
     "output_type": "display_data"
    }
   ],
   "source": [
    "d = a + b\n",
    "\n",
    "plt.plot(d, Ldif_H1, '-', label = 'Потери при H1 = 44м')\n",
    "plt.plot(d, Ldif_H2, '-', label = 'Потери при H1 = 20м')\n",
    "plt.xlabel('км')\n",
    "plt.ylabel('дБ')\n",
    "#plt.title('График зависимости величины потерь на дифракцию на клине в дБ')\n",
    "plt.legend()"
   ]
  },
  {
   "cell_type": "markdown",
   "id": "b65ce5e3",
   "metadata": {},
   "source": [
    "### 3.Расчет потерь при изменении $b$"
   ]
  },
  {
   "cell_type": "code",
<<<<<<< HEAD
   "execution_count": 8,
=======
   "execution_count": 72,
>>>>>>> 60016208b276b5d7579f6e35022ac5827254751a
   "id": "d938cb8e",
   "metadata": {},
   "outputs": [],
   "source": [
    "a = 7\n",
    "k = 10\n",
    "b = np.zeros(11,)\n",
    "for i in range(11):\n",
    "    b[i] = k\n",
    "    k += 1"
   ]
  },
  {
   "cell_type": "code",
<<<<<<< HEAD
   "execution_count": 9,
=======
   "execution_count": 73,
>>>>>>> 60016208b276b5d7579f6e35022ac5827254751a
   "id": "03147dfe",
   "metadata": {},
   "outputs": [
    {
     "name": "stdout",
     "output_type": "stream",
     "text": [
<<<<<<< HEAD
      "v =  0.0027367948389849205 > -0,7\n",
      "Ldif_H1 =  6.056508909385249 [дБ]\n",
      "v =  0.002609156316456865 > -0,7\n",
      "Ldif_H1 =  6.055405469143907 [дБ]\n",
      "v =  0.002494639427483787 > -0,7\n",
      "Ldif_H1 =  6.054415477524383 [дБ]\n",
      "v =  0.0023913160079448203 > -0,7\n",
      "Ldif_H1 =  6.053522262171654 [дБ]\n",
      "v =  0.0022976234857623825 > -0,7\n",
      "Ldif_H1 =  6.052712312185769 [дБ]\n",
      "v =  0.0022122812768669447 > -0,7\n",
      "Ldif_H1 =  6.051974555100546 [дБ]\n",
      "v =  0.0021342291540899843 > -0,7\n",
      "Ldif_H1 =  6.051299823901559 [дБ]\n",
      "v =  0.0020625811590831754 > -0,7\n",
      "Ldif_H1 =  6.050680458468581 [дБ]\n",
      "v =  0.001996590682424153 > -0,7\n",
      "Ldif_H1 =  6.050110003603941 [дБ]\n",
      "v =  0.0019356236831157385 > -0,7\n",
      "Ldif_H1 =  6.04958297745112 [дБ]\n",
      "v =  0.0018791379175872624 > -0,7\n",
      "Ldif_H1 =  6.049094691883059 [дБ]\n"
=======
      "v =  8.654505179786131 > -0,7\n",
      "Ldif_H1 =  31.594020082578275 [дБ]\n",
      "v =  8.250876731418764 > -0,7\n",
      "Ldif_H1 =  31.17718824429251 [дБ]\n",
      "v =  7.888742531707217 > -0,7\n",
      "Ldif_H1 =  30.785522381511903 [дБ]\n",
      "v =  7.562005190326937 > -0,7\n",
      "Ldif_H1 =  30.41644887711447 [дБ]\n",
      "v =  7.265723420504583 > -0,7\n",
      "Ldif_H1 =  30.067784856983224 [дБ]\n",
      "v =  6.995847659845116 > -0,7\n",
      "Ldif_H1 =  29.737661657521286 [дБ]\n",
      "v =  6.749025175658815 > -0,7\n",
      "Ldif_H1 =  29.42446572476055 [дБ]\n",
      "v =  6.522454321652927 > -0,7\n",
      "Ldif_H1 =  29.126792542028376 [дБ]\n",
      "v =  6.313774111530239 > -0,7\n",
      "Ldif_H1 =  28.843410404891706 [дБ]\n",
      "v =  6.120979531609738 > -0,7\n",
      "Ldif_H1 =  28.573231709490095 [дБ]\n",
      "v =  5.942355857161529 > -0,7\n",
      "Ldif_H1 =  28.31529002017036 [дБ]\n"
>>>>>>> 60016208b276b5d7579f6e35022ac5827254751a
     ]
    }
   ],
   "source": [
<<<<<<< HEAD
    "la = 3*10**8/f*10\n",
=======
    "la = 3*10**8/(f*10**6)\n",
>>>>>>> 60016208b276b5d7579f6e35022ac5827254751a
    "Ldif_H1 = np.zeros(11,)\n",
    "for i in range(11):\n",
    "    h = H1 - (hT + a*((hR-hT)/(a+b[i])))\n",
    "    d1 = math.sqrt(a**2 + (H1-hT)**2)\n",
    "    d2 = math.sqrt(b[i]**2 + (H1-hR)**2)\n",
    "    v = h*math.sqrt((2/la)*(1/d1 + 1/d2))\n",
    "    print('v = ', v, '> -0,7')\n",
    "    Ldif_H1[i] = 6.9 + 20*math.log10(math.sqrt((v-0.1)**2+1)+v-0.1)\n",
    "    print('Ldif_H1 = ', Ldif_H1[i], '[дБ]')"
   ]
  },
  {
   "cell_type": "code",
<<<<<<< HEAD
   "execution_count": 10,
=======
   "execution_count": 74,
>>>>>>> 60016208b276b5d7579f6e35022ac5827254751a
   "id": "ced50413",
   "metadata": {},
   "outputs": [
    {
     "name": "stdout",
     "output_type": "stream",
     "text": [
<<<<<<< HEAD
      "v =  -0.004223936173659874 > -0.7\n",
      "Ldif_H2 =  5.996353381801036 [дБ]\n",
      "v =  -0.004283730340137003 > -0.7\n",
      "Ldif_H2 =  5.9958368159249265 [дБ]\n",
      "v =  -0.004336085714782817 > -0.7\n",
      "Ldif_H2 =  5.995384516894422 [дБ]\n",
      "v =  -0.004382353710828162 > -0.7\n",
      "Ldif_H2 =  5.994984808872291 [дБ]\n",
      "v =  -0.004423566927841023 > -0.7\n",
      "Ldif_H2 =  5.994628770563629 [дБ]\n",
      "v =  -0.004460530551197152 > -0.7\n",
      "Ldif_H2 =  5.994309445508268 [дБ]\n",
      "v =  -0.004493883274705093 > -0.7\n",
      "Ldif_H2 =  5.994021315703305 [дБ]\n",
      "v =  -0.00452413920035137 > -0.7\n",
      "Ldif_H2 =  5.9937599395882515 [дБ]\n",
      "v =  -0.004551717429989905 > -0.7\n",
      "Ldif_H2 =  5.9935216963741595 [дБ]\n",
      "v =  -0.0045769634451553794 > -0.7\n",
      "Ldif_H2 =  5.993303601324355 [дБ]\n",
      "v =  -0.004600164860987661 > -0.7\n",
      "Ldif_H2 =  5.993103169643208 [дБ]\n"
=======
      "v =  -13.357258999941724 > -0.7\n",
      "Ldif_H2 =  -21.71169798451914 [дБ]\n",
      "v =  -13.546344756800739 > -0.7\n",
      "Ldif_H2 =  -21.83256390088674 [дБ]\n",
      "v =  -13.71190698843294 > -0.7\n",
      "Ldif_H2 =  -21.937033249888763 [дБ]\n",
      "v =  -13.858219238707896 > -0.7\n",
      "Ldif_H2 =  -22.02832419531923 [дБ]\n",
      "v =  -13.98854687417134 > -0.7\n",
      "Ldif_H2 =  -22.10884344284902 [дБ]\n",
      "v =  -14.105436114549299 > -0.7\n",
      "Ldif_H2 =  -22.18043221300617 [дБ]\n",
      "v =  -14.210906687004234 > -0.7\n",
      "Ldif_H2 =  -22.244526337179245 [дБ]\n",
      "v =  -14.306584324763175 > -0.7\n",
      "Ldif_H2 =  -22.30226399484942 [дБ]\n",
      "v =  -14.393794344256104 > -0.7\n",
      "Ldif_H2 =  -22.354560299308204 [дБ]\n",
      "v =  -14.473629254022159 > -0.7\n",
      "Ldif_H2 =  -22.402160204481902 [дБ]\n",
      "v =  -14.546998572992859 > -0.7\n",
      "Ldif_H2 =  -22.44567683468057 [дБ]\n"
>>>>>>> 60016208b276b5d7579f6e35022ac5827254751a
     ]
    }
   ],
   "source": [
    "Ldif_H2 = np.zeros(11,)\n",
    "for i in range(11,):\n",
    "    h = H2 - (hT + a*((hR-hT)/(a+b[i])))\n",
    "    d1 = math.sqrt(a**2 + (H1-hT)**2)\n",
    "    d2 = math.sqrt(b[i]**2 + (H2-hR)**2)\n",
    "    v = h*math.sqrt((2/la)*(1/d1 + 1/d2))\n",
    "    print('v = ', v, '> -0.7')\n",
    "    Ldif_H2[i] = 6.9 + 20*math.log10(math.sqrt((v-0.1)**2+1)+v-0.1)\n",
    "    print('Ldif_H2 = ', Ldif_H2[i], '[дБ]')"
   ]
  },
  {
   "cell_type": "code",
<<<<<<< HEAD
   "execution_count": 13,
=======
   "execution_count": 75,
>>>>>>> 60016208b276b5d7579f6e35022ac5827254751a
   "id": "cf5f84fb",
   "metadata": {},
   "outputs": [
    {
     "data": {
      "text/plain": [
<<<<<<< HEAD
       "<matplotlib.legend.Legend at 0x7f9693b72ca0>"
      ]
     },
     "execution_count": 13,
=======
       "<matplotlib.legend.Legend at 0x28d95eb5820>"
      ]
     },
     "execution_count": 75,
>>>>>>> 60016208b276b5d7579f6e35022ac5827254751a
     "metadata": {},
     "output_type": "execute_result"
    },
    {
     "data": {
<<<<<<< HEAD
      "image/png": "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\n",
=======
      "image/png": "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\n",
>>>>>>> 60016208b276b5d7579f6e35022ac5827254751a
      "text/plain": [
       "<Figure size 432x288 with 1 Axes>"
      ]
     },
     "metadata": {
      "needs_background": "light"
     },
     "output_type": "display_data"
    }
   ],
   "source": [
    "d = a + b\n",
    "plt.plot(d, Ldif_H1, '-', label = 'Потери при H1 = 44м и Потери в своб.пр')\n",
    "plt.plot(d, Ldif_H2, '--', label = 'Потери при H2 = 20м и Потери в своб.пр')\n",
    "plt.plot(d, L0, '-.', label = 'Потери в свободном пространстве')\n",
    "plt.xlabel('км')\n",
    "plt.ylabel('дБ')\n",
    "plt.legend()\n"
   ]
  },
  {
   "cell_type": "code",
<<<<<<< HEAD
   "execution_count": 12,
=======
   "execution_count": 76,
>>>>>>> 60016208b276b5d7579f6e35022ac5827254751a
   "id": "5725217d",
   "metadata": {},
   "outputs": [
    {
     "data": {
      "text/plain": [
<<<<<<< HEAD
       "<matplotlib.legend.Legend at 0x7f9693afb760>"
      ]
     },
     "execution_count": 12,
=======
       "<matplotlib.legend.Legend at 0x28d95f153d0>"
      ]
     },
     "execution_count": 76,
>>>>>>> 60016208b276b5d7579f6e35022ac5827254751a
     "metadata": {},
     "output_type": "execute_result"
    },
    {
     "data": {
<<<<<<< HEAD
      "image/png": "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\n",
=======
      "image/png": "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\n",
>>>>>>> 60016208b276b5d7579f6e35022ac5827254751a
      "text/plain": [
       "<Figure size 432x288 with 1 Axes>"
      ]
     },
     "metadata": {
      "needs_background": "light"
     },
     "output_type": "display_data"
    }
   ],
   "source": [
    "plt.plot(d, Ldif_H1, '-', label = 'Потери при H1 = 44м')\n",
    "plt.plot(d, Ldif_H2, '-', label = 'Потери при H1 = 20м')\n",
    "plt.xlabel('км')\n",
    "plt.ylabel('дБ')\n",
    "#plt.title('График зависимости величины потерь на дифракцию на клине в дБ')\n",
    "plt.legend()"
   ]
  },
  {
   "cell_type": "markdown",
   "id": "fce66610",
   "metadata": {},
   "source": [
    "### 4. Вывод: \n",
    ">Потери в свободном пространстве являются преобладающими"
   ]
  },
  {
   "cell_type": "code",
   "execution_count": null,
   "id": "ab68f22d",
   "metadata": {},
   "outputs": [],
   "source": []
  },
  {
   "cell_type": "code",
   "execution_count": null,
   "id": "7a3094d2",
   "metadata": {},
   "outputs": [],
   "source": []
  }
 ],
 "metadata": {
  "kernelspec": {
   "display_name": "Python 3 (ipykernel)",
   "language": "python",
   "name": "python3"
  },
  "language_info": {
   "codemirror_mode": {
    "name": "ipython",
    "version": 3
   },
   "file_extension": ".py",
   "mimetype": "text/x-python",
   "name": "python",
   "nbconvert_exporter": "python",
   "pygments_lexer": "ipython3",
   "version": "3.9.7"
  }
 },
 "nbformat": 4,
 "nbformat_minor": 5
}
