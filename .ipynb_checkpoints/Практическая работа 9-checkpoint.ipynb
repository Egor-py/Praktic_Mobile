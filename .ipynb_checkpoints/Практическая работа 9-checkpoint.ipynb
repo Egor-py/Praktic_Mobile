{
 "cells": [
  {
   "cell_type": "markdown",
   "id": "4c64c7ce",
   "metadata": {},
   "source": [
    "<h1><center>Практическая работа 9</center></h1>\n",
    "<h1><center>Расчет параметров сети 802.16e (мобильный WiMAX)</center></h1>\n",
    "<h4>Выполнил Дмитриев Егор ИКТУ-88 Вариант 3</h4>"
   ]
  },
  {
   "cell_type": "markdown",
   "id": "d66e7dc6",
   "metadata": {},
   "source": [
    "### Цель работы:\n",
    "> Ознакомиться с принципами расчета параметров сети 802.16e (мобильный WiMAX)."
   ]
  },
  {
   "cell_type": "markdown",
   "id": "af52dbff",
   "metadata": {},
   "source": [
    "### 1. Выбор значений в соответсвии с вариантом"
   ]
  },
  {
   "cell_type": "markdown",
   "id": "d0e39368",
   "metadata": {},
   "source": [
    "$ f = 2,5ГГц; B = 10МГц; $\\\n",
    "Схема модуляции - $QAM-16 (1/2)$\\\n",
    "$h_{bs} = 30; P_{Txbs} = 32; G_{Txbs} = 16; G_{Rxbs} = 16; h_{ms} = 4; P_{Txms} = 27; G_{Txms} = 1; G_{Rxms} = 1$"
   ]
  },
  {
   "cell_type": "markdown",
   "id": "5713c26b",
   "metadata": {},
   "source": [
    "### 2. Расчет чувствительности приемников БС и МС"
   ]
  },
  {
   "cell_type": "code",
   "execution_count": 36,
   "id": "d34d5e44",
   "metadata": {},
   "outputs": [],
   "source": [
    "import numpy as np\n",
    "import matplotlib.pyplot as plt\n",
    "import math\n",
    "\n",
    "f = 2.5\n",
    "B = 10\n",
    "h_bs = 30\n",
    "P_Txbs = 32\n",
    "G_Txbs = 16\n",
    "G_Rxbs = 16\n",
    "h_ms = 4\n",
    "P_Txms = 27\n",
    "G_Txms = 1\n",
    "G_Rxms = 1\n",
    "\n",
    "N_all = 1024\n",
    "N_use = 841\n",
    "N_DLdata = 720\n",
    "N_ULdata = 560\n",
    "n = 28/25\n",
    "\n",
    "K_SNR = 10.5\n",
    "R_symb = 2\n",
    "K_n = 7\n",
    "L_I = 5\n",
    "L_f = 2\n",
    "I_DL = 2\n",
    "I_UL = 3"
   ]
  },
  {
   "cell_type": "code",
   "execution_count": 5,
   "id": "2d231a41",
   "metadata": {},
   "outputs": [
    {
     "name": "stdout",
     "output_type": "stream",
     "text": [
      "Чувствительность приемника = -81.86285938171719 [дБ]\n"
     ]
    }
   ],
   "source": [
    "df = B*10**6 * n * (N_use/N_all)\n",
    "Phn = -174 + 10*math.log10(df)\n",
    "S_R = Phn + K_SNR + K_n + L_I\n",
    "print('Чувствительность приемника =', S_R, '[дБ]')"
   ]
  },
  {
   "cell_type": "markdown",
   "id": "c8733d5b",
   "metadata": {},
   "source": [
    "### 3. Расчет бюджета линии для нисходящего и восходящего направлений для кажого из 4 типов застройки"
   ]
  },
  {
   "cell_type": "markdown",
   "id": "7e677d39",
   "metadata": {},
   "source": [
    "#### Для нисходящего направления"
   ]
  },
  {
   "cell_type": "code",
   "execution_count": 12,
   "id": "8cd2b55a",
   "metadata": {},
   "outputs": [
    {
     "name": "stdout",
     "output_type": "stream",
     "text": [
      "P_DL =  120.36285938171719\n",
      "P_DL =  121.36285938171719\n",
      "P_DL =  124.36285938171719\n",
      "P_DL =  129.3628593817172\n"
     ]
    }
   ],
   "source": [
    "U_C = np.array([-4, -3, 0, 5])\n",
    "P_DL = np.zeros(4,)\n",
    "for i in range(4):\n",
    "    P_DL[i] = P_Txbs - S_R + G_Txbs + G_Rxms - L_f - f - I_DL + U_C[i]\n",
    "    print('P_DL = ', P_DL[i])"
   ]
  },
  {
   "cell_type": "markdown",
   "id": "5aa79d14",
   "metadata": {},
   "source": [
    "#### Для восходящего направления"
   ]
  },
  {
   "cell_type": "code",
   "execution_count": 14,
   "id": "3276d012",
   "metadata": {},
   "outputs": [
    {
     "name": "stdout",
     "output_type": "stream",
     "text": [
      "P_UL =  121.36285938171719\n",
      "P_UL =  122.36285938171719\n",
      "P_UL =  125.36285938171719\n",
      "P_UL =  130.3628593817172\n"
     ]
    }
   ],
   "source": [
    "P_UL = np.zeros(4,)\n",
    "for i in range(4):\n",
    "    P_UL[i] = P_Txbs - S_R + G_Txms + G_Rxbs - f - I_UL + U_C[i]\n",
    "    print('P_UL = ', P_UL[i])"
   ]
  },
  {
   "cell_type": "markdown",
   "id": "8f51a96e",
   "metadata": {},
   "source": [
    "### 4. Расчет зависимости величины потерь на трассе радиосигнала от расстояния d между БС и МС"
   ]
  },
  {
   "cell_type": "code",
   "execution_count": 25,
   "id": "0d837466",
   "metadata": {},
   "outputs": [],
   "source": [
    "a_A = 4.6\n",
    "b_A = 0.0075\n",
    "c_A = 12.6\n",
    "s_A = 10.6\n",
    "\n",
    "a_B = 4.0\n",
    "b_B = 0.0065\n",
    "c_B = 17.1\n",
    "s_B = 9.6\n",
    "\n",
    "a_C = 3.6\n",
    "b_C = 0.0055\n",
    "c_C = 20.0\n",
    "s_C = 8.2\n",
    "\n",
    "d = np.zeros(20,)\n",
    "k = 100\n",
    "for i in range(20):\n",
    "    d[i] = k\n",
    "    k += 100"
   ]
  },
  {
   "cell_type": "markdown",
   "id": "ec4ac66f",
   "metadata": {},
   "source": [
    "#### Для ландшафта типа А"
   ]
  },
  {
   "cell_type": "code",
   "execution_count": 26,
   "id": "950080a6",
   "metadata": {},
   "outputs": [],
   "source": [
    "dL_f = 6*math.log10(f/2)\n",
    "dL_h_1 = -10.8*math.log10(h_ms/2)\n",
    "dL_h_2 = -20*math.log10(h_ms/2)\n",
    "la = 3*10**8/(f*10**9)\n",
    "d0 = 100"
   ]
  },
  {
   "cell_type": "code",
   "execution_count": 27,
   "id": "f711212f",
   "metadata": {},
   "outputs": [
    {
     "name": "stdout",
     "output_type": "stream",
     "text": [
      "L_A = 88.33090848436676 дБ\n",
      "L_A = 102.76529677645466 дБ\n",
      "L_A = 111.20887264817458 дБ\n",
      "L_A = 117.19968506854255 дБ\n",
      "L_A = 121.84652019227886 дБ\n",
      "L_A = 125.64326094026248 дБ\n",
      "L_A = 128.85335950305037 дБ\n",
      "L_A = 131.63407336063045 дБ\n",
      "L_A = 134.08683681198238 дБ\n",
      "L_A = 136.28090848436676 дБ\n",
      "L_A = 138.26568773770367 дБ\n",
      "L_A = 140.07764923235038 дБ\n",
      "L_A = 141.74449222747958 дБ\n",
      "L_A = 143.28774779513827 дБ\n",
      "L_A = 144.7244843560867 дБ\n",
      "L_A = 146.06846165271836 дБ\n",
      "L_A = 147.33093426445498 дБ\n",
      "L_A = 148.52122510407028 дБ\n",
      "L_A = 149.64714365005491 дБ\n",
      "L_A = 150.71529677645466 дБ\n"
     ]
    }
   ],
   "source": [
    "L_A = np.zeros(20,)\n",
    "gam_A = a_A - b_A * h_bs + (c_A/h_bs)\n",
    "for i in range(20):\n",
    "    L_A[i] = 20 * math.log10((4*math.pi*d0)/la) + 10 * gam_A * math.log10(d[i]/d0) + s_A + dL_f + dL_h_1\n",
    "    print('L_A =',L_A[i],'дБ')"
   ]
  },
  {
   "cell_type": "markdown",
   "id": "86c0c717",
   "metadata": {},
   "source": [
    "#### Для ландшафта типа B"
   ]
  },
  {
   "cell_type": "code",
   "execution_count": 28,
   "id": "0233ab7f",
   "metadata": {},
   "outputs": [
    {
     "name": "stdout",
     "output_type": "stream",
     "text": [
      "L_B = 87.33090848436676 дБ\n",
      "L_B = 100.50097079466593 дБ\n",
      "L_B = 108.20496337835199 дБ\n",
      "L_B = 113.67103310496512 дБ\n",
      "L_B = 117.91084617406759 дБ\n",
      "L_B = 121.37502568865116 дБ\n",
      "L_B = 124.30394773499049 дБ\n",
      "L_B = 126.8410954152643 дБ\n",
      "L_B = 129.07901827233724 дБ\n",
      "L_B = 131.08090848436677 дБ\n",
      "L_B = 132.8918384600391 дБ\n",
      "L_B = 134.54508799895035 дБ\n",
      "L_B = 136.06593014779088 дБ\n",
      "L_B = 137.47401004528967 дБ\n",
      "L_B = 138.78490106805282 дБ\n",
      "L_B = 140.01115772556346 дБ\n",
      "L_B = 141.16304879466622 дБ\n",
      "L_B = 142.2490805826364 дБ\n",
      "L_B = 143.276378526053 дБ\n",
      "L_B = 144.25097079466593 дБ\n"
     ]
    }
   ],
   "source": [
    "L_B = np.zeros(20,)\n",
    "gam_B = a_B - b_B * h_bs + (c_B/h_bs)\n",
    "for i in range(20):\n",
    "    L_B[i] = 20 * math.log10((4*math.pi*d0)/la) + 10 * gam_B * math.log10(d[i]/d0) + s_B + dL_f + dL_h_1\n",
    "    print('L_B =',L_B[i],'дБ')"
   ]
  },
  {
   "cell_type": "markdown",
   "id": "50b2a8b2",
   "metadata": {},
   "source": [
    "#### Для ландшафта типа C"
   ]
  },
  {
   "cell_type": "code",
   "execution_count": 29,
   "id": "825ea12c",
   "metadata": {},
   "outputs": [
    {
     "name": "stdout",
     "output_type": "stream",
     "text": [
      "L_C = 83.16143252425815 дБ\n",
      "L_C = 95.50867951307578 дБ\n",
      "L_C = 102.7313559886763 дБ\n",
      "L_C = 107.8559265018934 дБ\n",
      "L_C = 111.83085220210718 дБ\n",
      "L_C = 115.07860297749393 дБ\n",
      "L_C = 117.82453713217625 дБ\n",
      "L_C = 120.20317349071102 дБ\n",
      "L_C = 122.30127945309445 дБ\n",
      "L_C = 124.1780991909248 дБ\n",
      "L_C = 125.87588916049799 дБ\n",
      "L_C = 127.42584996631155 дБ\n",
      "L_C = 128.8516756913769 дБ\n",
      "L_C = 130.17178412099386 дБ\n",
      "L_C = 131.40077566652533 дБ\n",
      "L_C = 132.55042047952864 дБ\n",
      "L_C = 133.63034578279033 дБ\n",
      "L_C = 134.64852644191205 дБ\n",
      "L_C = 135.61164272334 дБ\n",
      "L_C = 136.52534617974243 дБ\n"
     ]
    }
   ],
   "source": [
    "L_C = np.zeros(20,)\n",
    "gam_C = a_C - b_C * h_bs + (c_C/h_bs)\n",
    "for i in range(20):\n",
    "    L_C[i] = 20 * math.log10((4*math.pi*d0)/la) + 10 * gam_C * math.log10(d[i]/d0) + s_C + dL_f + dL_h_2\n",
    "    print('L_C =',L_C[i],'дБ')"
   ]
  },
  {
   "cell_type": "code",
   "execution_count": 32,
   "id": "ba7c9ac2",
   "metadata": {},
   "outputs": [
    {
     "data": {
      "text/plain": [
       "<matplotlib.legend.Legend at 0x7fa893861580>"
      ]
     },
     "execution_count": 32,
     "metadata": {},
     "output_type": "execute_result"
    },
    {
     "data": {
      "image/png": "[encoded data removed]",
      "text/plain": [
       "<Figure size 432x288 with 1 Axes>"
      ]
     },
     "metadata": {
      "needs_background": "light"
     },
     "output_type": "display_data"
    }
   ],
   "source": [
    "plt.plot(d, L_A, label = 'Потери при ландшафте A')\n",
    "plt.plot(d, L_B, label = 'Потери при ландшафте B')\n",
    "plt.plot(d, L_C, label = 'Потери при ландшафте C')\n",
    "plt.xlabel('м')\n",
    "plt.ylabel('дБ')\n",
    "plt.title('Графики зависимости величины потерь на трассе радиосигнала от расстояния d между БС и МС.')\n",
    "plt.grid()\n",
    "plt.legend()"
   ]
  },
  {
   "cell_type": "code",
   "execution_count": 33,
   "id": "888b0c36",
   "metadata": {},
   "outputs": [
    {
     "data": {
      "text/plain": [
       "<matplotlib.legend.Legend at 0x7fa8939d4310>"
      ]
     },
     "execution_count": 33,
     "metadata": {},
     "output_type": "execute_result"
    },
    {
     "data": {
      "image/png": "[encoded data removed]",
      "text/plain": [
       "<Figure size 432x288 with 1 Axes>"
      ]
     },
     "metadata": {
      "needs_background": "light"
     },
     "output_type": "display_data"
    }
   ],
   "source": [
    "plt.plot(P_DL, U_C, label = 'Бюджет линии для нисходящего направления')\n",
    "plt.plot(P_UL, U_C, label = 'Бюджет линии для восходящего направления')\n",
    "plt.xlabel('м')\n",
    "plt.ylabel('дБ')\n",
    "plt.title('Графики зависимости величины бюджета линии от поправочного коэффициента.')\n",
    "plt.grid()\n",
    "plt.legend()"
   ]
  },
  {
   "cell_type": "markdown",
   "id": "2f839e27",
   "metadata": {},
   "source": [
    "### 5. Расчет скорости передачи для каждого из направлений"
   ]
  },
  {
   "cell_type": "code",
   "execution_count": 38,
   "id": "bc6ce65e",
   "metadata": {},
   "outputs": [],
   "source": [
    "T_h = 1/5\n",
    "T_g = 1/8\n",
    "K_DLtdd = 3/4\n",
    "K_ULtdd = 1/4"
   ]
  },
  {
   "cell_type": "code",
   "execution_count": 40,
   "id": "fd250500",
   "metadata": {},
   "outputs": [
    {
     "name": "stdout",
     "output_type": "stream",
     "text": [
      "R_DL =  9712500.000000002 бит/с\n",
      "R_UL =  2518055.555555556 бит/с\n"
     ]
    }
   ],
   "source": [
    "R_DL = (B*10**6) * n * (N_DLdata/N_all) * R_symb *(1 - (T_h/(1 + T_g))) * K_DLtdd\n",
    "R_UL = (B*10**6) * n * (N_ULdata/N_all) * R_symb *(1 - (T_h/(1 + T_g))) * K_ULtdd\n",
    "print('R_DL = ', R_DL, 'бит/с')\n",
    "print('R_UL = ', R_UL, 'бит/с')"
   ]
  },
  {
   "cell_type": "code",
   "execution_count": null,
   "id": "c722e18c",
   "metadata": {},
   "outputs": [],
   "source": []
  }
 ],
 "metadata": {
  "kernelspec": {
   "display_name": "Python 3 (ipykernel)",
   "language": "python",
   "name": "python3"
  },
  "language_info": {
   "codemirror_mode": {
    "name": "ipython",
    "version": 3
   },
   "file_extension": ".py",
   "mimetype": "text/x-python",
   "name": "python",
   "nbconvert_exporter": "python",
   "pygments_lexer": "ipython3",
   "version": "3.9.7"
  }
 },
 "nbformat": 4,
 "nbformat_minor": 5
}
