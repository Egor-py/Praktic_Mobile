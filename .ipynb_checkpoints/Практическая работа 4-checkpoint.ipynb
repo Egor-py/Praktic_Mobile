{
 "cells": [
  {
   "cell_type": "markdown",
   "id": "04527cd5",
   "metadata": {},
   "source": [
    "<h1><center>Практическая работа 4</center></h1>\n",
    "<h1><center>Оценка потерь на трассе радиоканала в случает дифракции на клине при одном препядствии</center></h1>\n",
    "<h4>Выполнил Дмитриев Егор ИКТУ-88 Вариант 3</h4>"
   ]
  },
  {
   "cell_type": "markdown",
   "id": "c16e4ad1",
   "metadata": {},
   "source": [
    "### Цель работы: \n",
    ">Целью данной работы является ознакомление с механизмом дифракции радиосигала на клине при одном препядствии, в также принципами оценки величины потерь, вызываемых данным типом дифракции"
   ]
  },
  {
   "cell_type": "markdown",
   "id": "29aa30c5",
   "metadata": {},
   "source": [
    "### 1. Выбор значений по номеру варианта \n",
    "$ f = 600 МГц; h_T = 42 м; h_R = 22м; a = 7км; b = 12км;  H'_1 = 44м; H'_2 = 20м $"
   ]
  },
  {
   "cell_type": "markdown",
   "id": "8e97c5f0",
   "metadata": {},
   "source": [
    "### 2.Расчет потерь при изменении $a$"
   ]
  },
  {
   "cell_type": "code",
   "execution_count": 130,
   "id": "ad91481b",
   "metadata": {},
   "outputs": [],
   "source": [
    "import numpy as np\n",
    "import matplotlib.pyplot as plt\n",
    "import math\n",
    "\n",
    "f = 600\n",
    "hT = 42\n",
    "hR = 22\n",
    "H1 = 44\n",
    "H2 = 20"
   ]
  },
  {
   "cell_type": "code",
   "execution_count": 131,
   "id": "82841b0a",
   "metadata": {},
   "outputs": [],
   "source": [
    "b = 12\n",
    "k = 5\n",
    "a = np.zeros(11,)\n",
    "for i in range(11):\n",
    "    a[i] = k\n",
    "    k += 1"
   ]
  },
  {
   "cell_type": "code",
   "execution_count": 132,
   "id": "cc7c5460",
   "metadata": {},
   "outputs": [
    {
     "name": "stdout",
     "output_type": "stream",
     "text": [
      "v =  7.487815151267135e-06 > -0,7\n",
      "Ldif_H1 =  6.032916924150739 [дБ]\n",
      "v =  7.713201428105705e-06 > -0,7\n",
      "Ldif_H1 =  6.032918872116935 [дБ]\n",
      "v =  7.888742531707216e-06 > -0,7\n",
      "Ldif_H1 =  6.032920389281811 [дБ]\n",
      "v =  8.02925044425811e-06 > -0,7\n",
      "Ldif_H1 =  6.032921603662198 [дБ]\n",
      "v =  8.143968758584052e-06 > -0,7\n",
      "Ldif_H1 =  6.032922595148512 [дБ]\n",
      "v =  8.239057430482113e-06 > -0,7\n",
      "Ldif_H1 =  6.032923416979959 [дБ]\n",
      "v =  8.31882680969304e-06 > -0,7\n",
      "Ldif_H1 =  6.0329241064099755 [дБ]\n",
      "v =  8.386406299280426e-06 > -0,7\n",
      "Ldif_H1 =  6.032924690485335 [дБ]\n",
      "v =  8.444133654373328e-06 > -0,7\n",
      "Ldif_H1 =  6.0329251894107685 [дБ]\n",
      "v =  8.493795237133192e-06 > -0,7\n",
      "Ldif_H1 =  6.032925618625422 [дБ]\n",
      "v =  8.536781445249251e-06 > -0,7\n",
      "Ldif_H1 =  6.0329259901462144 [дБ]\n"
     ]
    }
   ],
   "source": [
    "la = 3*10**8/f*10**6\n",
    "Ldif_H1 = np.zeros(11,)\n",
    "for i in range(11):\n",
    "    h = H1 - (hT + a[i]*((hR-hT)/(a[i]+b)))\n",
    "    d1 = math.sqrt(a[i]**2 + (H1-hT)**2)\n",
    "    d2 = math.sqrt(b**2 + (H1-hR)**2)\n",
    "    v = h*math.sqrt((2/la)*(1/d1 + 1/d2))\n",
    "    print('v = ', v, '> -0,7')\n",
    "    Ldif_H1[i] = 6.9 + 20*math.log10(math.sqrt((v-0.1)**2+1)+v-0.1)\n",
    "    print('Ldif_H1 = ', Ldif_H1[i], '[дБ]')"
   ]
  },
  {
   "cell_type": "code",
   "execution_count": 133,
   "id": "6184f721",
   "metadata": {},
   "outputs": [
    {
     "name": "stdout",
     "output_type": "stream",
     "text": [
      "v =  -1.668452337762132e-05 > -0.7\n",
      "Ldif_H2 =  6.032708007964038 [дБ]\n",
      "v =  -1.50333422766401e-05 > -0.7\n",
      "Ldif_H2 =  6.032722278741941 [дБ]\n",
      "v =  -1.3711906988432941e-05 > -0.7\n",
      "Ldif_H2 =  6.032733699604421 [дБ]\n",
      "v =  -1.2630058116966151e-05 > -0.7\n",
      "Ldif_H2 =  6.032743049777501 [дБ]\n",
      "v =  -1.1727217560828808e-05 > -0.7\n",
      "Ldif_H2 =  6.0327508528233 [дБ]\n",
      "v =  -1.0961560883718335e-05 > -0.7\n",
      "Ldif_H2 =  6.032757470220549 [дБ]\n",
      "v =  -1.0303392520133854e-05 > -0.7\n",
      "Ldif_H2 =  6.032763158621049 [дБ]\n",
      "v =  -9.731074796130476e-06 > -0.7\n",
      "Ldif_H2 =  6.032768105034162 [дБ]\n",
      "v =  -9.228471427600479e-06 > -0.7\n",
      "Ldif_H2 =  6.032772448922044 [дБ]\n",
      "v =  -8.78329940496981e-06 > -0.7\n",
      "Ldif_H2 =  6.032776296443903 [дБ]\n",
      "v =  -8.386038134951388e-06 > -0.7\n",
      "Ldif_H2 =  6.032779729884021 [дБ]\n"
     ]
    }
   ],
   "source": [
    "Ldif_H2 = np.zeros(11,)\n",
    "for i in range(11,):\n",
    "    h = H2 - (hT + a[i]*((hR-hT)/(a[i]+b)))\n",
    "    d1 = math.sqrt(a[i]**2 + (H1-hT)**2)\n",
    "    d2 = math.sqrt(b**2 + (H2-hR)**2)\n",
    "    v = h*math.sqrt((2/la)*(1/d1 + 1/d2))\n",
    "    print('v = ', v, '> -0.7')\n",
    "    Ldif_H2[i] = 6.9 + 20*math.log10(math.sqrt((v-0.1)**2+1)+v-0.1)\n",
    "    print('Ldif_H2 = ', Ldif_H2[i], '[дБ]')"
   ]
  },
  {
   "cell_type": "code",
   "execution_count": 134,
   "id": "762c4be1",
   "metadata": {},
   "outputs": [
    {
     "name": "stdout",
     "output_type": "stream",
     "text": [
      "L0 =  112.61200343523834 [дБ]\n",
      "L0 =  113.10847510973899 [дБ]\n",
      "L0 =  113.57809702672944 [дБ]\n",
      "L0 =  114.0236249209525 [дБ]\n",
      "L0 =  114.44741090235127 [дБ]\n",
      "L0 =  114.851478624117 [дБ]\n",
      "L0 =  115.23758172802474 [дБ]\n",
      "L0 =  115.60724984190499 [дБ]\n",
      "L0 =  115.96182518111362 [дБ]\n",
      "L0 =  116.30249196708922 [дБ]\n",
      "L0 =  116.63030029085262 [дБ]\n"
     ]
    }
   ],
   "source": [
    "L0 = np.zeros(11,)\n",
    "for i in range(11,):\n",
    "    L0[i] = 32.44 + 20*math.log10(a[i] + b) + 20*math.log10(f)\n",
    "    print('L0 = ', L0[i], '[дБ]')"
   ]
  },
  {
   "cell_type": "code",
   "execution_count": 135,
   "id": "07926b2c",
   "metadata": {},
   "outputs": [
    {
     "data": {
      "text/plain": [
       "<matplotlib.legend.Legend at 0x7f97bf83e970>"
      ]
     },
     "execution_count": 135,
     "metadata": {},
     "output_type": "execute_result"
    },
    {
     "data": {
      "image/png": "[encoded data removed]",
      "text/plain": [
       "<Figure size 432x288 with 1 Axes>"
      ]
     },
     "metadata": {
      "needs_background": "light"
     },
     "output_type": "display_data"
    }
   ],
   "source": [
    "d = a + b\n",
    "plt.plot(d, Ldif_H1 + L0, '-', label = 'Потери при H1 = 44м и Потери в своб.пр')\n",
    "plt.plot(d, Ldif_H2 + L0, '--', label = 'Потери при H2 = 20м и Потери в своб.пр')\n",
    "plt.plot(d, L0, '-.', label = 'Потери в свободном пространстве')\n",
    "plt.xlabel('км')\n",
    "plt.ylabel('дБ')\n",
    "plt.legend()"
   ]
  },
  {
   "cell_type": "code",
   "execution_count": 136,
   "id": "e792906c",
   "metadata": {},
   "outputs": [
    {
     "data": {
      "text/plain": [
       "<matplotlib.legend.Legend at 0x7f97bfa03520>"
      ]
     },
     "execution_count": 136,
     "metadata": {},
     "output_type": "execute_result"
    },
    {
     "data": {
      "image/png": "[encoded data removed]",
      "text/plain": [
       "<Figure size 432x288 with 1 Axes>"
      ]
     },
     "metadata": {
      "needs_background": "light"
     },
     "output_type": "display_data"
    }
   ],
   "source": [
    "d = a + b\n",
    "\n",
    "plt.plot(d, Ldif_H1, '-', label = 'Потери при H1 = 44м')\n",
    "plt.plot(d, Ldif_H2, '-', label = 'Потери при H1 = 20м')\n",
    "plt.xlabel('км')\n",
    "plt.ylabel('дБ')\n",
    "#plt.title('График зависимости величины потерь на дифракцию на клине в дБ')\n",
    "plt.legend()"
   ]
  },
  {
   "cell_type": "markdown",
   "id": "b65ce5e3",
   "metadata": {},
   "source": [
    "### 3.Расчет потерь при изменении $b$"
   ]
  },
  {
   "cell_type": "code",
   "execution_count": 137,
   "id": "d938cb8e",
   "metadata": {},
   "outputs": [],
   "source": [
    "a = 7\n",
    "k = 10\n",
    "b = np.zeros(11,)\n",
    "for i in range(11):\n",
    "    b[i] = k\n",
    "    k += 1"
   ]
  },
  {
   "cell_type": "code",
   "execution_count": 138,
   "id": "03147dfe",
   "metadata": {},
   "outputs": [
    {
     "name": "stdout",
     "output_type": "stream",
     "text": [
      "v =  8.65450517978613e-06 > -0,7\n",
      "Ldif_H1 =  6.032927007607797 [дБ]\n",
      "v =  8.250876731418763e-06 > -0,7\n",
      "Ldif_H1 =  6.032923519131697 [дБ]\n",
      "v =  7.888742531707216e-06 > -0,7\n",
      "Ldif_H1 =  6.032920389281811 [дБ]\n",
      "v =  7.562005190326936e-06 > -0,7\n",
      "Ldif_H1 =  6.03291756535964 [дБ]\n",
      "v =  7.265723420504583e-06 > -0,7\n",
      "Ldif_H1 =  6.032915004658652 [дБ]\n",
      "v =  6.995847659845116e-06 > -0,7\n",
      "Ldif_H1 =  6.03291267217931 [дБ]\n",
      "v =  6.749025175658816e-06 > -0,7\n",
      "Ldif_H1 =  6.032910538944634 [дБ]\n",
      "v =  6.522454321652927e-06 > -0,7\n",
      "Ldif_H1 =  6.032908580740573 [дБ]\n",
      "v =  6.313774111530239e-06 > -0,7\n",
      "Ldif_H1 =  6.032906777161607 [дБ]\n",
      "v =  6.120979531609737e-06 > -0,7\n",
      "Ldif_H1 =  6.032905110878822 [дБ]\n",
      "v =  5.9423558571615295e-06 > -0,7\n",
      "Ldif_H1 =  6.0329035670722035 [дБ]\n"
     ]
    }
   ],
   "source": [
    "la = 3*10**8/f*10**6\n",
    "Ldif_H1 = np.zeros(11,)\n",
    "for i in range(11):\n",
    "    h = H1 - (hT + a*((hR-hT)/(a+b[i])))\n",
    "    d1 = math.sqrt(a**2 + (H1-hT)**2)\n",
    "    d2 = math.sqrt(b[i]**2 + (H1-hR)**2)\n",
    "    v = h*math.sqrt((2/la)*(1/d1 + 1/d2))\n",
    "    print('v = ', v, '> -0,7')\n",
    "    Ldif_H1[i] = 6.9 + 20*math.log10(math.sqrt((v-0.1)**2+1)+v-0.1)\n",
    "    print('Ldif_H1 = ', Ldif_H1[i], '[дБ]')"
   ]
  },
  {
   "cell_type": "code",
   "execution_count": 139,
   "id": "ced50413",
   "metadata": {},
   "outputs": [
    {
     "name": "stdout",
     "output_type": "stream",
     "text": [
      "v =  -1.3357258999941724e-05 > -0.7\n",
      "Ldif_H2 =  6.032736764745999 [дБ]\n",
      "v =  -1.354634475680074e-05 > -0.7\n",
      "Ldif_H2 =  6.032735130520968 [дБ]\n",
      "v =  -1.3711906988432941e-05 > -0.7\n",
      "Ldif_H2 =  6.032733699604421 [дБ]\n",
      "v =  -1.3858219238707895e-05 > -0.7\n",
      "Ldif_H2 =  6.032732435061087 [дБ]\n",
      "v =  -1.3988546874171338e-05 > -0.7\n",
      "Ldif_H2 =  6.032731308669139 [дБ]\n",
      "v =  -1.41054361145493e-05 > -0.7\n",
      "Ldif_H2 =  6.0327302984221784 [дБ]\n",
      "v =  -1.4210906687004237e-05 > -0.7\n",
      "Ldif_H2 =  6.032729386864161 [дБ]\n",
      "v =  -1.4306584324763175e-05 > -0.7\n",
      "Ldif_H2 =  6.032728559944248 [дБ]\n",
      "v =  -1.4393794344256104e-05 > -0.7\n",
      "Ldif_H2 =  6.032727806208027 [дБ]\n",
      "v =  -1.4473629254022158e-05 > -0.7\n",
      "Ldif_H2 =  6.032727116213193 [дБ]\n",
      "v =  -1.4546998572992858e-05 > -0.7\n",
      "Ldif_H2 =  6.032726482098984 [дБ]\n"
     ]
    }
   ],
   "source": [
    "Ldif_H2 = np.zeros(11,)\n",
    "for i in range(11,):\n",
    "    h = H2 - (hT + a*((hR-hT)/(a+b[i])))\n",
    "    d1 = math.sqrt(a**2 + (H1-hT)**2)\n",
    "    d2 = math.sqrt(b[i]**2 + (H2-hR)**2)\n",
    "    v = h*math.sqrt((2/la)*(1/d1 + 1/d2))\n",
    "    print('v = ', v, '> -0.7')\n",
    "    Ldif_H2[i] = 6.9 + 20*math.log10(math.sqrt((v-0.1)**2+1)+v-0.1)\n",
    "    print('Ldif_H2 = ', Ldif_H2[i], '[дБ]')"
   ]
  },
  {
   "cell_type": "code",
   "execution_count": 140,
   "id": "cf5f84fb",
   "metadata": {},
   "outputs": [
    {
     "data": {
      "text/plain": [
       "<matplotlib.legend.Legend at 0x7f97bfa6c550>"
      ]
     },
     "execution_count": 140,
     "metadata": {},
     "output_type": "execute_result"
    },
    {
     "data": {
      "image/png": "[encoded data removed]",
      "text/plain": [
       "<Figure size 432x288 with 1 Axes>"
      ]
     },
     "metadata": {
      "needs_background": "light"
     },
     "output_type": "display_data"
    }
   ],
   "source": [
    "d = a + b\n",
    "plt.plot(d, Ldif_H1 + L0, '-', label = 'Потери при H1 = 44м и Потери в своб.пр')\n",
    "plt.plot(d, Ldif_H2 + L0, '--', label = 'Потери при H2 = 20м и Потери в своб.пр')\n",
    "plt.plot(d, L0, '-.', label = 'Потери в свободном пространстве')\n",
    "plt.xlabel('км')\n",
    "plt.ylabel('дБ')\n",
    "plt.legend()\n"
   ]
  },
  {
   "cell_type": "code",
   "execution_count": 141,
   "id": "5725217d",
   "metadata": {},
   "outputs": [
    {
     "data": {
      "text/plain": [
       "<matplotlib.legend.Legend at 0x7f97bfbca790>"
      ]
     },
     "execution_count": 141,
     "metadata": {},
     "output_type": "execute_result"
    },
    {
     "data": {
      "image/png": "[encoded data removed]",
      "text/plain": [
       "<Figure size 432x288 with 1 Axes>"
      ]
     },
     "metadata": {
      "needs_background": "light"
     },
     "output_type": "display_data"
    }
   ],
   "source": [
    "plt.plot(d, Ldif_H1, '-', label = 'Потери при H1 = 44м')\n",
    "plt.plot(d, Ldif_H2, '-', label = 'Потери при H1 = 20м')\n",
    "plt.xlabel('км')\n",
    "plt.ylabel('дБ')\n",
    "#plt.title('График зависимости величины потерь на дифракцию на клине в дБ')\n",
    "plt.legend()"
   ]
  },
  {
   "cell_type": "markdown",
   "id": "fce66610",
   "metadata": {},
   "source": [
    "### 4. Вывод: \n",
    ">Потери в свободном пространстве являются преобладающими"
   ]
  },
  {
   "cell_type": "code",
   "execution_count": null,
   "id": "f5b18a80",
   "metadata": {},
   "outputs": [],
   "source": []
  }
 ],
 "metadata": {
  "kernelspec": {
   "display_name": "Python 3 (ipykernel)",
   "language": "python",
   "name": "python3"
  },
  "language_info": {
   "codemirror_mode": {
    "name": "ipython",
    "version": 3
   },
   "file_extension": ".py",
   "mimetype": "text/x-python",
   "name": "python",
   "nbconvert_exporter": "python",
   "pygments_lexer": "ipython3",
   "version": "3.9.7"
  }
 },
 "nbformat": 4,
 "nbformat_minor": 5
}
