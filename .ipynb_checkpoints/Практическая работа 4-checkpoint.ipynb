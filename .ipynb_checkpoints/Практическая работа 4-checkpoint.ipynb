{
 "cells": [
  {
   "cell_type": "markdown",
   "id": "04527cd5",
   "metadata": {},
   "source": [
    "<h1><center>Практическая работа 4</center></h1>\n",
    "<h1><center>Оценка потерь на трассе радиоканала в случает дифракции на клине при одном препядствии</center></h1>\n",
    "<h4>Выполнил Дмитриев Егор ИКТУ-88 Вариант 3</h4>"
   ]
  },
  {
   "cell_type": "markdown",
   "id": "c16e4ad1",
   "metadata": {},
   "source": [
    "### Цель работы: \n",
    ">Целью данной работы является ознакомление с механизмом дифракции радиосигала на клине при одном препядствии, в также принципами оценки величины потерь, вызываемых данным типом дифракции"
   ]
  },
  {
   "cell_type": "markdown",
   "id": "29aa30c5",
   "metadata": {},
   "source": [
    "### 1. Выбор значений по номеру варианта \n",
    "$ f = 600 МГц; h_T = 42 м; h_R = 22м; a = 7км; b = 12км;  H'_1 = 44м; H'_2 = 20м $"
   ]
  },
  {
   "cell_type": "markdown",
   "id": "8e97c5f0",
   "metadata": {},
   "source": [
    "### 2.Расчет потерь при изменении $a$"
   ]
  },
  {
   "cell_type": "code",
   "execution_count": 1,
   "id": "ad91481b",
   "metadata": {},
   "outputs": [],
   "source": [
    "import numpy as np\n",
    "import matplotlib.pyplot as plt\n",
    "import math\n",
    "\n",
    "f = 600\n",
    "hT = 42\n",
    "hR = 22\n",
    "H1 = 44\n",
    "H2 = 20"
   ]
  },
  {
   "cell_type": "code",
   "execution_count": 2,
   "id": "82841b0a",
   "metadata": {},
   "outputs": [],
   "source": [
    "b = 12\n",
    "k = 5\n",
    "a = np.zeros(11,)\n",
    "for i in range(11):\n",
    "    a[i] = k\n",
    "    k += 1"
   ]
  },
  {
   "cell_type": "code",
   "execution_count": 3,
   "id": "cc7c5460",
   "metadata": {},
   "outputs": [
    {
     "name": "stdout",
     "output_type": "stream",
     "text": [
      "v =  0.002367855057632238 > -0,7\n",
      "Ldif_H1 =  6.053319447043247 [дБ]\n",
      "v =  0.002439128456447751 > -0,7\n",
      "Ldif_H1 =  6.053935592457224 [дБ]\n",
      "v =  0.002494639427483787 > -0,7\n",
      "Ldif_H1 =  6.054415477524383 [дБ]\n",
      "v =  0.002539071930777445 > -0,7\n",
      "Ldif_H1 =  6.054799592544331 [дБ]\n",
      "v =  0.0025753490470379558 > -0,7\n",
      "Ldif_H1 =  6.055113206194117 [дБ]\n",
      "v =  0.0026054187253257877 > -0,7\n",
      "Ldif_H1 =  6.055373157720576 [дБ]\n",
      "v =  0.0026306440179102095 > -0,7\n",
      "Ldif_H1 =  6.055591230250034 [дБ]\n",
      "v =  0.002652014528930986 > -0,7\n",
      "Ldif_H1 =  6.055775978627139 [дБ]\n",
      "v =  0.0026702695214700753 > -0,7\n",
      "Ldif_H1 =  6.055933793603399 [дБ]\n",
      "v =  0.0026859738928430876 > -0,7\n",
      "Ldif_H1 =  6.056069558602895 [дБ]\n",
      "v =  0.0026995673254051633 > -0,7\n",
      "Ldif_H1 =  6.056187074607025 [дБ]\n"
     ]
    }
   ],
   "source": [
    "la = 3*10**8/f*10\n",
    "Ldif_H1 = np.zeros(11,)\n",
    "for i in range(11):\n",
    "    h = H1 - (hT + a[i]*((hR-hT)/(a[i]+b)))\n",
    "    d1 = math.sqrt(a[i]**2 + (H1-hT)**2)\n",
    "    d2 = math.sqrt(b**2 + (H1-hR)**2)\n",
    "    v = h*math.sqrt((2/la)*(1/d1 + 1/d2))\n",
    "    print('v = ', v, '> -0,7')\n",
    "    Ldif_H1[i] = 6.9 + 20*math.log10(math.sqrt((v-0.1)**2+1)+v-0.1)\n",
    "    print('Ldif_H1 = ', Ldif_H1[i], '[дБ]')"
   ]
  },
  {
   "cell_type": "code",
   "execution_count": 4,
   "id": "6184f721",
   "metadata": {},
   "outputs": [
    {
     "name": "stdout",
     "output_type": "stream",
     "text": [
      "v =  -0.005276109554760897 > -0.7\n",
      "Ldif_H2 =  5.98726405093744 [дБ]\n",
      "v =  -0.004753960243908383 > -0.7\n",
      "Ldif_H2 =  5.9917745789658525 [дБ]\n",
      "v =  -0.004336085714782817 > -0.7\n",
      "Ldif_H2 =  5.995384516894422 [дБ]\n",
      "v =  -0.003993975062991036 > -0.7\n",
      "Ldif_H2 =  5.998340061156136 [дБ]\n",
      "v =  -0.0037084718108543256 > -0.7\n",
      "Ldif_H2 =  6.000806645408753 [дБ]\n",
      "v =  -0.0034663499103158046 > -0.7\n",
      "Ldif_H2 =  6.002898496309571 [дБ]\n",
      "v =  -0.003258218799036527 > -0.7\n",
      "Ldif_H2 =  6.004696719794184 [дБ]\n",
      "v =  -0.0030772360437230977 > -0.7\n",
      "Ldif_H2 =  6.006260416392282 [дБ]\n",
      "v =  -0.0029182989033003184 > -0.7\n",
      "Ldif_H2 =  6.007633662002954 [дБ]\n",
      "v =  -0.0027775231490906245 > -0.7\n",
      "Ldif_H2 =  6.00885000851925 [дБ]\n",
      "v =  -0.0026518981051476876 > -0.7\n",
      "Ldif_H2 =  6.00993546286859 [дБ]\n"
     ]
    }
   ],
   "source": [
    "Ldif_H2 = np.zeros(11,)\n",
    "for i in range(11,):\n",
    "    h = H2 - (hT + a[i]*((hR-hT)/(a[i]+b)))\n",
    "    d1 = math.sqrt(a[i]**2 + (H1-hT)**2)\n",
    "    d2 = math.sqrt(b**2 + (H2-hR)**2)\n",
    "    v = h*math.sqrt((2/la)*(1/d1 + 1/d2))\n",
    "    print('v = ', v, '> -0.7')\n",
    "    Ldif_H2[i] = 6.9 + 20*math.log10(math.sqrt((v-0.1)**2+1)+v-0.1)\n",
    "    print('Ldif_H2 = ', Ldif_H2[i], '[дБ]')"
   ]
  },
  {
   "cell_type": "code",
   "execution_count": 5,
   "id": "762c4be1",
   "metadata": {},
   "outputs": [
    {
     "name": "stdout",
     "output_type": "stream",
     "text": [
      "L0 =  112.61200343523834 [дБ]\n",
      "L0 =  113.10847510973899 [дБ]\n",
      "L0 =  113.57809702672944 [дБ]\n",
      "L0 =  114.0236249209525 [дБ]\n",
      "L0 =  114.44741090235127 [дБ]\n",
      "L0 =  114.851478624117 [дБ]\n",
      "L0 =  115.23758172802474 [дБ]\n",
      "L0 =  115.60724984190499 [дБ]\n",
      "L0 =  115.96182518111362 [дБ]\n",
      "L0 =  116.30249196708922 [дБ]\n",
      "L0 =  116.63030029085262 [дБ]\n"
     ]
    }
   ],
   "source": [
    "L0 = np.zeros(11,)\n",
    "for i in range(11,):\n",
    "    L0[i] = 32.44 + 20*math.log10(a[i] + b) + 20*math.log10(f)\n",
    "    print('L0 = ', L0[i], '[дБ]')"
   ]
  },
  {
   "cell_type": "code",
   "execution_count": 6,
   "id": "07926b2c",
   "metadata": {},
   "outputs": [
    {
     "data": {
      "text/plain": [
       "<matplotlib.legend.Legend at 0x7f96936528b0>"
      ]
     },
     "execution_count": 6,
     "metadata": {},
     "output_type": "execute_result"
    },
    {
     "data": {
      "image/png": "[encoded data removed]",
      "text/plain": [
       "<Figure size 432x288 with 1 Axes>"
      ]
     },
     "metadata": {
      "needs_background": "light"
     },
     "output_type": "display_data"
    }
   ],
   "source": [
    "d = a + b\n",
    "plt.plot(d, Ldif_H1, '-', label = 'Потери при H1 = 44м и Потери в своб.пр')\n",
    "plt.plot(d, Ldif_H2, '--', label = 'Потери при H2 = 20м и Потери в своб.пр')\n",
    "plt.plot(d, L0, '-.', label = 'Потери в свободном пространстве')\n",
    "plt.xlabel('км')\n",
    "plt.ylabel('дБ')\n",
    "plt.legend()"
   ]
  },
  {
   "cell_type": "code",
   "execution_count": 7,
   "id": "e792906c",
   "metadata": {},
   "outputs": [
    {
     "data": {
      "text/plain": [
       "<matplotlib.legend.Legend at 0x7f96937897f0>"
      ]
     },
     "execution_count": 7,
     "metadata": {},
     "output_type": "execute_result"
    },
    {
     "data": {
      "image/png": "[encoded data removed]",
      "text/plain": [
       "<Figure size 432x288 with 1 Axes>"
      ]
     },
     "metadata": {
      "needs_background": "light"
     },
     "output_type": "display_data"
    }
   ],
   "source": [
    "d = a + b\n",
    "\n",
    "plt.plot(d, Ldif_H1, '-', label = 'Потери при H1 = 44м')\n",
    "plt.plot(d, Ldif_H2, '-', label = 'Потери при H1 = 20м')\n",
    "plt.xlabel('км')\n",
    "plt.ylabel('дБ')\n",
    "#plt.title('График зависимости величины потерь на дифракцию на клине в дБ')\n",
    "plt.legend()"
   ]
  },
  {
   "cell_type": "markdown",
   "id": "b65ce5e3",
   "metadata": {},
   "source": [
    "### 3.Расчет потерь при изменении $b$"
   ]
  },
  {
   "cell_type": "code",
   "execution_count": 8,
   "id": "d938cb8e",
   "metadata": {},
   "outputs": [],
   "source": [
    "a = 7\n",
    "k = 10\n",
    "b = np.zeros(11,)\n",
    "for i in range(11):\n",
    "    b[i] = k\n",
    "    k += 1"
   ]
  },
  {
   "cell_type": "code",
   "execution_count": 9,
   "id": "03147dfe",
   "metadata": {},
   "outputs": [
    {
     "name": "stdout",
     "output_type": "stream",
     "text": [
      "v =  0.0027367948389849205 > -0,7\n",
      "Ldif_H1 =  6.056508909385249 [дБ]\n",
      "v =  0.002609156316456865 > -0,7\n",
      "Ldif_H1 =  6.055405469143907 [дБ]\n",
      "v =  0.002494639427483787 > -0,7\n",
      "Ldif_H1 =  6.054415477524383 [дБ]\n",
      "v =  0.0023913160079448203 > -0,7\n",
      "Ldif_H1 =  6.053522262171654 [дБ]\n",
      "v =  0.0022976234857623825 > -0,7\n",
      "Ldif_H1 =  6.052712312185769 [дБ]\n",
      "v =  0.0022122812768669447 > -0,7\n",
      "Ldif_H1 =  6.051974555100546 [дБ]\n",
      "v =  0.0021342291540899843 > -0,7\n",
      "Ldif_H1 =  6.051299823901559 [дБ]\n",
      "v =  0.0020625811590831754 > -0,7\n",
      "Ldif_H1 =  6.050680458468581 [дБ]\n",
      "v =  0.001996590682424153 > -0,7\n",
      "Ldif_H1 =  6.050110003603941 [дБ]\n",
      "v =  0.0019356236831157385 > -0,7\n",
      "Ldif_H1 =  6.04958297745112 [дБ]\n",
      "v =  0.0018791379175872624 > -0,7\n",
      "Ldif_H1 =  6.049094691883059 [дБ]\n"
     ]
    }
   ],
   "source": [
    "la = 3*10**8/f*10\n",
    "Ldif_H1 = np.zeros(11,)\n",
    "for i in range(11):\n",
    "    h = H1 - (hT + a*((hR-hT)/(a+b[i])))\n",
    "    d1 = math.sqrt(a**2 + (H1-hT)**2)\n",
    "    d2 = math.sqrt(b[i]**2 + (H1-hR)**2)\n",
    "    v = h*math.sqrt((2/la)*(1/d1 + 1/d2))\n",
    "    print('v = ', v, '> -0,7')\n",
    "    Ldif_H1[i] = 6.9 + 20*math.log10(math.sqrt((v-0.1)**2+1)+v-0.1)\n",
    "    print('Ldif_H1 = ', Ldif_H1[i], '[дБ]')"
   ]
  },
  {
   "cell_type": "code",
   "execution_count": 10,
   "id": "ced50413",
   "metadata": {},
   "outputs": [
    {
     "name": "stdout",
     "output_type": "stream",
     "text": [
      "v =  -0.004223936173659874 > -0.7\n",
      "Ldif_H2 =  5.996353381801036 [дБ]\n",
      "v =  -0.004283730340137003 > -0.7\n",
      "Ldif_H2 =  5.9958368159249265 [дБ]\n",
      "v =  -0.004336085714782817 > -0.7\n",
      "Ldif_H2 =  5.995384516894422 [дБ]\n",
      "v =  -0.004382353710828162 > -0.7\n",
      "Ldif_H2 =  5.994984808872291 [дБ]\n",
      "v =  -0.004423566927841023 > -0.7\n",
      "Ldif_H2 =  5.994628770563629 [дБ]\n",
      "v =  -0.004460530551197152 > -0.7\n",
      "Ldif_H2 =  5.994309445508268 [дБ]\n",
      "v =  -0.004493883274705093 > -0.7\n",
      "Ldif_H2 =  5.994021315703305 [дБ]\n",
      "v =  -0.00452413920035137 > -0.7\n",
      "Ldif_H2 =  5.9937599395882515 [дБ]\n",
      "v =  -0.004551717429989905 > -0.7\n",
      "Ldif_H2 =  5.9935216963741595 [дБ]\n",
      "v =  -0.0045769634451553794 > -0.7\n",
      "Ldif_H2 =  5.993303601324355 [дБ]\n",
      "v =  -0.004600164860987661 > -0.7\n",
      "Ldif_H2 =  5.993103169643208 [дБ]\n"
     ]
    }
   ],
   "source": [
    "Ldif_H2 = np.zeros(11,)\n",
    "for i in range(11,):\n",
    "    h = H2 - (hT + a*((hR-hT)/(a+b[i])))\n",
    "    d1 = math.sqrt(a**2 + (H1-hT)**2)\n",
    "    d2 = math.sqrt(b[i]**2 + (H2-hR)**2)\n",
    "    v = h*math.sqrt((2/la)*(1/d1 + 1/d2))\n",
    "    print('v = ', v, '> -0.7')\n",
    "    Ldif_H2[i] = 6.9 + 20*math.log10(math.sqrt((v-0.1)**2+1)+v-0.1)\n",
    "    print('Ldif_H2 = ', Ldif_H2[i], '[дБ]')"
   ]
  },
  {
   "cell_type": "code",
   "execution_count": 13,
   "id": "cf5f84fb",
   "metadata": {},
   "outputs": [
    {
     "data": {
      "text/plain": [
       "<matplotlib.legend.Legend at 0x7f9693b72ca0>"
      ]
     },
     "execution_count": 13,
     "metadata": {},
     "output_type": "execute_result"
    },
    {
     "data": {
      "image/png": "[encoded data removed]",
      "text/plain": [
       "<Figure size 432x288 with 1 Axes>"
      ]
     },
     "metadata": {
      "needs_background": "light"
     },
     "output_type": "display_data"
    }
   ],
   "source": [
    "d = a + b\n",
    "plt.plot(d, Ldif_H1, '-', label = 'Потери при H1 = 44м и Потери в своб.пр')\n",
    "plt.plot(d, Ldif_H2, '--', label = 'Потери при H2 = 20м и Потери в своб.пр')\n",
    "plt.plot(d, L0, '-.', label = 'Потери в свободном пространстве')\n",
    "plt.xlabel('км')\n",
    "plt.ylabel('дБ')\n",
    "plt.legend()\n"
   ]
  },
  {
   "cell_type": "code",
   "execution_count": 12,
   "id": "5725217d",
   "metadata": {},
   "outputs": [
    {
     "data": {
      "text/plain": [
       "<matplotlib.legend.Legend at 0x7f9693afb760>"
      ]
     },
     "execution_count": 12,
     "metadata": {},
     "output_type": "execute_result"
    },
    {
     "data": {
      "image/png": "[encoded data removed]",
      "text/plain": [
       "<Figure size 432x288 with 1 Axes>"
      ]
     },
     "metadata": {
      "needs_background": "light"
     },
     "output_type": "display_data"
    }
   ],
   "source": [
    "plt.plot(d, Ldif_H1, '-', label = 'Потери при H1 = 44м')\n",
    "plt.plot(d, Ldif_H2, '-', label = 'Потери при H1 = 20м')\n",
    "plt.xlabel('км')\n",
    "plt.ylabel('дБ')\n",
    "#plt.title('График зависимости величины потерь на дифракцию на клине в дБ')\n",
    "plt.legend()"
   ]
  },
  {
   "cell_type": "markdown",
   "id": "fce66610",
   "metadata": {},
   "source": [
    "### 4. Вывод: \n",
    ">Потери в свободном пространстве являются преобладающими"
   ]
  },
  {
   "cell_type": "code",
   "execution_count": null,
   "id": "f5b18a80",
   "metadata": {},
   "outputs": [],
   "source": []
  }
 ],
 "metadata": {
  "kernelspec": {
   "display_name": "Python 3 (ipykernel)",
   "language": "python",
   "name": "python3"
  },
  "language_info": {
   "codemirror_mode": {
    "name": "ipython",
    "version": 3
   },
   "file_extension": ".py",
   "mimetype": "text/x-python",
   "name": "python",
   "nbconvert_exporter": "python",
   "pygments_lexer": "ipython3",
   "version": "3.9.7"
  }
 },
 "nbformat": 4,
 "nbformat_minor": 5
}
