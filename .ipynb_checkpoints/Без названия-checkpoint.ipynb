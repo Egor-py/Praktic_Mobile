{
 "cells": [
  {
   "cell_type": "markdown",
   "id": "304bc7f2",
   "metadata": {},
   "source": [
    "<h1><center>Практическая работа 3</center></h1>\n",
    "<h1><center>Расчет потерь на трассе радиоканала по моделям Уолфиша-Икегами и Кся-Бертони</center></h1>\n",
    "<h4>Выполнил Дмитриев Егор ИКТУ-88 Вариант 3</h4>"
   ]
  },
  {
   "cell_type": "markdown",
   "id": "e24073e5",
   "metadata": {},
   "source": [
    "## Цель работы:\n",
    ">Ознакомится с принципами расчета потерь в радиоканале согласно моделям Уолфиша-Икегами и Кся-Бертони"
   ]
  },
  {
   "cell_type": "markdown",
   "id": "c3fe0ad3",
   "metadata": {},
   "source": [
    "## 1. Выбор значений по номеру варианта\n",
    "> $ f=1000МГц; h_r=25м; h_{bs1}=32м; h_{bs2}=22м; h_{ms}=1.4м; \\phi = 40град $"
   ]
  },
  {
   "cell_type": "markdown",
   "id": "21dc5a2a",
   "metadata": {},
   "source": [
    "## 2. Расчет и построение графиков зависимости величины потерь в дБ от расстояния "
   ]
  },
  {
   "cell_type": "code",
   "execution_count": 6,
   "id": "6d1f279d",
   "metadata": {},
   "outputs": [],
   "source": [
    "import math\n",
    "import numpy as np\n",
    "import matplotlib.pyplot as plt\n",
    "f = 1000\n",
    "hr = 25\n",
    "hbs1 = 32\n",
    "hbs2 = 22\n",
    "hms = 1.4\n",
    "phi = 40\n",
    "w = 15"
   ]
  },
  {
   "cell_type": "code",
   "execution_count": 14,
   "id": "12f0d9da",
   "metadata": {},
   "outputs": [
    {
     "name": "stdout",
     "output_type": "stream",
     "text": [
      "[0.2 0.3 0.4 0.5 0.6 0.7 0.8 0.9 1.  1.1 1.2 1.3 1.4 1.5]\n"
     ]
    }
   ],
   "source": [
    "d = np.zeros(14,)\n",
    "k = 0.2\n",
    "for i in range(14):\n",
    "    d[i] = k\n",
    "    k += 0.1\n",
    "print(d)"
   ]
  },
  {
   "cell_type": "markdown",
   "id": "a506280f",
   "metadata": {},
   "source": [
    "### 2.a  Модель Уолфиша-Икегами. В зоне прямой видимости"
   ]
  },
  {
   "cell_type": "code",
   "execution_count": 15,
   "id": "64a81301",
   "metadata": {},
   "outputs": [
    {
     "name": "stdout",
     "output_type": "stream",
     "text": [
      "84.4267798872635 [дБ]\n",
      "89.00515262271122 [дБ]\n",
      "92.25355977452702 [дБ]\n",
      "94.77322011273648 [дБ]\n",
      "96.83193250997473 [дБ]\n",
      "98.57254904037069 [дБ]\n",
      "100.08033966179053 [дБ]\n",
      "101.41030524542245 [дБ]\n",
      "102.6 [дБ]\n",
      "103.67620981411386 [дБ]\n",
      "104.65871239723825 [дБ]\n",
      "105.56252715997775 [дБ]\n",
      "106.3993289276342 [дБ]\n",
      "107.17837273544771 [дБ]\n"
     ]
    }
   ],
   "source": [
    "Llos = np.zeros(14,)\n",
    "for i in range(14):\n",
    "    Llos = 42.6 + 26*math.log10(d[i]) + 20*math.log10(f)\n",
    "    print(Llos, '[дБ]')"
   ]
  },
  {
   "cell_type": "markdown",
   "id": "8cc3b18c",
   "metadata": {},
   "source": [
    "### 2.б  Модель Уолфиша-Икегами. Вне зоны прямой видимости. Высота BS $h_{bs1}$. Город средних размеров"
   ]
  },
  {
   "cell_type": "code",
   "execution_count": null,
   "id": "f0a9f8da",
   "metadata": {},
   "outputs": [],
   "source": [
    "Lrts = -16.9 - 10*math.log10(w) + 10*math.log10(f) + 20*math.log10()"
   ]
  }
 ],
 "metadata": {
  "kernelspec": {
   "display_name": "Python 3 (ipykernel)",
   "language": "python",
   "name": "python3"
  },
  "language_info": {
   "codemirror_mode": {
    "name": "ipython",
    "version": 3
   },
   "file_extension": ".py",
   "mimetype": "text/x-python",
   "name": "python",
   "nbconvert_exporter": "python",
   "pygments_lexer": "ipython3",
   "version": "3.9.7"
  }
 },
 "nbformat": 4,
 "nbformat_minor": 5
}
