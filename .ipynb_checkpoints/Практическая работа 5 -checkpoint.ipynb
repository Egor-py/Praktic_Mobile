{
 "cells": [
  {
   "cell_type": "markdown",
   "id": "606ea80e",
   "metadata": {},
   "source": [
    "<h1><center>Практическая работа 5</center></h1>\n",
    "<h1><center>Оценка потерь на трассе радиоканала в случает дифракции на клине при двух препядствиях</center></h1>\n",
    "<h4>Выполнил Дмитриев Егор ИКТУ-88 Вариант 3</h4>"
   ]
  },
  {
   "cell_type": "markdown",
   "id": "95a1ccfa",
   "metadata": {},
   "source": [
    "### Цель работы: \n",
    ">Целью данной работы является ознакомление с механизмом дифракции радиосигала на клине при двух препядствиях, в также принципами оценки величины потерь, вызываемых данным типом дифракции"
   ]
  },
  {
   "cell_type": "markdown",
   "id": "2a4a6981",
   "metadata": {},
   "source": [
    "### 1. Выбор значений по номеру варианта \n",
    "$ f = 600 МГц; h_T = 42 м; h_R = 22м; a = 5км; b = 3км; c = 8км; H'_1 = 44м; H'_2 = 20м; H''_2 = 50м $"
   ]
  },
  {
   "cell_type": "markdown",
   "id": "22ecada1",
   "metadata": {},
   "source": [
    "### 2.Расчет потерь при изменении $a$"
   ]
  },
  {
   "cell_type": "markdown",
   "id": "88a1b2b2",
   "metadata": {},
   "source": [
    "#### 2.1 Расчет потерь при изменении $a$ для  $H'_1$ и $H'_2$"
   ]
  },
  {
   "cell_type": "code",
   "execution_count": 73,
   "id": "dc87f45f",
   "metadata": {},
   "outputs": [],
   "source": [
    "import numpy as np\n",
    "import matplotlib.pyplot as plt\n",
    "import math\n",
    "\n",
    "f = 600\n",
    "hT = 42\n",
    "hR = 22\n",
    "H1 = 44\n",
    "H_12 = 20\n",
    "H_22 = 50"
   ]
  },
  {
   "cell_type": "code",
   "execution_count": 74,
   "id": "01d95d7b",
   "metadata": {},
   "outputs": [],
   "source": [
    "b = 3000\n",
    "c = 8000\n",
    "k = 1000\n",
    "a = np.zeros(15,)\n",
    "for i in range(15):\n",
    "    a[i] = k\n",
    "    k += 1000"
   ]
  },
  {
   "cell_type": "code",
   "execution_count": 75,
   "id": "6ba9c2c1",
   "metadata": {},
   "outputs": [
    {
     "name": "stdout",
     "output_type": "stream",
     "text": [
      "1000.0 -------------------------------\n",
      "Главное препядствие - первое\n",
      "248901.58697766473 -56382.6214360418\n",
      "Ldif1 =  23.000824892199468\n",
      "Ldif2 =  0.3482565255574821\n",
      "Ldif_H1H_12 =  23.34908141775695 [дБ]\n",
      "___________________________________\n",
      "2000.0 -------------------------------\n",
      "Главное препядствие - первое\n",
      "278280.4340948174 -65665.82063752801\n",
      "Ldif1 =  21.01315740433716\n",
      "Ldif2 =  1.2350154477552389\n",
      "Ldif_H1H_12 =  22.2481728520924 [дБ]\n",
      "___________________________________\n",
      "3000.0 -------------------------------\n",
      "Главное препядствие - первое\n",
      "304840.9421321224 -68934.75175845635\n",
      "Ldif1 =  20.08576841820297\n",
      "Ldif2 =  1.856754846188677\n",
      "Ldif_H1H_12 =  21.942523264391646 [дБ]\n",
      "___________________________________\n",
      "4000.0 -------------------------------\n",
      "Главное препядствие - первое\n",
      "329265.8500361068 -70122.92413894273\n",
      "Ldif1 =  19.537357583297535\n",
      "Ldif2 =  2.3156821709445268\n",
      "Ldif_H1H_12 =  21.85303975424206 [дБ]\n",
      "___________________________________\n",
      "5000.0 -------------------------------\n",
      "Главное препядствие - первое\n",
      "352000.0 -70453.8856274088\n",
      "Ldif1 =  19.172474258232167\n",
      "Ldif2 =  2.6677931244301316\n",
      "Ldif_H1H_12 =  21.840267382662297 [дБ]\n",
      "___________________________________\n",
      "6000.0 -------------------------------\n",
      "Главное препядствие - первое\n",
      "373352.38046649704 -70408.33284017831\n",
      "Ldif1 =  18.911393073754002\n",
      "Ldif2 =  2.9462113388896936\n",
      "Ldif_H1H_12 =  21.857604412643695 [дБ]\n",
      "___________________________________\n",
      "7000.0 -------------------------------\n",
      "Главное препядствие - первое\n",
      "393547.964039963 -70199.71509913697\n",
      "Ldif1 =  18.715025249545022\n",
      "Ldif2 =  3.171727849278217\n",
      "Ldif_H1H_12 =  21.886753098823238 [дБ]\n",
      "___________________________________\n",
      "8000.0 -------------------------------\n",
      "Главное препядствие - первое\n",
      "412756.58686446183 -69929.8349646402\n",
      "Ldif1 =  18.561825877407877\n",
      "Ldif2 =  3.3580257324683243\n",
      "Ldif_H1H_12 =  21.9198516098762 [дБ]\n",
      "___________________________________\n",
      "9000.0 -------------------------------\n",
      "Главное препядствие - первое\n",
      "431110.19472983934 -69649.1205974634\n",
      "Ldif1 =  18.438902228957566\n",
      "Ldif2 =  3.514465721135727\n",
      "Ldif_H1H_12 =  21.953367950093295 [дБ]\n",
      "___________________________________\n",
      "10000.0 -------------------------------\n",
      "Главное препядствие - первое\n",
      "448713.7171961651 -69382.73918664077\n",
      "Ldif1 =  18.338050716101243\n",
      "Ldif2 =  3.6476614856522405\n",
      "Ldif_H1H_12 =  21.985712201753483 [дБ]\n",
      "___________________________________\n",
      "11000.0 -------------------------------\n",
      "Главное препядствие - первое\n",
      "465652.23074736795 -69142.85714285713\n",
      "Ldif1 =  18.253795917470995\n",
      "Ldif2 =  3.7624149720589832\n",
      "Ldif_H1H_12 =  22.01621088952998 [дБ]\n",
      "___________________________________\n",
      "12000.0 -------------------------------\n",
      "Главное препядствие - первое\n",
      "481995.8506045462 -68934.75175845635\n",
      "Ldif1 =  18.182340364969683\n",
      "Ldif2 =  3.862295059109258\n",
      "Ldif_H1H_12 =  22.04463542407894 [дБ]\n",
      "___________________________________\n",
      "13000.0 -------------------------------\n",
      "Главное препядствие - первое\n",
      "497803.17395532946 -68759.99927283304\n",
      "Ldif1 =  18.12096593812437\n",
      "Ldif2 =  3.950008343386151\n",
      "Ldif_H1H_12 =  22.070974281510523 [дБ]\n",
      "___________________________________\n",
      "14000.0 -------------------------------\n",
      "Главное препядствие - первое\n",
      "513123.7667463864 -68618.1954543024\n",
      "Ldif1 =  18.067674994344088\n",
      "Ldif2 =  4.027644049722342\n",
      "Ldif_H1H_12 =  22.09531904406643 [дБ]\n",
      "___________________________________\n",
      "15000.0 -------------------------------\n",
      "Главное препядствие - первое\n",
      "528000.0 -68507.907086214\n",
      "Ldif1 =  18.02096602560586\n",
      "Ldif2 =  4.096840144527338\n",
      "Ldif_H1H_12 =  22.117806170133196 [дБ]\n",
      "___________________________________\n"
     ]
    }
   ],
   "source": [
    "la = (3*10**8)/(f*10**6)\n",
    "Ldif_H1H_12 = np.zeros(15,)\n",
    "for i in range(15):\n",
    "    print(a[i], '-------------------------------')\n",
    "    h1 = H1 - (hT + a[i]*((hR - hT)/(a[i] + b + c)))\n",
    "    h2 = H_12 - (hT + (a[i])*((hR - hT)/(a[i] + b + c)))\n",
    "    \n",
    "    if (h1*math.sqrt((a[i] + b)*c) > h2*math.sqrt((b + c)*a[i])):\n",
    "        print('Главное препядствие - первое')\n",
    "        h1 = H1\n",
    "        h2 = H_12 - (hT + (a[i])*((hR - hT)/(a[i] + b)))\n",
    "    if (h1*math.sqrt((a[i] + b)*c) < h2*math.sqrt((b + c)*a[i])):\n",
    "        print('Главное препядствие - второе')\n",
    "        h2 = H_12\n",
    "        h1 = H1 - (hT + a[i]*((hR - hT)/(a[i] + b)))\n",
    "    \n",
    "        \n",
    "    print(h1*math.sqrt((a[i] + b)*c), h2*math.sqrt((b + c)*a[i]))\n",
    "    \n",
    "    d1_1 = math.sqrt(a[i]**2 + (H1-hT)**2)\n",
    "    d2_1 = math.sqrt(b**2 + (H1-H_12)**2)\n",
    "    v1 = h1*math.sqrt((2/la)*(1/d1_1 + 1/d2_1))\n",
    "    Ldif1 = 6.9 + 20*math.log10(math.sqrt((v1-0.1)**2+1)+v1-0.1)\n",
    "    print('Ldif1 = ', Ldif1)\n",
    "    \n",
    "    d1_2 = math.sqrt(b**2 + (H1-H_12)**2)\n",
    "    d2_2 = math.sqrt(c**2 + (H_12-hR)**2)\n",
    "    v2 = h2*math.sqrt((2/la)*(1/d1_2 + 1/d2_2))\n",
    "    Ldif2 = 6.9 + 20*math.log10(math.sqrt((v2-0.1)**2+1)+v2-0.1)\n",
    "    print('Ldif2 = ', Ldif2)\n",
    "    \n",
    "    \n",
    "    Ldif_H1H_12[i] = Ldif1 + Ldif2 \n",
    "    print('Ldif_H1H_12 = ', Ldif_H1H_12[i], '[дБ]')\n",
    "    print('___________________________________')"
   ]
  },
  {
   "cell_type": "markdown",
   "id": "08fb8f10",
   "metadata": {},
   "source": [
    "#### 2.1 Расчет потерь при изменении $a$ для  $H'_1$ и $H''_2$"
   ]
  },
  {
   "cell_type": "code",
   "execution_count": 76,
   "id": "a51ac1d6",
   "metadata": {},
   "outputs": [
    {
     "name": "stdout",
     "output_type": "stream",
     "text": [
      "1000.0 -------------------------------\n",
      "Главное препядствие - второе\n",
      "39597.97974644666 165831.23951777\n",
      "Ldif1 =  10.377994929681034\n",
      "Ldif2 =  19.59664315802331\n",
      "Ldif_H1H_22 =  29.974638087704342 [дБ]\n",
      "___________________________________\n",
      "2000.0 -------------------------------\n",
      "Главное препядствие - второе\n",
      "63245.55320336759 234520.78799117147\n",
      "Ldif1 =  10.902967637724476\n",
      "Ldif2 =  19.59664315802331\n",
      "Ldif_H1H_22 =  30.499610795747785 [дБ]\n",
      "___________________________________\n",
      "3000.0 -------------------------------\n",
      "Главное препядствие - второе\n",
      "83138.4387633061 287228.1323269014\n",
      "Ldif1 =  11.231980818997332\n",
      "Ldif2 =  19.59664315802331\n",
      "Ldif_H1H_22 =  30.82862397702064 [дБ]\n",
      "___________________________________\n",
      "4000.0 -------------------------------\n",
      "Главное препядствие - второе\n",
      "100490.22695907157 331662.47903554\n",
      "Ldif1 =  11.454031024036528\n",
      "Ldif2 =  19.59664315802331\n",
      "Ldif_H1H_22 =  31.050674182059836 [дБ]\n",
      "___________________________________\n",
      "5000.0 -------------------------------\n",
      "Главное препядствие - второе\n",
      "116000.0 370809.92435478314\n",
      "Ldif1 =  11.613718436042934\n",
      "Ldif2 =  19.59664315802331\n",
      "Ldif_H1H_22 =  31.210361594066242 [дБ]\n",
      "___________________________________\n",
      "6000.0 -------------------------------\n",
      "Главное препядствие - второе\n",
      "130107.64773832475 406201.920231798\n",
      "Ldif1 =  11.73405856628719\n",
      "Ldif2 =  19.59664315802331\n",
      "Ldif_H1H_22 =  31.3307017243105 [дБ]\n",
      "___________________________________\n",
      "7000.0 -------------------------------\n",
      "Главное препядствие - второе\n",
      "143108.35055998655 438748.21936960606\n",
      "Ldif1 =  11.828004964271067\n",
      "Ldif2 =  19.59664315802331\n",
      "Ldif_H1H_22 =  31.424648122294375 [дБ]\n",
      "___________________________________\n",
      "8000.0 -------------------------------\n",
      "Главное препядствие - второе\n",
      "155210.1215068844 469041.57598234294\n",
      "Ldif1 =  11.903389598438626\n",
      "Ldif2 =  19.59664315802331\n",
      "Ldif_H1H_22 =  31.500032756461934 [дБ]\n",
      "___________________________________\n",
      "9000.0 -------------------------------\n",
      "Главное препядствие - второе\n",
      "166565.3025092561 497493.71855331\n",
      "Ldif1 =  11.96522387728547\n",
      "Ldif2 =  19.59664315802331\n",
      "Ldif_H1H_22 =  31.56186703530878 [дБ]\n",
      "___________________________________\n",
      "10000.0 -------------------------------\n",
      "Главное препядствие - второе\n",
      "177288.9861649184 524404.4240850757\n",
      "Ldif1 =  12.016863258009344\n",
      "Ldif2 =  19.59664315802331\n",
      "Ldif_H1H_22 =  31.613506416032653 [дБ]\n",
      "___________________________________\n",
      "11000.0 -------------------------------\n",
      "Главное препядствие - второе\n",
      "187470.37861257672 550000.0\n",
      "Ldif1 =  12.060639151315907\n",
      "Ldif2 =  19.59664315802331\n",
      "Ldif_H1H_22 =  31.657282309339216 [дБ]\n",
      "___________________________________\n",
      "12000.0 -------------------------------\n",
      "Главное препядствие - второе\n",
      "197180.12070185982 574456.2646538028\n",
      "Ldif1 =  12.098222015815962\n",
      "Ldif2 =  19.59664315802331\n",
      "Ldif_H1H_22 =  31.69486517383927 [дБ]\n",
      "___________________________________\n",
      "13000.0 -------------------------------\n",
      "Главное препядствие - второе\n",
      "206475.18010647187 597913.0371550699\n",
      "Ldif1 =  12.130840174173295\n",
      "Ldif2 =  19.59664315802331\n",
      "Ldif_H1H_22 =  31.727483332196606 [дБ]\n",
      "___________________________________\n",
      "14000.0 -------------------------------\n",
      "Главное препядствие - второе\n",
      "215402.2229389911 620483.6822995428\n",
      "Ldif1 =  12.15941707739038\n",
      "Ldif2 =  19.59664315802331\n",
      "Ldif_H1H_22 =  31.75606023541369 [дБ]\n",
      "___________________________________\n",
      "15000.0 -------------------------------\n",
      "Главное препядствие - второе\n",
      "224000.0 642261.6289332565\n",
      "Ldif1 =  12.18466040622929\n",
      "Ldif2 =  19.59664315802331\n",
      "Ldif_H1H_22 =  31.781303564252596 [дБ]\n",
      "___________________________________\n"
     ]
    }
   ],
   "source": [
    "la = (3*10**8)/(f*10**6)\n",
    "Ldif_H1H_22 = np.zeros(15,)\n",
    "for i in range(15):\n",
    "    print(a[i], '-------------------------------') \n",
    "    h1 = H1 - (hT + a[i]*((hR - hT)/(a[i] + b + c)))\n",
    "    h2 = H_22 - (hT + (a[i])*((hR - hT)/(a[i] + b + c)))\n",
    "    if (h1*math.sqrt((a[i] + b)*c) > h2*math.sqrt((b + c)*a[i])):\n",
    "        print('Главное препядствие - первое')\n",
    "        h1 = H1\n",
    "        h2 = H_22 - (hT + (a[i])*((hR - hT)/(a[i] + b)))\n",
    "    if (h1*math.sqrt((a[i] + b)*c) < h2*math.sqrt((b + c)*a[i])):\n",
    "        print('Главное препядствие - второе')\n",
    "        h2 = H_22\n",
    "        h1 = H1 - (hT + a[i]*((hR - hT)/(a[i] + b)))\n",
    "    \n",
    "    print(h1*math.sqrt((a[i] + b)*c), h2*math.sqrt((b + c)*a[i]))\n",
    "    \n",
    "    d1_1 = math.sqrt(a[i]**2 + (H1-hT)**2)\n",
    "    d2_1 = math.sqrt(b**2 + (H1-H_12)**2)\n",
    "    v1 = h1*math.sqrt((2/la)*(1/d1_1 + 1/d2_1))\n",
    "    Ldif1 = 6.9 + 20*math.log10(math.sqrt((v1-0.1)**2+1)+v1-0.1)\n",
    "    print('Ldif1 = ', Ldif1)\n",
    "    \n",
    "    d1_2 = math.sqrt(b**2 + (H1-H_12)**2)\n",
    "    d2_2 = math.sqrt(c**2 + (H_12-hR)**2)\n",
    "    v2 = h2*math.sqrt((2/la)*(1/d1_2 + 1/d2_2))\n",
    "    Ldif2 = 6.9 + 20*math.log10(math.sqrt((v2-0.1)**2+1)+v2-0.1)\n",
    "    print('Ldif2 = ', Ldif2)\n",
    "    \n",
    "    \n",
    "    Ldif_H1H_22[i] = Ldif1 + Ldif2\n",
    "    print('Ldif_H1H_22 = ', Ldif_H1H_22[i], '[дБ]')\n",
    "    print('___________________________________')"
   ]
  },
  {
   "cell_type": "code",
   "execution_count": 78,
   "id": "3a382614",
   "metadata": {},
   "outputs": [
    {
     "data": {
      "text/plain": [
       "Text(0, 0.5, 'дБ')"
      ]
     },
     "execution_count": 78,
     "metadata": {},
     "output_type": "execute_result"
    },
    {
     "data": {
      "image/png": "[encoded data removed]",
      "text/plain": [
       "<Figure size 432x288 with 1 Axes>"
      ]
     },
     "metadata": {
      "needs_background": "light"
     },
     "output_type": "display_data"
    }
   ],
   "source": [
    "plt.plot(a, Ldif_H1H_12)\n",
    "plt.plot(a, Ldif_H1H_22)\n",
    "plt.grid()\n",
    "plt.xlabel('м')\n",
    "plt.ylabel('дБ')"
   ]
  },
  {
   "cell_type": "markdown",
   "id": "0bd11b39",
   "metadata": {},
   "source": [
    "### 3.Расчет потерь при изменении $b$"
   ]
  },
  {
   "cell_type": "markdown",
   "id": "6a12ad24",
   "metadata": {},
   "source": [
    "#### 3.1 Расчет потерь при изменении $b$ для  $H'_1$ и $H'_2$"
   ]
  },
  {
   "cell_type": "code",
   "execution_count": 96,
   "id": "8b70250b",
   "metadata": {},
   "outputs": [],
   "source": [
    "a = 5000\n",
    "c = 8000\n",
    "k = 1000\n",
    "b = np.zeros(15,)\n",
    "for i in range(15):\n",
    "    b[i] = k\n",
    "    k += 1000"
   ]
  },
  {
   "cell_type": "code",
   "execution_count": 97,
   "id": "de0340a2",
   "metadata": {},
   "outputs": [
    {
     "name": "stdout",
     "output_type": "stream",
     "text": [
      "L2dif_H1H_12 =  25.602412782640208 [дБ]\n",
      "L2dif_H1H_12 =  23.11892359423937 [дБ]\n",
      "L2dif_H1H_12 =  21.840267382662297 [дБ]\n",
      "L2dif_H1H_12 =  21.040761761717384 [дБ]\n",
      "L2dif_H1H_12 =  20.489199105813093 [дБ]\n",
      "L2dif_H1H_12 =  20.08447133540733 [дБ]\n",
      "L2dif_H1H_12 =  19.774419944020927 [дБ]\n",
      "L2dif_H1H_12 =  19.52915900020853 [дБ]\n",
      "L2dif_H1H_12 =  19.330251691290897 [дБ]\n",
      "L2dif_H1H_12 =  19.165677205089153 [дБ]\n",
      "L2dif_H1H_12 =  19.027251414871582 [дБ]\n",
      "L2dif_H1H_12 =  18.909204370442545 [дБ]\n",
      "L2dif_H1H_12 =  18.807349105295255 [дБ]\n",
      "L2dif_H1H_12 =  18.718572651303987 [дБ]\n",
      "L2dif_H1H_12 =  18.640511993163447 [дБ]\n"
     ]
    }
   ],
   "source": [
    "la = (3*10**8)/(f*10**6)\n",
    "L2dif_H1H_12 = np.zeros(15,)\n",
    "for i in range(15):\n",
    "    #print(b[i], '-------------------------------')\n",
    "    h1 = H1 - (hT + a*((hR - hT)/(a + b[i] + c)))\n",
    "    h2 = H_12 - (hT + a*((hR - hT)/(a + b[i] + c)))\n",
    "    \n",
    "    if (h1*math.sqrt((a + b[i])*c) > h2*math.sqrt((b[i] + c)*a)):\n",
    "        #print('Главное препядствие - первое')\n",
    "        h1 = H1\n",
    "        h2 = H_12 - (hT + a*((hR - hT)/(a + b[i])))\n",
    "    if (h1*math.sqrt((a + b[i])*c) < h2*math.sqrt((b[i] + c)*a)):\n",
    "        #print('Главное препядствие - второе')\n",
    "        h2 = H_12\n",
    "        h1 = H1 - (hT + a[i]*((hR - hT)/(a + b[i])))\n",
    "    \n",
    "       \n",
    "    #print(h1*math.sqrt((a + b[i])*c), h2*math.sqrt((b[i] + c)*a))\n",
    "    \n",
    "    d1_1 = math.sqrt(a**2 + (H1-hT)**2)\n",
    "    d2_1 = math.sqrt(b[i]**2 + (H1-H_12)**2)\n",
    "    v1 = h1*math.sqrt((2/la)*(1/d1_1 + 1/d2_1))\n",
    "    Ldif1 = 6.9 + 20*math.log10(math.sqrt((v1-0.1)**2+1)+v1-0.1)\n",
    "    #print('Ldif1 = ', Ldif1)\n",
    "    \n",
    "    d1_2 = math.sqrt(b[i]**2 + (H1-H_12)**2)\n",
    "    d2_2 = math.sqrt(c**2 + (H_12-hR)**2)\n",
    "    v2 = h2*math.sqrt((2/la)*(1/d1_2 + 1/d2_2))\n",
    "    Ldif2 = 6.9 + 20*math.log10(math.sqrt((v2-0.1)**2+1)+v2-0.1)\n",
    "    #print('Ldif2 = ', Ldif2)\n",
    "    \n",
    "    \n",
    "    L2dif_H1H_12[i] = Ldif1 + Ldif2 \n",
    "    print('L2dif_H1H_12 = ', L2dif_H1H_12[i], '[дБ]')\n",
    "    #print('___________________________________')"
   ]
  },
  {
   "cell_type": "markdown",
   "id": "b75114f9",
   "metadata": {},
   "source": [
    "#### 3.2 Расчет потерь при изменении $b$ для  $H'_1$ и $H''_2$"
   ]
  },
  {
   "cell_type": "code",
   "execution_count": 98,
   "id": "8d11206f",
   "metadata": {},
   "outputs": [
    {
     "name": "stdout",
     "output_type": "stream",
     "text": [
      "129326.46029847617 335410.1966249685\n",
      "L2dif_H1H_22 =  39.05437529448443 [дБ]\n",
      "121871.1263120655 353553.39059327374\n",
      "L2dif_H1H_22 =  33.88144960831299 [дБ]\n",
      "116000.0 370809.92435478314\n",
      "L2dif_H1H_22 =  31.210491433592534 [дБ]\n",
      "111251.46690668346 387298.3346207417\n",
      "L2dif_H1H_22 =  29.51949977551663 [дБ]\n",
      "107331.26291998991 403112.8874149275\n",
      "L2dif_H1H_22 =  28.336947253887573 [дБ]\n",
      "104041.94958153792 418330.0132670378\n",
      "L2dif_H1H_22 =  27.457852352245226 [дБ]\n",
      "101245.57603503804 433012.7018922193\n",
      "L2dif_H1H_22 =  26.77628168497742 [дБ]\n",
      "98842.53210964477 447213.59549995797\n",
      "L2dif_H1H_22 =  26.2312224622289 [дБ]\n",
      "96758.9050903622 460977.2228646444\n",
      "L2dif_H1H_22 =  25.78478082782709 [дБ]\n",
      "94938.57663422877 474341.6490252569\n",
      "L2dif_H1H_22 =  25.41206547643934 [дБ]\n",
      "93338.09511662427 487339.7172404482\n",
      "L2dif_H1H_22 =  25.095999135068055 [дБ]\n",
      "91923.24163638474 500000.0\n",
      "L2dif_H1H_22 =  24.824449553346064 [дБ]\n",
      "90666.66666666669 512347.5382979799\n",
      "L2dif_H1H_22 =  24.588546788304512 [дБ]\n",
      "89546.22446418092 524404.4240850757\n",
      "L2dif_H1H_22 =  24.381648167218316 [дБ]\n",
      "88543.77448471462 536190.2647381804\n",
      "L2dif_H1H_22 =  24.19867608829803 [дБ]\n"
     ]
    }
   ],
   "source": [
    "la = (3*10**8)/(f*10**6)\n",
    "L2dif_H1H_22 = np.zeros(15,)\n",
    "for i in range(15):\n",
    "    #print(b[i], '-------------------------------')\n",
    "    h1 = H1 - (hT + a*((hR - hT)/(a + b[i] + c)))\n",
    "    h2 = H_22 - (hT + a*((hR - hT)/(a + b[i] + c)))\n",
    "    \n",
    "    if (h1*math.sqrt((a + b[i])*c) > h2*math.sqrt((b[i] + c)*a)):\n",
    "        #print('Главное препядствие - первое')\n",
    "        h1 = H1\n",
    "        h2 = H_22 - (hT + a*((hR - hT)/(a + b[i])))\n",
    "    if (h1*math.sqrt((a + b[i])*c) < h2*math.sqrt((b[i] + c)*a)):\n",
    "        #print('Главное препядствие - второе')\n",
    "        h2 = H_22\n",
    "        h1 = H1 - (hT + a*((hR - hT)/(a + b[i])))\n",
    "    \n",
    "       \n",
    "    print(h1*math.sqrt((a + b[i])*c), h2*math.sqrt((b[i] + c)*a))\n",
    "    \n",
    "    d1_1 = math.sqrt(a**2 + (H1-hT)**2)\n",
    "    d2_1 = math.sqrt(b[i]**2 + (H1-H_22)**2)\n",
    "    v1 = h1*math.sqrt((2/la)*(1/d1_1 + 1/d2_1))\n",
    "    Ldif1 = 6.9 + 20*math.log10(math.sqrt((v1-0.1)**2+1)+v1-0.1)\n",
    "    #print('Ldif1 = ', Ldif1)\n",
    "    \n",
    "    d1_2 = math.sqrt(b[i]**2 + (H1-H_22)**2)\n",
    "    d2_2 = math.sqrt(c**2 + (H_22-hR)**2)\n",
    "    v2 = h2*math.sqrt((2/la)*(1/d1_2 + 1/d2_2))\n",
    "    Ldif2 = 6.9 + 20*math.log10(math.sqrt((v2-0.1)**2+1)+v2-0.1)\n",
    "    #print('Ldif2 = ', Ldif2)\n",
    "    \n",
    "    \n",
    "    L2dif_H1H_22[i] = Ldif1 + Ldif2 \n",
    "    print('L2dif_H1H_22 = ', L2dif_H1H_22[i], '[дБ]')\n",
    "    #print('___________________________________')"
   ]
  },
  {
   "cell_type": "code",
   "execution_count": 99,
   "id": "c0b68cb7",
   "metadata": {},
   "outputs": [
    {
     "data": {
      "text/plain": [
       "Text(0, 0.5, 'дБ')"
      ]
     },
     "execution_count": 99,
     "metadata": {},
     "output_type": "execute_result"
    },
    {
     "data": {
      "image/png": "[encoded data removed]",
      "text/plain": [
       "<Figure size 432x288 with 1 Axes>"
      ]
     },
     "metadata": {
      "needs_background": "light"
     },
     "output_type": "display_data"
    }
   ],
   "source": [
    "plt.plot(b, L2dif_H1H_12)\n",
    "plt.plot(b, L2dif_H1H_22)\n",
    "plt.grid()\n",
    "plt.xlabel('м')\n",
    "plt.ylabel('дБ')"
   ]
  },
  {
   "cell_type": "markdown",
   "id": "0d4bc75b",
   "metadata": {},
   "source": [
    "### 4.Расчет потерь при изменении $c$"
   ]
  },
  {
   "cell_type": "markdown",
   "id": "637d6179",
   "metadata": {},
   "source": [
    "#### 4.1 Расчет потерь при изменении $c$ для  $H'_1$ и $H'_2$"
   ]
  },
  {
   "cell_type": "code",
   "execution_count": 103,
   "id": "f16ef181",
   "metadata": {},
   "outputs": [],
   "source": [
    "a = 5000\n",
    "b = 3000\n",
    "k = 1000\n",
    "c = np.zeros(15,)\n",
    "for i in range(15):\n",
    "    c[i] = k\n",
    "    k += 1000"
   ]
  },
  {
   "cell_type": "code",
   "execution_count": 113,
   "id": "4f41eeaf",
   "metadata": {},
   "outputs": [
    {
     "name": "stdout",
     "output_type": "stream",
     "text": [
      "124450.79348883237 -42485.291572496004\n",
      "L3dif_H1H_12 =  19.750859525543145 [дБ]\n",
      "176000.0 -47500.0\n",
      "L3dif_H1H_12 =  20.77452686174165 [дБ]\n",
      "215555.09736491967 -52033.64296299079\n",
      "L3dif_H1H_12 =  21.202075923016363 [дБ]\n",
      "248901.58697766473 -56202.757939446354\n",
      "L3dif_H1H_12 =  21.440681655511774 [дБ]\n",
      "278280.4340948174 -60083.27554319921\n",
      "L3dif_H1H_12 =  21.593789315853982 [дБ]\n",
      "304840.9421321224 -63727.937358744006\n",
      "L3dif_H1H_12 =  21.700642465254123 [дБ]\n",
      "329265.8500361068 -67175.144212722\n",
      "L3dif_H1H_12 =  21.7795558613481 [дБ]\n",
      "352000.0 -70453.8856274088\n",
      "L3dif_H1H_12 =  21.840267382662297 [дБ]\n",
      "373352.38046649704 -73586.68357794093\n",
      "L3dif_H1H_12 =  21.888446214275266 [дБ]\n",
      "393547.964039963 -76591.44860883622\n",
      "L3dif_H1H_12 =  21.927622074896036 [дБ]\n",
      "412756.58686446183 -79482.70252073718\n",
      "L3dif_H1H_12 =  21.960109686756542 [дБ]\n",
      "431110.19472983934 -82272.41335952167\n",
      "L3dif_H1H_12 =  21.987491169809903 [дБ]\n",
      "448713.7171961651 -84970.58314499201\n",
      "L3dif_H1H_12 =  22.0108851403504 [дБ]\n",
      "465652.23074736795 -87585.67234428244\n",
      "L3dif_H1H_12 =  22.031105138156292 [дБ]\n",
      "481995.8506045462 -90124.91331479882\n",
      "L3dif_H1H_12 =  22.048757142798603 [дБ]\n"
     ]
    }
   ],
   "source": [
    "la = (3*10**8)/(f*10**6)\n",
    "L3dif_H1H_12 = np.zeros(15,)\n",
    "for i in range(15):\n",
    "    #print(b[i], '-------------------------------')\n",
    "    h1 = H1 - (hT + a*((hR - hT)/(a + b + c[i])))\n",
    "    h2 = H_12 - (hT + a*((hR - hT)/(a + b + c[i])))\n",
    "    \n",
    "    if (h1*math.sqrt((a + b)*c[i]) > h2*math.sqrt((b + c[i])*a)):\n",
    "        #print('Главное препядствие - первое')\n",
    "        h1 = H1\n",
    "        h2 = H_12 - (hT + a*((hR - hT)/(a + b)))\n",
    "    if (h1*math.sqrt((a + b)*c[i]) < h2*math.sqrt((b + c[i])*a)):\n",
    "        #print('Главное препядствие - второе')\n",
    "        h2 = H_12\n",
    "        h1 = H1 - (hT + a*((hR - hT)/(a + b)))\n",
    "    \n",
    "    print(h1*math.sqrt((a + b)*c[i]), h2*math.sqrt((b + c[i])*a))\n",
    "    \n",
    "    d1_1 = math.sqrt(a**2 + (H1-hT)**2)\n",
    "    d2_1 = math.sqrt(b**2 + (H1-H_12)**2)\n",
    "    v1 = h1*math.sqrt((2/la)*(1/d1_1 + 1/d2_1))\n",
    "    Ldif1 = 6.9 + 20*math.log10(math.sqrt((v1-0.1)**2+1)+v1-0.1)\n",
    "    #print('Ldif1 = ', Ldif1)\n",
    "    \n",
    "    d1_2 = math.sqrt(b**2 + (H1-H_12)**2)\n",
    "    d2_2 = math.sqrt(c[i]**2 + (H_12-hR)**2)\n",
    "    v2 = h2*math.sqrt((2/la)*(1/d1_2 + 1/d2_2))\n",
    "    Ldif2 = 6.9 + 20*math.log10(math.sqrt((v2-0.1)**2+1)+v2-0.1)\n",
    "    #print('Ldif2 = ', Ldif2)\n",
    "    \n",
    "    L3dif_H1H_12[i] = Ldif1 + Ldif2 \n",
    "    print('L3dif_H1H_12 = ', L3dif_H1H_12[i], '[дБ]')\n",
    "    "
   ]
  },
  {
   "cell_type": "markdown",
   "id": "df5488a7",
   "metadata": {},
   "source": [
    "#### 4.1 Расчет потерь при изменении $c$ для  $H'_1$ и $H''_2$"
   ]
  },
  {
   "cell_type": "code",
   "execution_count": null,
   "id": "5568d18f",
   "metadata": {},
   "outputs": [],
   "source": []
  },
  {
   "cell_type": "code",
   "execution_count": 114,
   "id": "db519fba",
   "metadata": {},
   "outputs": [
    {
     "name": "stdout",
     "output_type": "stream",
     "text": [
      "41012.193308819755 223606.79774997898\n",
      "L3dif_H1H_12 =  19.750859525543145 [дБ]\n",
      "58000.0 250000.0\n",
      "L3dif_H1H_12 =  20.77452686174165 [дБ]\n",
      "71035.20254071215 273861.2787525831\n",
      "L3dif_H1H_12 =  21.202075923016363 [дБ]\n",
      "82024.38661763951 295803.9891549808\n",
      "L3dif_H1H_12 =  21.440681655511774 [дБ]\n",
      "91706.05214488301 316227.76601683797\n",
      "L3dif_H1H_12 =  21.593789315853982 [дБ]\n",
      "100458.94683899487 335410.1966249685\n",
      "L3dif_H1H_12 =  21.700642465254123 [дБ]\n",
      "108508.0642164443 353553.39059327374\n",
      "L3dif_H1H_12 =  21.7795558613481 [дБ]\n",
      "116000.0 370809.92435478314\n",
      "L3dif_H1H_12 =  21.840267382662297 [дБ]\n",
      "123036.57992645926 387298.3346207417\n",
      "L3dif_H1H_12 =  21.888446214275266 [дБ]\n",
      "129691.94269498781 403112.8874149275\n",
      "L3dif_H1H_12 =  21.927622074896036 [дБ]\n",
      "136022.05703487946 418330.0132670378\n",
      "L3dif_H1H_12 =  21.960109686756542 [дБ]\n",
      "142070.4050814243 433012.7018922193\n",
      "L3dif_H1H_12 =  21.987491169809903 [дБ]\n",
      "147871.56589419077 447213.59549995797\n",
      "L3dif_H1H_12 =  22.0108851403504 [дБ]\n",
      "153453.57604174624 460977.2228646444\n",
      "L3dif_H1H_12 =  22.031105138156292 [дБ]\n",
      "158839.5416764982 474341.6490252569\n",
      "L3dif_H1H_12 =  22.048757142798603 [дБ]\n"
     ]
    }
   ],
   "source": [
    "la = (3*10**8)/(f*10**6)\n",
    "L3dif_H1H_22 = np.zeros(15,)\n",
    "for i in range(15):\n",
    "    #print(b[i], '-------------------------------')\n",
    "    h1 = H1 - (hT + a*((hR - hT)/(a + b + c[i])))\n",
    "    h2 = H_22 - (hT + a*((hR - hT)/(a + b + c[i])))\n",
    "    \n",
    "    if (h1*math.sqrt((a + b)*c[i]) > h2*math.sqrt((b + c[i])*a)):\n",
    "        #print('Главное препядствие - первое')\n",
    "        h1 = H1\n",
    "        h2 = H_22 - (hT + a*((hR - hT)/(a + b)))\n",
    "    if (h1*math.sqrt((a + b)*c[i]) < h2*math.sqrt((b + c[i])*a)):\n",
    "        #print('Главное препядствие - второе')\n",
    "        h2 = H_22\n",
    "        h1 = H1 - (hT + a*((hR - hT)/(a + b)))\n",
    "    \n",
    "    print(h1*math.sqrt((a + b)*c[i]), h2*math.sqrt((b + c[i])*a))\n",
    "    \n",
    "    d1_1 = math.sqrt(a**2 + (H1-hT)**2)\n",
    "    d2_1 = math.sqrt(b**2 + (H1-H_22)**2)\n",
    "    v1 = h1*math.sqrt((2/la)*(1/d1_1 + 1/d2_1))\n",
    "    Ldif1 = 6.9 + 20*math.log10(math.sqrt((v1-0.1)**2+1)+v1-0.1)\n",
    "    #print('Ldif1 = ', Ldif1)\n",
    "    \n",
    "    d1_2 = math.sqrt(b**2 + (H1-H_22)**2)\n",
    "    d2_2 = math.sqrt(c[i]**2 + (H_22-hR)**2)\n",
    "    v2 = h2*math.sqrt((2/la)*(1/d1_2 + 1/d2_2))\n",
    "    Ldif2 = 6.9 + 20*math.log10(math.sqrt((v2-0.1)**2+1)+v2-0.1)\n",
    "    #print('Ldif2 = ', Ldif2)\n",
    "    \n",
    "    L3dif_H1H_22[i] = Ldif1 + Ldif2 \n",
    "    print('L3dif_H1H_12 = ', L3dif_H1H_12[i], '[дБ]')"
   ]
  },
  {
   "cell_type": "code",
   "execution_count": 116,
   "id": "6cbf3743",
   "metadata": {},
   "outputs": [
    {
     "data": {
      "text/plain": [
       "Text(0, 0.5, 'дБ')"
      ]
     },
     "execution_count": 116,
     "metadata": {},
     "output_type": "execute_result"
    },
    {
     "data": {
      "image/png": "[encoded data removed]",
      "text/plain": [
       "<Figure size 432x288 with 1 Axes>"
      ]
     },
     "metadata": {
      "needs_background": "light"
     },
     "output_type": "display_data"
    }
   ],
   "source": [
    "plt.plot(c, L3dif_H1H_12)\n",
    "plt.plot(c, L3dif_H1H_22)\n",
    "plt.grid()\n",
    "plt.xlabel('м')\n",
    "plt.ylabel('дБ')"
   ]
  },
  {
   "cell_type": "code",
   "execution_count": null,
   "id": "fc9d89be",
   "metadata": {},
   "outputs": [],
   "source": []
  }
 ],
 "metadata": {
  "kernelspec": {
   "display_name": "Python 3 (ipykernel)",
   "language": "python",
   "name": "python3"
  },
  "language_info": {
   "codemirror_mode": {
    "name": "ipython",
    "version": 3
   },
   "file_extension": ".py",
   "mimetype": "text/x-python",
   "name": "python",
   "nbconvert_exporter": "python",
   "pygments_lexer": "ipython3",
   "version": "3.9.7"
  }
 },
 "nbformat": 4,
 "nbformat_minor": 5
}
