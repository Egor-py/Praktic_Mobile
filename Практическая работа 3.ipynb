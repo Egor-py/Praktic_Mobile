{
 "cells": [
  {
   "cell_type": "markdown",
   "id": "854efde1",
   "metadata": {},
   "source": [
    "<h1><center>Практическая работа 3</center></h1>\n",
    "<h1><center>Расчет потерь на трассе радиоканала по моделям Уолфиша-Икегами и Кся-Бертони</center></h1>\n",
    "<h4>Выполнил Дмитриев Егор ИКТУ-88 Вариант 3</h4>"
   ]
  },
  {
   "cell_type": "markdown",
   "id": "21068c24",
   "metadata": {},
   "source": [
    "## Цель работы:\n",
    ">Ознакомится с принципами расчета потерь в радиоканале согласно моделям Уолфиша-Икегами и Кся-Бертони"
   ]
  },
  {
   "cell_type": "markdown",
   "id": "ffd83fa6",
   "metadata": {},
   "source": [
    "## 1. Выбор значений по номеру варианта\n",
    "> $ f=1000МГц; h_r=25м; h_{bs1}=32м; h_{bs2}=22м; h_{ms}=1.4м; \\phi = 40град $"
   ]
  },
  {
   "cell_type": "markdown",
   "id": "46420998",
   "metadata": {},
   "source": [
    "## 2. Расчет и построение графиков зависимости величины потерь в дБ от расстояния "
   ]
  },
  {
   "cell_type": "code",
   "execution_count": 1,
   "id": "ec97ae38",
   "metadata": {},
   "outputs": [],
   "source": [
    "import math\n",
    "import numpy as np\n",
    "import matplotlib.pyplot as plt\n",
    "import cmath\n",
    "f = 1000\n",
    "hr = 25\n",
    "hbs1 = 32\n",
    "hbs2 = 22\n",
    "hms = 1.4\n",
    "phi = 40\n",
    "w = 15\n",
    "b = 40"
   ]
  },
  {
   "cell_type": "code",
   "execution_count": 2,
   "id": "8580cbcc",
   "metadata": {},
   "outputs": [
    {
     "name": "stdout",
     "output_type": "stream",
     "text": [
      "[0.2 0.3 0.4 0.5 0.6 0.7 0.8 0.9 1.  1.1 1.2 1.3 1.4 1.5]\n"
     ]
    }
   ],
   "source": [
    "d = np.zeros(14,)\n",
    "k = 0.2\n",
    "for i in range(14):\n",
    "    d[i] = k\n",
    "    k += 0.1\n",
    "print(d)"
   ]
  },
  {
   "cell_type": "markdown",
   "id": "33b913d9",
   "metadata": {},
   "source": [
    "### 2.a  Модель Уолфиша-Икегами. В зоне прямой видимости"
   ]
  },
  {
   "cell_type": "code",
   "execution_count": 3,
   "id": "d86eebfe",
   "metadata": {},
   "outputs": [
    {
     "name": "stdout",
     "output_type": "stream",
     "text": [
      "84.4267798872635 [дБ]\n",
      "89.00515262271122 [дБ]\n",
      "92.25355977452702 [дБ]\n",
      "94.77322011273648 [дБ]\n",
      "96.83193250997473 [дБ]\n",
      "98.57254904037069 [дБ]\n",
      "100.08033966179053 [дБ]\n",
      "101.41030524542245 [дБ]\n",
      "102.6 [дБ]\n",
      "103.67620981411386 [дБ]\n",
      "104.65871239723825 [дБ]\n",
      "105.56252715997775 [дБ]\n",
      "106.3993289276342 [дБ]\n",
      "107.17837273544771 [дБ]\n"
     ]
    }
   ],
   "source": [
    "Llos = np.zeros(14,)\n",
    "for i in range(14):\n",
    "    Llos[i] = 42.6 + 26*math.log10(d[i]) + 20*math.log10(f)\n",
    "    print(Llos[i], '[дБ]')"
   ]
  },
  {
   "cell_type": "markdown",
   "id": "08e1b712",
   "metadata": {},
   "source": [
    "### 2.б  Модель Уолфиша-Икегами. Вне зоны прямой видимости. Высота BS $h_{bs1}$. Город средних размеров"
   ]
  },
  {
   "cell_type": "markdown",
   "id": "68b7fa28",
   "metadata": {},
   "source": [
    "$ \\Delta h_{ms} = h_r - h_{ms}$ \\\n",
    "$ L_{ori} = 2,5+0,075(\\phi - 35),$ при $35 \\le \\phi < 55 $"
   ]
  },
  {
   "cell_type": "code",
   "execution_count": 4,
   "id": "6fe17cbb",
   "metadata": {},
   "outputs": [],
   "source": [
    "dhms = hr - hms\n",
    "Lori = 2.5 + 0.075*(phi - 35)\n",
    "Lrts = -16.9 - 10*math.log10(w) + 10*math.log10(f) + 20*math.log10(dhms) + Lori"
   ]
  },
  {
   "cell_type": "markdown",
   "id": "82d51116",
   "metadata": {},
   "source": [
    "$ \\Delta h_{bs} = h_{bs} - h_r $ \\\n",
    "\\\n",
    "$ L_{bsh} = -18lg(1 + \\Delta h_{bs}), $ при $ h_{bs} > h_r $ \\\n",
    "\\\n",
    "$ k_a = 54, $  при $ h_{bs} > h_r $ \\\n",
    "\\\n",
    "$ k_d = 18, $  при $ h_{bs} \\ge h_r $ \\\n",
    "\\\n",
    "$ k_f = -4+0,7*(\\frac{f}{925} - 1),$  для города средних размеров \\\n",
    "\\\n",
    "$ L_{msd}[дБ] = L_{bsh} + k_a + k_d \\cdot \\lg(d_{[км]} + k_f \\cdot \\lg(f_{[МГц]}) - 9 \\cdot \\lg(b_{[м]})$ \\\n",
    "\\\n",
    "$ L_{msd}[дБ] = -18lg(1 + \\Delta h_{bs}) + 54 + 18 \\cdot \\lg(d_{[км]}) + (-4+0,7\\cdot(\\frac{f}{925} - 1)) \\cdot \\lg(f_{[МГц]}) - 9 \\cdot \\lg(b_{[м]})$\\\n",
    "\\\n",
    "$ L_{NLOS}[дБ] = L_0 + L_{rts} + L_{msd} $"
   ]
  },
  {
   "cell_type": "code",
   "execution_count": 5,
   "id": "a8cac68b",
   "metadata": {},
   "outputs": [
    {
     "name": "stdout",
     "output_type": "stream",
     "text": [
      "Lmsd + Lrts =  30.586977973260602 > 0    ===>   Lnlos_1 =  109.04757788654021 [дБ]\n",
      "Lmsd + Lrts =  33.756620636262866 > 0    ===>   Lnlos_1 =  115.73904573065612 [дБ]\n",
      "Lmsd + Lrts =  36.005517895212265 > 0    ===>   Lnlos_1 =  120.48671772177151 [дБ]\n",
      "Lmsd + Lrts =  37.74989812935728 > 0    ===>   Lnlos_1 =  124.16929821607765 [дБ]\n",
      "Lmsd + Lrts =  39.17516055821452 > 0    ===>   Lnlos_1 =  127.17818556588739 [дБ]\n",
      "Lmsd + Lrts =  40.380202771565564 > 0    ===>   Lnlos_1 =  129.7221635718507 [дБ]\n",
      "Lmsd + Lrts =  41.42405781716392 > 0    ===>   Lnlos_1 =  131.9258575570028 [дБ]\n",
      "Lmsd + Lrts =  42.344803221216786 > 0    ===>   Lnlos_1 =  133.86965341000328 [дБ]\n",
      "Lmsd + Lrts =  43.16843805130894 > 0    ===>   Lnlos_1 =  135.60843805130892 [дБ]\n",
      "Lmsd + Lrts =  43.91350638415699 > 0    ===>   Lnlos_1 =  137.18136008732148 [дБ]\n",
      "Lmsd + Lrts =  44.593700480166184 > 0    ===>   Lnlos_1 =  138.61732540111868 [дБ]\n",
      "Lmsd + Lrts =  45.219418392832004 > 0    ===>   Lnlos_1 =  139.93828543896876 [дБ]\n",
      "Lmsd + Lrts =  45.79874269351723 > 0    ===>   Lnlos_1 =  141.161303407082 [дБ]\n",
      "Lmsd + Lrts =  46.338080714311204 > 0    ===>   Lnlos_1 =  142.2999058954248 [дБ]\n"
     ]
    }
   ],
   "source": [
    "dhbs = hbs1 - hr\n",
    "Lnlos_1 = np.zeros(14,)\n",
    "for i in range(14):\n",
    "    Lmsd = (-18*math.log10(1 + dhbs) \n",
    "            + 54 + 18*math.log10(d[i]) \n",
    "            + (-4 + 0.7*(f/925 - 1))*math.log10(f)\n",
    "            - 9*math.log10(b)\n",
    "           )\n",
    "    Lnlos_1[i] = 32.44 + 20*math.log10(d[i]) + 20*math.log10(f) + Lrts + Lmsd\n",
    "    print('Lmsd + Lrts = ', Lmsd+Lrts, '> 0  ', ' ===>   Lnlos_1 = ', Lnlos_1[i], '[дБ]' )"
   ]
  },
  {
   "cell_type": "markdown",
   "id": "229921f3",
   "metadata": {},
   "source": [
    "### 2.в  Модель Уолфиша-Икегами. Вне зоны прямой видимости. Высота BS $h_{bs1}$. Город с плотной застройкой"
   ]
  },
  {
   "cell_type": "markdown",
   "id": "9ac4b3a6",
   "metadata": {},
   "source": [
    "$ \\Delta h_{ms} = h_r - h_{ms}$ \\\n",
    "$ L_{ori} = 2,5+0,075(\\phi - 35),$ при $35 \\le \\phi < 55 $"
   ]
  },
  {
   "cell_type": "code",
   "execution_count": 6,
   "id": "9240d8e2",
   "metadata": {},
   "outputs": [],
   "source": [
    "dhms = hr - hms\n",
    "Lori = 2.5 + 0.075*(phi - 35)\n",
    "Lrts = -16.9 - 10*math.log10(w) + 10*math.log10(f) + 20*math.log10(dhms) + Lori"
   ]
  },
  {
   "cell_type": "markdown",
   "id": "82414d42",
   "metadata": {},
   "source": [
    "$ \\Delta h_{bs} = h_{bs} - h_r $ \\\n",
    "\\\n",
    "$ L_{bsh} = -18lg(1 + \\Delta h_{bs}), $ при $ h_{bs} > h_r $ \\\n",
    "\\\n",
    "$ k_a = 54, $  при $ h_{bs} > h_r $ \\\n",
    "\\\n",
    "$ k_d = 18, $  при $ h_{bs} \\ge h_r $ \\\n",
    "\\\n",
    "$ k_f = -4+1,5*(\\frac{f}{925} - 1),$  для города с плотной застройкой \\\n",
    "\\\n",
    "$ L_{msd}[дБ] = L_{bsh} + k_a + k_d \\cdot \\lg(d_{[км]} + k_f \\cdot \\lg(f_{[МГц]}) - 9 \\cdot \\lg(b_{[м]})$ \\\n",
    "\\\n",
    "$ L_{msd}[дБ] = -18lg(1 + \\Delta h_{bs}) + 54 + 18 \\cdot \\lg(d_{[км]}) + (-4+1,5\\cdot(\\frac{f}{925} - 1)) \\cdot \\lg(f_{[МГц]}) - 9 \\cdot \\lg(b_{[м]})$\\\n",
    "\\\n",
    "$ L_{NLOS}[дБ] = L_0 + L_{rts} + L_{msd} $"
   ]
  },
  {
   "cell_type": "code",
   "execution_count": 7,
   "id": "a6406177",
   "metadata": {},
   "outputs": [
    {
     "name": "stdout",
     "output_type": "stream",
     "text": [
      "Lmsd + Lrts =  30.7815725678552 > 0    ===>   Lnlos_2 =  109.24217248113482 [дБ]\n",
      "Lmsd + Lrts =  33.951215230857464 > 0    ===>   Lnlos_2 =  115.9336403252507 [дБ]\n",
      "Lmsd + Lrts =  36.20011248980686 > 0    ===>   Lnlos_2 =  120.6813123163661 [дБ]\n",
      "Lmsd + Lrts =  37.944492723951875 > 0    ===>   Lnlos_2 =  124.36389281067224 [дБ]\n",
      "Lmsd + Lrts =  39.36975515280912 > 0    ===>   Lnlos_2 =  127.37278016048198 [дБ]\n",
      "Lmsd + Lrts =  40.57479736616016 > 0    ===>   Lnlos_2 =  129.91675816644528 [дБ]\n",
      "Lmsd + Lrts =  41.61865241175852 > 0    ===>   Lnlos_2 =  132.1204521515974 [дБ]\n",
      "Lmsd + Lrts =  42.539397815811384 > 0    ===>   Lnlos_2 =  134.06424800459789 [дБ]\n",
      "Lmsd + Lrts =  43.36303264590354 > 0    ===>   Lnlos_2 =  135.80303264590353 [дБ]\n",
      "Lmsd + Lrts =  44.10810097875159 > 0    ===>   Lnlos_2 =  137.37595468191606 [дБ]\n",
      "Lmsd + Lrts =  44.78829507476078 > 0    ===>   Lnlos_2 =  138.81191999571328 [дБ]\n",
      "Lmsd + Lrts =  45.4140129874266 > 0    ===>   Lnlos_2 =  140.13288003356334 [дБ]\n",
      "Lmsd + Lrts =  45.993337288111825 > 0    ===>   Lnlos_2 =  141.35589800167656 [дБ]\n",
      "Lmsd + Lrts =  46.5326753089058 > 0    ===>   Lnlos_2 =  142.49450049001942 [дБ]\n"
     ]
    }
   ],
   "source": [
    "dhbs = hbs1 - hr\n",
    "Lnlos_2 = np.zeros(14,)\n",
    "for i in range(14):\n",
    "    Lmsd = (-18*math.log10(1 + dhbs) \n",
    "            + 54 + 18*math.log10(d[i]) \n",
    "            + (-4 + 1.5*(f/925 - 1))*math.log10(f)\n",
    "            - 9*math.log10(b))\n",
    "    Lnlos_2[i] = 32.44 + 20*math.log10(d[i]) + 20*math.log10(f) + Lrts + Lmsd\n",
    "    print('Lmsd + Lrts = ', Lmsd+Lrts, '> 0  ', ' ===>   Lnlos_2 = ', Lnlos_2[i], '[дБ]' )"
   ]
  },
  {
   "cell_type": "markdown",
   "id": "bb3a052e",
   "metadata": {},
   "source": [
    "### 2.г  Модель Уолфиша-Икегами. Вне зоны прямой видимости. Высота BS $h_{bs2}$. Город средних размеров"
   ]
  },
  {
   "cell_type": "markdown",
   "id": "8e83f5fa",
   "metadata": {},
   "source": [
    "$ \\Delta h_{bs} = h_{bs} - h_r $ \\\n",
    "\\\n",
    "$ L_{bsh} = 0, $ при $ h_{bs} \\le h_r $ \\\n",
    "\\\n",
    "$\n",
    "\\  k_a = \\left\\{\n",
    "\\begin{array}{ll}\n",
    "    54 - 0,8\\Delta h_{bs} & \\textrm{при } d \\ge 0,5 \\textrm{км и } h_{bs} \\le h_r \\textrm{,}\\\\\n",
    "    54 - 1,6\\Delta h_{bs} \\cdot d & \\textrm{при } d < 0,5 \\textrm{км и } h_{bs} \\le h_r \\textrm{,}\n",
    "\\end{array} \\right. \\ \n",
    "$\\\n",
    "\\\n",
    "$ k_d = 18 - 15 \\cdot \\frac{\\Delta h_{bs}}{h_r}, $  при $ h_{bs} < h_r $ \\\n",
    "\\\n",
    "$ k_f = -4+0,7*(\\frac{f}{925} - 1),$  для города средних размеров \\\n",
    "\\\n",
    "$ L_{msd}[дБ] = L_{bsh} + k_a + k_d \\cdot \\lg(d_{[км]} + k_f \\cdot \\lg(f_{[МГц]}) - 9 \\cdot \\lg(b_{[м]})$ \\\n",
    "\\\n",
    "$ L_{NLOS}[дБ] = L_0 + L_{rts} + L_{msd} $"
   ]
  },
  {
   "cell_type": "code",
   "execution_count": 8,
   "id": "6469596b",
   "metadata": {},
   "outputs": [
    {
     "name": "stdout",
     "output_type": "stream",
     "text": [
      "Lmsd + Lrts =  47.984451731310756 > 0    ===>   Lnlos_3 =  126.44505164459036 [дБ]\n",
      "Lmsd + Lrts =  51.471058660613245 > 0    ===>   Lnlos_3 =  133.4534837550065 [дБ]\n",
      "Lmsd + Lrts =  53.94484564545758 > 0    ===>   Lnlos_3 =  138.42604547201682 [дБ]\n",
      "Lmsd + Lrts =  55.8636639030171 > 0    ===>   Lnlos_3 =  142.28306398973746 [дБ]\n",
      "Lmsd + Lrts =  57.91145257476008 > 0    ===>   Lnlos_3 =  145.91447758243294 [дБ]\n",
      "Lmsd + Lrts =  59.71699900944621 > 0    ===>   Lnlos_3 =  149.05895980973133 [дБ]\n",
      "Lmsd + Lrts =  61.345239559604416 > 0    ===>   Lnlos_3 =  151.84703929944328 [дБ]\n",
      "Lmsd + Lrts =  62.83805950406256 > 0    ===>   Lnlos_3 =  154.36290969284906 [дБ]\n",
      "Lmsd + Lrts =  64.22405781716392 > 0    ===>   Lnlos_3 =  156.66405781716392 [дБ]\n",
      "Lmsd + Lrts =  65.52363298329678 > 0    ===>   Lnlos_3 =  158.79148668646127 [дБ]\n",
      "Lmsd + Lrts =  66.75184648890689 > 0    ===>   Lnlos_3 =  160.7754714098594 [дБ]\n",
      "Lmsd + Lrts =  67.9201361928393 > 0    ===>   Lnlos_3 =  162.63900323897604 [дБ]\n",
      "Lmsd + Lrts =  69.03739292359305 > 0    ===>   Lnlos_3 =  164.3999536371578 [дБ]\n",
      "Lmsd + Lrts =  70.11066474646643 > 0    ===>   Lnlos_3 =  166.07248992758005 [дБ]\n"
     ]
    }
   ],
   "source": [
    "dhbs = hbs2 - hr\n",
    "Lnlos_3 = np.zeros(14,)\n",
    "for i in range(14):\n",
    "    if (d[i] < 0.5):\n",
    "        Lmsd = (\n",
    "            - 0 \n",
    "            + 54 - 0.8*dhbs \n",
    "            + (18 - 15*(dhbs/hr))*math.log10(d[i]) \n",
    "            + (-4 + 0.7*(f/925 - 1))*math.log10(f)\n",
    "            - 9*math.log10(b)\n",
    "        )\n",
    "    else:\n",
    "        Lmsd = (\n",
    "            - 0\n",
    "            + 54 - 1.6*dhbs*d[i] \n",
    "            + (18 - 15*(dhbs/hr))*math.log10(d[i])\n",
    "            + (-4 + 0.7*(f/925 - 1))*math.log10(f)\n",
    "            - 9*math.log10(b)\n",
    "        )\n",
    "    Lnlos_3[i] = 32.44 + 20*math.log10(d[i]) + 20*math.log10(f) + Lrts + Lmsd\n",
    "    print('Lmsd + Lrts = ', Lmsd+Lrts, '> 0  ', ' ===>   Lnlos_3 = ', Lnlos_3[i], '[дБ]' )"
   ]
  },
  {
   "cell_type": "markdown",
   "id": "bff8deb7",
   "metadata": {},
   "source": [
    "### 2.д  Модель Уолфиша-Икегами. Вне зоны прямой видимости. Высота BS $h_{bs2}$. Город с плотной застройкой"
   ]
  },
  {
   "cell_type": "markdown",
   "id": "bf57a6d4",
   "metadata": {},
   "source": [
    "$ \\Delta h_{bs} = h_{bs} - h_r $ \\\n",
    "\\\n",
    "$ L_{bsh} = 0, $ при $ h_{bs} \\le h_r $ \\\n",
    "\\\n",
    "$\n",
    "\\  k_a = \\left\\{\n",
    "\\begin{array}{ll}\n",
    "    54 - 0,8\\Delta h_{bs} & \\textrm{при } d \\ge 0,5 \\textrm{км и } h_{bs} \\le h_r \\textrm{,}\\\\\n",
    "    54 - 1,6\\Delta h_{bs} \\cdot d & \\textrm{при } d < 0,5 \\textrm{км и } h_{bs} \\le h_r \\textrm{,}\n",
    "\\end{array} \\right. \\ \n",
    "$\\\n",
    "\\\n",
    "$ k_d = 18 - 15 \\cdot \\frac{\\Delta h_{bs}}{h_r}, $  при $ h_{bs} < h_r $ \\\n",
    "\\\n",
    "$ k_f = -4+1,5*(\\frac{f}{925} - 1),$  для города с полной застройкой\\\n",
    "\\\n",
    "$ L_{msd}[дБ] = L_{bsh} + k_a + k_d \\cdot \\lg(d_{[км]} + k_f \\cdot \\lg(f_{[МГц]}) - 9 \\cdot \\lg(b_{[м]})$ \\\n",
    "\\\n",
    "$ L_{NLOS}[дБ] = L_0 + L_{rts} + L_{msd} $"
   ]
  },
  {
   "cell_type": "code",
   "execution_count": 9,
   "id": "c907f9d7",
   "metadata": {},
   "outputs": [
    {
     "name": "stdout",
     "output_type": "stream",
     "text": [
      "Lmsd + Lrts =  48.179046325905354 > 0    ===>   Lnlos_4 =  126.63964623918497 [дБ]\n",
      "Lmsd + Lrts =  51.665653255207836 > 0    ===>   Lnlos_4 =  133.64807834960106 [дБ]\n",
      "Lmsd + Lrts =  54.139440240052174 > 0    ===>   Lnlos_4 =  138.62064006661143 [дБ]\n",
      "Lmsd + Lrts =  56.058258497611696 > 0    ===>   Lnlos_4 =  142.47765858433206 [дБ]\n",
      "Lmsd + Lrts =  58.106047169354675 > 0    ===>   Lnlos_4 =  146.10907217702754 [дБ]\n",
      "Lmsd + Lrts =  59.91159360404081 > 0    ===>   Lnlos_4 =  149.25355440432594 [дБ]\n",
      "Lmsd + Lrts =  61.539834154199006 > 0    ===>   Lnlos_4 =  152.0416338940379 [дБ]\n",
      "Lmsd + Lrts =  63.032654098657154 > 0    ===>   Lnlos_4 =  154.55750428744363 [дБ]\n",
      "Lmsd + Lrts =  64.41865241175853 > 0    ===>   Lnlos_4 =  156.8586524117585 [дБ]\n",
      "Lmsd + Lrts =  65.71822757789138 > 0    ===>   Lnlos_4 =  158.98608128105587 [дБ]\n",
      "Lmsd + Lrts =  66.9464410835015 > 0    ===>   Lnlos_4 =  160.970066004454 [дБ]\n",
      "Lmsd + Lrts =  68.1147307874339 > 0    ===>   Lnlos_4 =  162.83359783357065 [дБ]\n",
      "Lmsd + Lrts =  69.23198751818762 > 0    ===>   Lnlos_4 =  164.59454823175238 [дБ]\n",
      "Lmsd + Lrts =  70.30525934106103 > 0    ===>   Lnlos_4 =  166.26708452217463 [дБ]\n"
     ]
    }
   ],
   "source": [
    "dhbs = hbs2 - hr\n",
    "Lnlos_4 = np.zeros(14,)\n",
    "for i in range(14):\n",
    "    if (d[i] < 0.5):\n",
    "        Lmsd = (\n",
    "            - 0 \n",
    "            + 54 - 0.8*dhbs \n",
    "            + (18 - 15*(dhbs/hr))*math.log10(d[i]) \n",
    "            + (-4 + 1.5*(f/925 - 1))*math.log10(f)\n",
    "            - 9*math.log10(b)\n",
    "        )\n",
    "    else:\n",
    "        Lmsd = (\n",
    "            - 0\n",
    "            + 54 - 1.6*dhbs*d[i] \n",
    "            + (18 - 15*(dhbs/hr))*math.log10(d[i])\n",
    "            + (-4 + 1.5*(f/925 - 1))*math.log10(f)\n",
    "            - 9*math.log10(b)\n",
    "        )\n",
    "    Lnlos_4[i] = 32.44 + 20*math.log10(d[i]) + 20*math.log10(f) + Lrts + Lmsd\n",
    "    print('Lmsd + Lrts = ', Lmsd+Lrts, '> 0  ', ' ===>   Lnlos_4 = ', Lnlos_4[i], '[дБ]' )"
   ]
  },
  {
   "cell_type": "code",
<<<<<<< HEAD
   "execution_count": 10,
   "id": "43bf643f",
=======
   "execution_count": 12,
   "id": "39dc27f4",
>>>>>>> 60016208b276b5d7579f6e35022ac5827254751a
   "metadata": {},
   "outputs": [
    {
     "name": "stdout",
     "output_type": "stream",
     "text": [
<<<<<<< HEAD
      "la =  0.3\n",
      "dhbs =  7\n",
      "dhms =  23.6\n",
      "x =  7.5\n",
      "r =  24.763077353188557\n",
      "o =  1.2630933795857802\n",
      "d1 = [ 200.  300.  400.  500.  600.  700.  800.  900. 1000. 1100. 1200. 1300.\n",
      " 1400. 1500.]\n"
=======
      "108.63445358488694 [дБ]\n",
      "115.32592142900283 [дБ]\n",
      "120.07359342011823 [дБ]\n",
      "123.7561739144244 [дБ]\n",
      "126.76506126423412 [дБ]\n",
      "129.30903927019742 [дБ]\n",
      "131.51273325534953 [дБ]\n",
      "133.45652910835003 [дБ]\n",
      "135.19531374965567 [дБ]\n",
      "136.76823578566822 [дБ]\n",
      "138.20420109946542 [дБ]\n",
      "139.52516113731548 [дБ]\n",
      "140.7481791054287 [дБ]\n",
      "141.88678159377156 [дБ]\n"
>>>>>>> 60016208b276b5d7579f6e35022ac5827254751a
     ]
    }
   ],
   "source": [
    "d1 = np.zeros(14,)\n",
    "k = 200\n",
    "for i in range(14):\n",
    "    d1[i] = k\n",
    "    k += 100\n",
    "la = 3*10**8/(f*10**6)\n",
    "dhbs = hbs1 - hr\n",
    "dhms = hr - hms\n",
    "x = w/2\n",
    "r = math.sqrt(dhms**2 + x**2)\n",
    "o = math.atan(dhms/x)\n",
    "print('la = ', la)\n",
    "print('dhbs = ', dhbs)\n",
    "print('dhms = ', dhms)\n",
    "print('x = ', x)\n",
    "print('r = ', r)\n",
    "print('o = ', o)\n",
    "print('d1 =', d1)"
   ]
  },
  {
   "cell_type": "code",
   "execution_count": 13,
   "id": "39dc27f4",
   "metadata": {},
   "outputs": [
    {
     "name": "stdout",
     "output_type": "stream",
     "text": [
      "L =  113.86324103769032 [дБ]\n",
      "===> 1. 78.46237209932829\n",
      "===> 2. 35.73989961157642\n",
      "===> 3. -0.3390306732143889\n",
      "L =  120.55470888180622 [дБ]\n",
      "===> 1. 81.98419728044193\n",
      "===> 2. 35.73989961157642\n",
      "===> 3. 2.8306119897878745\n",
      "L =  125.30238087292162 [дБ]\n",
      "===> 1. 84.48297201260793\n",
      "===> 2. 35.73989961157642\n",
      "===> 3. 5.079509248737272\n",
      "L =  128.98496136722775 [дБ]\n",
      "===> 1. 86.42117227276906\n",
      "===> 2. 35.73989961157642\n",
      "===> 3. 6.823889482882289\n",
      "L =  131.9938487170375 [дБ]\n",
      "===> 1. 88.00479719372154\n",
      "===> 2. 35.73989961157642\n",
      "===> 3. 8.249151911739537\n",
      "L =  134.53782672300082 [дБ]\n",
      "===> 1. 89.34373298633382\n",
      "===> 2. 35.73989961157642\n",
      "===> 3. 9.454194125090575\n",
      "L =  136.7415207081529 [дБ]\n",
      "===> 1. 90.50357192588756\n",
      "===> 2. 35.73989961157642\n",
      "===> 3. 10.498049170688935\n",
      "L =  138.6853165611534 [дБ]\n",
      "===> 1. 91.52662237483517\n",
      "===> 2. 35.73989961157642\n",
      "===> 3. 11.4187945747418\n",
      "L =  140.42410120245904 [дБ]\n",
      "===> 1. 92.44177218604868\n",
      "===> 2. 35.73989961157642\n",
      "===> 3. 12.242429404833953\n",
      "L =  141.9970232384716 [дБ]\n",
      "===> 1. 93.26962588921317\n",
      "===> 2. 35.73989961157642\n",
      "===> 3. 12.987497737682002\n",
      "L =  143.4329885522688 [дБ]\n",
      "===> 1. 94.02539710700117\n",
      "===> 2. 35.73989961157642\n",
      "===> 3. 13.667691833691197\n",
      "L =  144.75394859011885 [дБ]\n",
      "===> 1. 94.72063923218542\n",
      "===> 2. 35.73989961157642\n",
      "===> 3. 14.293409746357014\n",
      "L =  145.9769665582321 [дБ]\n",
      "===> 1. 95.36433289961344\n",
      "===> 2. 35.73989961157642\n",
      "===> 3. 14.872734047042236\n",
      "L =  147.11556904657493 [дБ]\n",
      "===> 1. 95.96359736716231\n",
      "===> 2. 35.73989961157642\n",
      "===> 3. 15.412072067836213\n"
     ]
    }
   ],
   "source": [
    "L = np.zeros(14,)\n",
    "for i in range(14):\n",
    "    L[i] = (\n",
    "    - 10*math.log10((la/(4*math.pi*d1[i]))**2)\n",
    "    - 10*math.log10(la/(2*math.pi**2*r)*(1/o - 1/(2*math.pi + o))**2)\n",
    "    - 10*math.log10( (2.35**2) * ((dhbs/d1[i]) * math.sqrt(b/la))**1.8 )\n",
    "    )\n",
    "    print('L = ', L[i], '[дБ]')\n",
    "    print('===> 1.', - 10*math.log10((la/(4*math.pi*d1[i]))**2))\n",
    "    print('===> 2.', - 10*math.log10(la/(2*math.pi**2*r)*(1/o - 1/(2*math.pi + o))**2))\n",
    "    print('===> 3.', - 10*math.log10( (2.35**2) * ((dhbs/d1[i]) * math.sqrt(b/la))**1.8 ))"
   ]
  },
  {
   "cell_type": "markdown",
   "id": "7206e833",
   "metadata": {},
   "source": [
    "### 3. График"
   ]
  },
  {
   "cell_type": "code",
<<<<<<< HEAD
   "execution_count": 14,
=======
   "execution_count": 13,
>>>>>>> 60016208b276b5d7579f6e35022ac5827254751a
   "id": "2813d2ab",
   "metadata": {},
   "outputs": [
    {
     "data": {
      "text/plain": [
<<<<<<< HEAD
       "<matplotlib.legend.Legend at 0x7fcd29f96f10>"
      ]
     },
     "execution_count": 14,
=======
       "<matplotlib.legend.Legend at 0x29deefdce20>"
      ]
     },
     "execution_count": 13,
>>>>>>> 60016208b276b5d7579f6e35022ac5827254751a
     "metadata": {},
     "output_type": "execute_result"
    },
    {
     "data": {
<<<<<<< HEAD
      "image/png": "iVBORw0KGgoAAAANSUhEUgAAAYUAAAEGCAYAAACKB4k+AAAAOXRFWHRTb2Z0d2FyZQBNYXRwbG90bGliIHZlcnNpb24zLjQuMywgaHR0cHM6Ly9tYXRwbG90bGliLm9yZy/MnkTPAAAACXBIWXMAAAsTAAALEwEAmpwYAABi6klEQVR4nO3dd3wUdfrA8c9s3/SQRiCE0BI6IXSVJoKgKIjdEwFBRLCc7Syngu3urKd3nHIKivcTEbvYRSUgIiC9t0ACgfS6yfad7++PTZYEEpJAKvm+X6+82J2d2X122Z1nvmWeUYQQSJIkSRKApqkDkCRJkpoPmRQkSZIkH5kUJEmSJB+ZFCRJkiQfmRQkSZIkH11TB3A+wsPDRVxc3DlvX1pair+/f/0F1EhaatwgY28qMvbG15zj3rJlS64QIqKqx1p0UoiLi2Pz5s3nvH1ycjKjRo2qv4AaSUuNG2TsTUXG3viac9yKoqRV95jsPpIkSZJ8ZFKQJEmSfGRSkCRJknxkUpAkSZJ8ZFKQJEmSfGRSkCRJknxkUpAkSZJ8WvR5CpIkSa2FEILSQif5J0uwFdvp2isQbVBQvb+OTAqSJEnNUEZKEUJVifC3YTtwkI8+deJwe3fZWo+dgNC1tH/xH/X+ujIpSJIkNRGXw0N+Rin5J0vIPZKHK6+AxDbHcBw6xM8ne6C1FpG49TUAouOuwGTSEBphILxzGEHDxjdITDIpSJIkNYLCbCs5aRZyUwvITckhP8tOiU0DKABoPE6CilOJ3vE62uBg+iUUENCtPSFXz8cYH098164N0l10OpkUJEmS6kn55Y0VRaHkuIsfXv+dIZ1ycR46xIZDwRynE4rw4GfNxr/0JJHOXEKCIaxDIKEJMZjj+2CKX4s2PBxFUZrkPcikIEmSdA5cTg/5J0rJTbeQcyiH3NR88vM8jDCsQ39oC0ZbO47FXEbbxS9iwElctyS6dkwnrFs0ft27Yuw2An379iia5jUJVCYFSZKkWijOtXFg/QmyD2aRd9KKxXqq60frthNQeoLIkhM4nLvx7xxLsNHI9eMCMD6xHEPHjigGQ9O+gVqSSUGSJKmMy+HB41Yx+ukoPHSCn/7vIAlBGYRlbOVkagmbIm/EbMshoOQE4fYsQkMgomMwoT06Yu7RH2P8jb5+/5TkZIKaaenss5FJQZKkVkcIQUmBg9zjFnLTisg+kEVehvfov7NrL132fICzuBRHv3soOvYjfsZ8IhN6MLnbHgJ7xmNMGIwhNhZFq23qt1LvZFKQJKlVEELw2/I9ZB/MJS/HhdNzaofuPfpPJ9yRTWSQjcCxYzF2T6BzQkKlo//WQCYFSZIuGB6XiiXfTnCkGXdWFj+9uxdnQTFJpT9h37eXw+1moBFuwi3HCdYWE9bWTERCFAHdu2HqPgR9hw4X5NF/XcikIElSi+S0u8lNLyEnrZjs/ZnkpBVTWAw64WLkzmdRCwogdhx6jQ6n5ih+/ZOY2MOJuWcPjD0mowsNbeq30CzJpCBJUotxdEsG+9YcJTe9tNLsH73TQmDJcWKtJ2kT6CHg0ksx9+xBxx49MSXEo/H3b9rAW5AGSwqKorwDTASyhRC9Kyy/B7gbcAPfCCH+Urb8MWAm4AHuFUL80FCxSZLUfNksTnRGLVqPkwPf7+TgKhuxPz6Dsn8HB60dyGh7MYGW40Q4smjTRiGySxghvbpg7jUGY5cuLWbqZ3PVkC2FpcBC4H/lCxRFGQ1MAvoKIRyKokSWLe8J3AT0AtoBPymKEi+E8DRgfJIkNTGH1UX2MQvZKQVk7s0kJ91KqUNLUv7XhOz5kWK/9rSJGY1l9wZCu0aTeFEHhvX0x9jjGu/c/2Z24teFoMGSghBiraIocactvgv4hxDCUbZOdtnyScCHZcuPKopyGBgM/N5Q8UmS1PjspS72/3aCjD0Z5BwvwWKtPAMo0JJGO1c2IW0hbPYdxPTujaO4mL6TH2mysg+tjVJeq6NBntybFL4u7z5SFGU78CUwHrADDwkh/lAUZSGwQQjxftl6S4DvhBCfVPGcs4HZAFFRUQM+/PDDc46vpKSEgICAc96+qbTUuEHG3lQaO3YhBIqiINwqGetsBLkzic7bgjiezcaYuRjt+QRZjhFgO4GfvxNTWyMirh2ujh1Rw9pAhQTQUj/35hz36NGjtwghBlb1WGMPNOuAUGAoMAj4SFGUzpSPFlVWZbYSQrwFvAUwcOBAMeo8zhhMTk7mfLZvKi01bpCxN5WGjN3jUck/UUpWajFZezPIOlqIn6uI/rkrse/Zw4n4O9Hm7cE/ZwOmnj2ZGLOFkH49MPWuXRdQS/3cW2rcjZ0U0oHPhLd5sklRFBUIL1veocJ6McDJRo5NkqRasOTbyTxSRMa+LDL355KXr6IK745d5yolyJKGuegQarCd4ElXM7FXGKY+czF2fhlFJyc8NneN/T/0BXApkKwoSjxgAHKBlcAHiqK8ineguRuwqZFjkySpCnknS8g4kEeX8GJs23eweoOWTE8UGo+TQMsx2pekERbgIqpzMG36dMXcdzSmbrPlLKAWqiGnpC4HRgHhiqKkA/OBd4B3FEXZDTiBaWWthj2KonwE7MU7VXWenHkkSY1LCEFRjo2so8Wc3J1Br/BsxL7t7NovOGAajLruIfRuGx1j+xEfn0DbAR3xTxqAqedUNGZzU4cv1ZOGnH10czUP3VrN+s8DzzdUPJIkVea0uclKKybzYB4nd2eQfdKB0+2dDaR12zHvXEiI/QSxvZOI76Yn5OW/Y07sh75t2yaOXGpIsoNPkloBIQRulwetTkPGH4dZ/XEahRaF8jke/qUZhBUfJVRbSFTHQCL7d8H/vhcwJSTIbqBWRiYFSboAuZ0eHFY3ZqNK0R87OLDCibLiX7Tb+QnWEjfahFvpZEsnMkJD255tCR7QB3Pfy9GFhzd16FITk0lBki4A9lIXGSlFnNidyck92eTmqUQ6U+m16XVwu4npdDV+pkICRo4kol8/uif2w9i1q5wNJJ1BfiMkqQUqKbBz8nAhJ3ac5OSBfAot3imhiuomyJJGrCWVtm2chM2Ygd/AAWSXlDD4yiubOGqpJZBJQZJagOJcG5lHiugYasG6ZQs//aqQ7YlA67YRXHyULrZjRLbV065/R4IGJ2Hqcxsao9G3vUhObrrgpRZFJgVJamY8HpWcYxZO7s+jS5tC3Lu3se0PKwdED4b/9hf0bhtxHfrSo0d32l7UjYBBYzDGx7f6i8NI9UMmBUlqYi6nh8yUIk7szeHErpPkZHnwlJ0hbNv+Om0KDxLdpRexfYqIePpJ/AcN8F4hTBaIkxqATAqS1ASsxU52/5zKsW0nyMn2oKIBoRJQkk508REiAuxE94wg7Jp5+A1IkrOCpEYjk4IkNQLVo7L9x1T8rVm0ObmF3I07+cP/BgJL0okpOkTbMA/t+rUneHAS5sTr0QbIK4VJTUMmBUmqZ0IICrOspO/Lw3EikzjbDko3bGSbOp7wnJ3EH/kUU69eTOq7m5CLB+GXdKMsEyE1GzIpSFI9sOTbOb4vn+Obj3EixYLN6R30DSpOxX/rqxi7dWXc4MOE3DoSv0EPoQ0KauKIJalqMilI0jlKP1DAgeQjpO/Pp8TmTQJ6p4XQwgN0IoeY7iFEXJlIwOtr0UVENHG0klQ7MilIUi3ZiwRr39tBz6DjOLdsYPcBHanBgwgtPER71wnadQ4gekwv/IfdgiEmpqnDlaRzIpOCJFVBCEF+Rimp27OIcJ/AsHsdfr+lsKfd9Ri2/4dQJZ+EQUMZOLSQwGETMXTpIqeIShcEmRQkqYzT7ubEgQKObDzGsT35WB3eLqGuhz+jY846Arp05dpBJwi89yVMPXvIk8WkC5JMClKrVT5LKG1HNkc2pJGV4UZFg9ZtJ7RgP3Eig459Ioi8+Xr8Br/E2o0biWyB19yVpLqQSUFqVVxOD0XZNoK1FixrfuXzZD/s+OFfmkFM4T7aR6p0uCSBoJHXYOgUJ7uEpFZHJgXpglecayMwWId12zZ+/ugY2UVGLvr1LyhA7y5DCE9KIPKGofgPmYzGX540JrVuMilIFxy3y8PJg4Uc3ZRO2q5sLFYtF+16AVPeMaJCu9CuR18iH3qYwFEj5ACxJJ1GJgXpglBa6ODItiyOrE8lI92JR2jQeJyEFh6iu+sYoaMups2oh4gfNgxtQEBThytJzZZMClKLVniiiB/f2EJOnve+2ZZDdP5e2rVx0OGiroSMuhxjfDfZGpCkWpJJQWpRhBBs/fowysmjRB34gaI163DGz6JzaQqd4v1pN3kw/hc9KMtISNI5kklBataEEOSfLCXrYA7tS3Zj+fFH9uf1xWTNISB7A6FXXM7kcT3wHzINxWBo6nAlqcWTSUFqdoQQ5ByzcGj9cVL+OInFqkWjurjktycxhQUz6rK2hFw+Fr+Bj8gTyCSpnsmkIDULQhVkHini0Po0jmzJptShRREeQgoO0tOVSudB0UTc9S7mfv1QNJqmDleSmoRQVazFRRTnZqMzGImIjav315BJQWpyxzccZtWyo9hcWhTVRZuC/XQS6XQZGkvYhEsx9ewpB4qlVsHlsGPJy6U4NwdLbo7vX0tetvd2Xi4elwuA+GHDuerPj9R7DDIpSI3O7fSQvGQbocWHabPlc4r3HSUg/kbidVl0vqgTYVdcgaFrV5kIpAtKxaP8ijv84txs322bpbjyRopCQGgbAsMjiOrUla6DhhEUHkFgeCRt2jVMJV6ZFKQGJ4Qg43AR+fuP47/2W9Jee52T/lfjzt5Gm2CV9vfcQY9xYzHExTV1qJJ0zjxuNyX5uRRlZ1OUk8nJP/7g+73bKhzt5+BxuyttozeZCQqPICg8grZduhEUHklgeARBYREEhkcQ0CYMra5xd9MyKUgNpjjPxv41x9j36zFKbFqMjgKGbfgGbf9ErrhMIXjcI+jbt2/qMCWpVlSPh5L8PIpysijOyaYoO9P7b9l9S24uQqinNlAULG3CCAqLIKpLN7oNuci7ww+PIDAsgqDwSIz+/s2uRSyTglSvXA4PKVuy2PPjATIzBQAhBYfpox4h/rLuHLz6eXpdM7lpg5SkKqiqh5L8fIrLd/o5WRRle28X52RhyctF9XhObVDWtRMcGUX77r0IjogkKDKK4IgogiKi2LZ7D6PHjGm6N3SOZFKQ6kVhtpU/Pt7Nkd1FuIUWky2HzgXbiU8Mod28KzD1noOiKOxPTm7qUKVWzF5SQmFWBoVZGRRlZVKUnXlqx5+bg+qp3L3jH9qGoIhIort1p/vFUQRFRBIc0ZagyEgCwyLQ6fXVvpayb39Dv50GIZOCdM6K82y4ikrQbF7NiS9Xk2K+isjcbXSKstL5puEEXroAjdHY1GFKrYhQVSz5eRRlZVCYlVmWADLL7mfgKC2ttL5fcAjBEVFEde5K/NCLCYqI8h3xB4VHomuFJ0TKpCDViRACVBXL+t9Z8YGFkJy99N69GHPXLlx9WS62YdfiFIKTAEeOnLF9cHAw+/bta/S464OMvWmcHrsQAtXjQVU9CI/He7v8T/WAKFtRZ8QQE0fb2C6002rRaLQoWi2aCn9V9efbAFuRhawiS73G3RRMJhMxMTHoz9KiOZ1MClKNvLOHCtnz4yGyDuYwePtLeLKy6BkzkLYX9abd/I8w9e5NamoqwYGBhIWFVTt4ZrFYCAwMbOR3UD9k7I1HVVU8LidulwtrSQk6jQaP24XH5SqbwXNqJ6doNGj1enQ6PVp92V/5bZ2uyQZym/ozF0KQl5dHeno6nTp1qvV2MilI1SrOtbFvTRr7fz1OiV2L1m0nMmcb+u69afvYYyRcOhpNhea13W4nLk5erUyqHSFUPC43bpfTu7N3uU7dPm3qpkenRaszYDCbT+3wy/40mqqP+Fs7RVEICwsjJyenTtvJpCBV4rS7SdmSxd4fD5KZJUCohBYeoq84SvxlPWkzeTb6yMhqt5c/TqkiIQSq243b5fId+fv+dbtOdfUAGq0WrV6PweznPfLXG9Dq9dgcdoKCgpvuTTRDQoha/dbO5fcok4Lkk7UthS/eOoJbaDH7Zg+F0u7uKzD1vqtZ7/CnTp3KkCFDuPvuuwH46KOPWLx4MT/++GOl9ZKTk3n55Zf5+uuvAVi5ciWTJk1i9erVjBo1qtrnX7p0KQ899BAxMTG4XC569OjB//73P/z8/BrsPbUUQghU1XPqaN/pLDvq9yYAIU7t+RWNBp1ej95oxBwQWHa0b0Cn16Opprih3elsrLfSLAghcKtuXKoLnUaHQaPH5baRUZpJG50fAULB6bFj1PuBf0S9v75MCq3cnjXHsO7ZT9TmDylZv4HorlOIbQ+dbh5B4KVPV+oeas5mzpzJ/fff70sK77zzDjNnzqxxu+eff56YmNqVC5gyZQpvvfUWALfccgsrVqxgxowZ5x50CyOEwON2e4/0nWV/LicelxPVc+qkLUVRfF07Rj+zb6ev1RuqHdxtbVShUuoqxaW6cHmcuDwOXB4XLtWNW3h8DahwFaLcLhQETr0e1W4BVUWnaIGGKQwpk0IrI4SgIMNKgDOHwk8+Ye9mIy5VQ0huKpH33UO3KVPQR0U1Wjxb0grYcCSPoZ3DGNAx9JyfZ+TIkVgsFrZu3UpERARbt27lyy+/POs2P/74I6GhoURE1O1oy+12U1paSmjomfEuWLCAt99+2/ecR48e5csvv2TUqFEEBARw5513snr1akJDQ/nwww+JiIhg06ZN3HHHHSiKQk5ODnfccQcLFixg1KhROBwOfv/9dwAeeeQRXnzxxUpH3lWJi4sjMDAQl8tFbGwsn3/+OQABAQGUlJQAMHz4cIKDg30tppdffpmXX36Ztm3bcuzYMd584w0mXTWx7Kj/VAIQ6qnX1mi16AwGTP6B3h2/4dQgb2vd8QshcAs3Lo+LUk8pOASBWhN4nBwpPUmARkckevA4OSbsvu30QqBH4CfKbita9BodJp0BTEZ0WgNdtQbQ6kFrQKtpuJLxMim0Eg6bmwPrT7D7h0MUFGsYuvFp/Jx5DBp9GWE3TCHg4jn1em2Cp7/aw96TxWcs93g8aMtex2J3sT/TgipAo0D3toEEmqqfOtezXRDzr+pV5WOKojBjxgzeeecdoqKiuPnmmzHWcI7E888/z3PPPccLL7xQq/f02WefsWnTJjIyMoiPj+eqq66qcr3777+fhx56CICJEyf6lpeWlpKUlMQrr7zCM888w9NPP83ChQt54YUXePLJJ7nuuut4+eWXfTtu8M7C2bt3LwkJCWzduhV/f/9axVqeeJKSkkhJSak0++Sbb76hqKiI4KAgXA4HbpcTq8XC7bdN5YF77mben+/HkptDYWYGAFqdDp3BgJ8pGK3BgE5vQGcwVNvd01oUO4pxehw4PQ5cHgdO1Y1LdVccJsFelENg2aC5SatFLwQIBY3WQCetAb3Wu8NXtAbw/emhCZNqgyUFRVHeASYC2UKI3qc99hDwEhAhhMgtW/YYMBPwAPcKIX5oqNhaCyEEWUeL2fXdAVJ2F+ERWgIs6fS07aHdrD8Rfv3ksw4aN7Riu5vyA09VeO+fLSnUZPr06SQmJhIQEFBjK+HXX38FvEfMtU0K5d1HQgjmzZvHSy+9xKOPPlrr+DQaDTfeeCMAt956K1OmTAFAq9VisVQ9J37GjBm8++67jBw5kvHjx/taDTUZPXo0eXl59O7dm169emEpKgKgODeHpxfM557Zd/DRZ5+Rl34MgIK8XKIiI70DvAYDfsHBhLXvgNbgnd3TWggh8AgPLo8Lp+pEFR5CdQHgcXLClo1LdROnGMHjJEc4sSugRaAXApOAQCHQKxoMGh2KqsFs8getEbQG2pUd5VP2eTbX0aiGbCksBRYC/6u4UFGUDsBY4FiFZT2Bm4BeQDvgJ0VR4oUQHqQ6s5e6OLA+nd0/plBo0aB124nK2UK3WDdxd43D/6LbGvxCNdUd0Vecu70lrYA/Ld6Ay62i12l4/ab+59WF1L59ewYPHkx2djZ9+/YF4PPPP+fpp58GYPHixb51n3vuOZ544olzeh1FUbjqqqv497//XaekUNXzgLfL6frrr+f555/HZrNxxx13+NYZOHAgn376KSkpKbz55pvMnz+/2ufz9vm7EELw1WefEhwQwOx58/jvv15nytVXIYRg2fv/x0VDhhDdrh1avZ7gqLbo9AZyCgoZedlYQtu2Q280YTD7oTeZzvm9tQRWlxWr24rLXX6k78KlelArHOsrQIjTiQKYNBr0igLCCVoDHbRmtFojWp13p4+u7Ehf8f62LBYL2hZ0bki5BksKQoi1iqLEVfHQP4G/ABUP5SYBHwohHMBRRVEOA4OB2h0WST62A4dY9voRHKqewOLj9HTso/vYeCKuuwtdeHhTh1fJgI6hLJs1tF7GFMqZzeZKA8zXXHMN11xzje9+cnIyO3bsoH379owdO/acX2fdunV06dKlTtuoqsonn3zCTTfdxAcffMAll1wCQNu2bQkICGDVqlV88MEHlbqPAK6//no2bdpEVIWxHtXjwe104HI6cTsdZQO/DoTqPdu3tLCAAJORoKBgSh0OjMEhCCF4Z9lyVq1axfbt29HpDZgDAiksLGTdb7/x5qJF5/x5NCflR/tOjxOnx0mgIQCtx0W+PZ8cZzHx2gAUj5NC1U6BAhoEegEGIfAXAoOiQa/oMGj16LVGFLMRtEbCyrt3yg6oWsYUjLpr1DEFRVGuBk4IIXacNhDVHthQ4X562bKqnmM2MBsgKiqK5PMosFZSUnJe2zeV0+MuOuKidHcRPQ8uxXg4hc5th6DvEIx2RA+c8eM5oNFwYPfuBo8rODi42m6Qch6Pp9I68W10xLfx7uxq2vZsrFYrAwYMoEuXLkyePLna57JaraSnp/PKK6/41nG73VitViwWC8899xxJSUlcccUVlbaz2+189tlnbNiwAVVVadeuHYsWLTrjdRwOB3q9vsrn9vf3Z+vWrbzwwgsEBQWxdOlSiouLufXWW3niiScIDAzE4XDgcDiwWCx4PB5KSkq48frruP6ayeRlnPR2CaYeQXg8XHbV1fz01UoUjQaNTofOaEbR6VA0Gm6YfjuKohAZGcmCZ59F0emx2WxcddVVaLVarFYrbrcbi8XCmDFjyM7O5uKLLwbg+PHjJCcnc/nll/Ptt9+ydevWc25V1YfTvzO+5cKDUzhxCzce1YVbuLyDvHgq9et3drkwC4FeUQjQavA48lE0Otpo9ISiQ9HoUbV6hKJH1eh8R/qusj/Usj+Xb8l5xd3Y7HZ7nfZzSk0zGc5HWUvhayFEb0VR/IDVwDghRJGiKKnAQCFErqIo/wF+F0K8X7bdEuBbIcSnZ3v+gQMHis2bN59zfMnJyWedm95crV69moSYRALsWVhXfsaedSc5GZrEgIIvibruaoInT0YXFtboce3bt48ePXqcdZ2mPvX/fJxv7BVn/5yuvJ5PxaN+l9OJx3lqnr93qqcBvdGAzmBEZ/D+W5tpnmeLfdSoUWfsNK677jo++eSTur/JeqQKFafHid1qJyQwGLuzhCxbNpFaf8xCpdBVygnhPYdBwXukbxDe/n2DosGg0WPQGNDrTGh0Rijv5tHoGmUgt7l816v6XSqKskUIMbCq9RuzpdAF6ASUtxJigK2KogzG2zLoUGHdGPDWVJNOUT0q+9alc+RTK3vd24g/+CEdcjaQMHYcQ2/sjd/gGa12KmBLUn6Wr8vpwOWw43Y4cDkclWr1l8/4MQaH+Hb+OoMeRan/saCnnnrqjGX3339/vb9OVYQQOFVnWVePA4fbXjajx4mr7II1UR4BJakogFuvRbVZQIC/1kCcTo9Ba0SnM6FoK+74W8/geH1rtKQghNgF+Ka6nNZSWAl8oCjKq3gHmrsBmxortuZOVQWHNpxk48d7sdi0BFpy6OrYQ/dbLibs2hfQVTFfXmoeKiaAjGNpFGScqJwAFNDpjRj9/NEZy4/+DWi1jXe8dumll56xrLwrqT4JIShwFGBUdPijwemyctieU6mrR4PAKLzz9Q0CjBodekUDAaEYtUa6lO/0tQb0isK5z1WTqtOQU1KXA6OAcEVR0oH5QoglVa0rhNijKMpHwF7ADcyTM49AqIKULZls+HA3RaVaAkoyGMge3BfFcdHcF2WroJmpmAC8R//2ahOA3mhEZzR55/s38EywxuJW3b7BXYfHjtNtx+lxYlY0tEMPbjtZipsQjwd/jwc9EKbVYlB0GLV6DDoTWp0JRWfyHvFrvPP1LRYLNINumNaiIWcf3VzD43Gn3X8eeL6h4mlp0vfns/adrRQUa/ArzaG/ewd97pxAwMiprFmzRiaEJuYdA3B7T/6qVQIwevv/W3gCKJ/Zo9PoQAgyS05idVtxqi48p41PlvfxG1QV0KLojHTVBaAzmUFnRNEZidIam/RELelM8ozmZsQ7z1zFuvpnTry1Erv/cPrattD3jnEEXfYPmQiakMftxu2wU+Jy4ipLAhXHAHQGwwWVAIQQZUf8DlyqizCdH7jtHLfl4FI9dFEBtwOnTosCBAmBAQWjxtvHr9eb0OhMoDNV6uOX3T3Nn0wKzYTb7eGLp9fgl7qFTn+8Q1inTkyZfgXBV/yjwU80kyoTQuB2OnHZbbjsdpwOOx6Xdyqig1MJQGc0epNAC04A5TN8HGWDvA63DUdZyYaKx/2hTicaIESj8U7b1JrAGESsvnzHb4RGHAeRGk7L/CZfQPIzSin57TeO/+kWDFt/wq80i+h//J0uX60kZOIVMiHU0tSpU1m4cKHv/kcffcS4cePOWC85OblSPaKVK1eiKAo/fv8dJfl55J88QXbqEfLSj1Gcm4PDbkVvMPLlDz/Se8gwxl97PSPHX8HMufNQ9AYMJnOLSgh2t52skgxUhwVKc8kuOEJKYQrplnRybLnYnSUY3E7CPB7aqwqdFSPdDSFoQjpCeAJBkb0JiewFYV0guD34hYHBv1YJYcGCBbRv357ExES6d+/OXXfdhap6Zxh9/fXX9O/fn379+tGzZ0/++9//ArB27VqGDx+OTqdr8imyrYVM7U0kO62Y9f+3jRPpHgZt/juhgR6Gz72OkMmTUepwPVXJq7als4UQCKFisxTjstt5ev582rVtS0leHiUF+ejK6vzrTSb0JrPvco5GP/8WUTq7vNvH7rFjd9twuKzYPQ6iVD04MnF4HORpFUIsWRiFIFjRYNYZMGqNGHRmNHpvfz86o+8krvpUXixQVVVGjBjBmjVruOSSS5g9ezabNm0iJiYGh8NBamoqALGxsbz55pu8+eab9R6LVLWWc4hzgchNL+Grf/zKx3/fTNbRIrplrSLu3hl0+eF7Qq+/XiaEc1SxdPbx48fZunUrkydPRqgqTpuN0sICCjNPUpiVgdNmoyg7i++++5aQkGD69O1DQFg4kZ06Ex4TS1BEJObAIHT6qktAn146e/r06ZWOYnuXXa8a4P3332fw4MEkJiZy55134vGcOakuLi6OPn36kJiYSJ8+fYiLiwO8F/aZNGkS48ePJyEhwVfDCeDZZ58lISGBfon9MJvNbNj1G2u2/4JGo+H5154n3ZJOdkk2g3sM46/zHsXgLgWhEmgIpLsxDGNoJ4jsibltX7btySKqU3+SRkygc68kXv33m6BoWLp0qS/JHjhw4Iyj9d69e9OzZ09fEcK6cDqd2O12QkNDsVgsuN1uwspOuDQajSQkJPg+m969e9epNfb999+TlJREv379GDNmDOBtpUydOpVLL72Ubt268fbbb1e5bUBAAA8++CBJSUmMGTPGdynLt99+m0GDBtGvXz+uvfZarFYrAH/7298YMGAAPXr0YNasWaiqSnJyMoqisGrVKgAKCgowm80sWLAAgJSUFMaPH8+AAQMYPnw4+/fvB7zfozlz5jB8+HDi4+N9Zc3tdjszZsygT58+9O/fn9WrVwPe70dERAT9+vWja9euLF++vNaf0dnIlkIjyc8oZcOy7Rw97EDrttE5dz39r4wncup8NBdi4bHvHoXMXWcsNnvc59733LYPTPhHlQ+Vl85esngx4WFhXHvNZEpys3E7HL4zgrV6PXqjCZ3BSFhMLG8smeUrnW0wmWqsBlrb0tnl9u3bx4oVK/jtt9/Q6/XMnTuXZcuWcdttt52x7urVqwkPDyc3N5eBA0+daLpp0yZ27tqJyWxi2JBhjL98LH7t/PjXv17n2M7fUHSCPiOuotRZglEIOnWKZf23v/D47dNYtXo9cR1i8TcE4fbvBEFB1R4FDh8+nK+//po//viDO++8kwceeKDS408++STdu3evtMzj8fDDDz8QGxtb66Twz3/+k/fff5+0tDQmTJhAYmIiAFdffTUdO3ZkzJgxTJw4kZtvvvmcuuXKr0exdu1aOnXqRH5+vu+xnTt3smHDBkpLS+nfvz9XXnkl7dq1q7R9deXNp0yZ4itU+MQTT7BkyRLuueceHn/8cR5//HEcDgfdu3fn0KFDACQlJbF8+XKmTJnCBx98QL9+/XyvMXv2bBYtWkS3bt3YuHEjc+fO5ZdffgEgNTWVNWvWkJKSwujRozl8+DD/+c9/ANi1axf79+9n3LhxHDx4EIAbb7yRhQsX8vHHH7N8+XJuvvmskz5rRbYUGlhhtpUfXt/A8qc3cOxAMXGZq7k6KZPLlz1O2zumXZgJoRF53G5sJRaKcrK4auwYPvzwQ95dupQbJl2NgoJfcAghbaOJ6NiJiNg4AkLboNXp2LDJe27k8OHDa/1aU6ZMYfv27WRmZtKnTx9eeukl32MPP/wwiYmJJCYmkpKSAsDPP//Mli1bGDRoEImJifz8888cOXKk2ucXQuDyuBAIcqw55FtzGTpiCNlkU2w7wZRxl7D+h88QbhtCVbEV5mBUtBgVDV38IokJ6oifXyDdeyaSkmFn2affcOtt07wzf2qYufbrr7+SmJjI6NGjuffeeys9tmXLFlRVrZSswFuDq02bNrX+/MDbfbR9+3ays7MpLS3lww8/BLwVbH/++WcGDx7Myy+/zO23316n5y23YcMGRowY4bt+RMX4Jk2ahNlsJjw8nNGjR7Np05nnx55e3nzdunUA7N69m+HDh9OnTx+WLVvGnj17fNvMmTOHyMhIRo0aRbdu3QCIjo7G6XSSn5/PypUrufrqqwHvZ7Z+/Xquv/56X+sxIyPD91w33HADGo2Gbt260blzZ/bv38+6deuYOnUqAN27d6djx46+pLBixQr69u3LzJkzueuuu87pMzudbCk0IMeRo2x49WeOOmLomPM7/UZF027mX1pkOd06q+aI3nae9WBU1YPTZsdps+K02XA7HYD3x9whNpZBAweSm5fHqPHeQfrGKp390ksvcd111wHebhXw7uSnTZvG3//+97M+n0d4SCs8Qq6STW5hPm7VTbY1G6fHjhaVcI8Hf40GtEY05hD6tuvFs888Q5eLriI2NpaUo8fAfOqs9hkzZvDiiy/idrtp27Ztrd5TeUshNzeXAQMGcNNNN/kee+KJJ3j11VcrXXfCbrdjs9nq3G1UTq/XM378eNauXet7rT59+tCnTx+mTp1Kp06dWLp0aZ2f92wXtD99eV0ufD99+nS++OIL+vXrx9KlSyvVilq0aBGvvvoqEyZM8HUbgre67aOPPkpCQgIGgwGn04mqqoSEhLB9+/Zax3i2+nTlLYVDhw4xceJEDhw4UON7qolsKdQzt8vD2ne3sePBFzkycSLtNr3HFd0OMWHp/XT485zWkRDqkXdMwEpJfh55J46TnXqEwsyT2IqL0Gi1BLQJI6x9ByLiOhPath0BQUHMuuMO36yta665hu3bt7N9+3bfke6OHTsoKipq8NLZY8aM4ZNPPiErKwunx3vUmHbkMBlFaaTmH4S8I5C5GyFUhNtOkNtNlCrQodBdH0JbQwjrf/0Dva4d2oA4vvhhNRdfOh5MQUS2jWbixIns2LHjjDgGDBhAdnb2OQ2C+/n5YbPZcDi8yXbNmjVER0efUVDt888/Z/z48XV+/nJCCNavX0+XLl3OqPq7fft2OnbsWONznN6dBTBs2DDWrFnD0aNHASp1H3355ZfY7Xby8vJITk5m0KBBZ2xfXt4cqFTe3GKxEB0djcvlYtmyZb71CwsLAdDpdFitVtLS0nyPTZgwga1bt1Zq9QQFBdGpUyc+/vhj3+ewY8cO3+Mff/wxqqqSkpLCkSNHSEhIYMSIEb7XPHjwIMeOHfONuZQLDAwkLy+vxs+sNmRLoR4JIcj/9EsOrfEQk3mSxGnTCJs1s0kqlrZU3nMEHDhtNhw2Ky6bzXekpDeZ8A8JxWD2w2A0VZqua7VaSUhIoFu3br6mdnXS09N54403qnzsqaeeYuDAgb7mfkXlYwqqqhITE1PlkawQAoGg2FFMZGw49z56NyPHjEQIlQCtjv88/wjdBiWWHRHqwBiATtEQFxhLeEQMudpCFI0ObXB7MAZwySXDmXrbNA4fPswtt9zCwIEDOXz4MC+//DI//fRTte/xu+++A6g0MLxy5Uo2b97MM888c8b65d1HdrudBx54gODgYAAOHTrEN998U2ndzZs3M3PmTNq0aeMbE7DZbDz11FM888wzzJo1izlz5pzR3QSnxhRcLhd9+/Zl7ty5uN1uXnzxRe68807MZjP+/v6+z/aPP/5g8uTJFBYW8tVXXzF//nz27NlDbm5ulUfQERERvPXWW0yZMgVVVYmMjPQN+A4ePJgrr7ySY8eO8eSTT/rGExITE31H7v7+/uzZs4cBAwYQHBzMihUrAO/A/pAhQ+jYsSN9+vTxlcS+77772L59OzabjTFjxjBixAjfVf0MBgPlVZwr/l8tW7aMu+66i+eeew6Xy8VNN93kG3NISEhg5MiRZGVlsWjRIkwmE3PnzmXOnDn06dMHnU7H0qVLfZeaXbFiBevWrcPhcPDKK6+c+UU4Bw1aOruhNZfS2UIIDv6ahvnzhZR+9w2GwRcR+8Jz6KOjz/u5q9JcS36fS+lsIQQelwunzebtErLbfGcK6wwGbwIwm73nAzTxNYGrK4Vsc9kochRgc1mxe5y+K3cpCExCYFIFZkVLsM4PjcEf9GbQ+9VYyXPp0qVs3ry50vkX9R37uUhOTiY5Odk3mwa8feV33333OXX51KSq2L/++muOHDlyxvhHdRYsWEBAQIDv2tnVOVt587qq62c+ffp0Jk6c6OuGrC/NuXT2Bcle6uKnf28gLdVF/OES+t9/P2GzZqK08ouan43H7faNCThtVjxlFzbX6nQY/fy9ScDsh1bXfL6e3vMbvDt7m7OErNJMorVmjG4HdreNfA2YhEpwWQIw68wYDP5o9H7eJKBpPu/lfPXs2ZPw067iZzKZ6m2gszYqnoAo1a8L55vaBNL35/HjfzZjdyjE56/h4pfuxK9//6YOq9kRQuCy23FYS7CVlFBalgQ0Wi0Gkxn/UD8MJjPaas4LaAoe1YPdbcfqLsXqLMHmsROuaiDrOBrVharT4rGXgMZAsN6PYL0fGkP9JoDp06czffr0enmu+hQZGUlkZGSlZTqdjiFDhjRRRDWr2Ko5m/pqJZyLhmhlnQuZFM6B6lHZuGI3W9dkY7blMyLsMD1eeVQOIleglg0QO0pLcVhLUT0eFEVBozcQGBaCwWxGZzA2myTg9DixuW1YnSVYXaXY1VOXXTQKQZBQMakaMPhjNPjRuUILQM7WkC4kMinUUXGuje9fXU9OvkJ07haG35xA+LVPNJudW1NSVW/5CEdpCQ6rFSEEGo0Gg58/Jn9/DGY/Sq1W/JtB8rSVzfX3Q0F1lvgu9qJBYFYF4QL8tAbMen90xkDQ+2Ox2mRdf+mCJ5NCHRxcf5zk/9uH6nKRaF3HoFfnYKjF1LkLWWFmBoc3byBl80biLp1AkcmAVqfDHBSE0S8Ag9nUIJeQrAu36sbmtuFyO2ijMYCzlAxnAYpQ6eRyoQHaa/UY9GZMhkCU8sHgJo5bkpqCTAq1ZNu3j52L1mJ2abmkr5W4B59GMRiaOqxGJ4Qg68hhUjZv4PAfG8g97p2XHREbh9HPj7CYDk3aLVReEM7qtmJ1WsouAOOdzaRBEOp0oQDt9Ca0+iDwDwCDP8Fag7zYiyQhT16rUXZaMWlvLSftxpvomfYRk+Z2p9Nj97aqhOBxu0jdsZWflrzJW3Ons+zx+9n4+ceYAgMZddssZv5rMbe9tBCjfwB6o6lJEsJNt9zEMy8u4ED+Pg4XHuad99/hhkk3YXS7iPSoxCl6EgxhrNmdwcQ7nsAU0QN9SCwrf1qHojeRvGbNWZ9/6dKldOrUicTERHr16sV1113nK4om1Y4snd0yyJbCWdizcln5900E5mRw0bBhRP/9b+jqWOulpXJYrRzdvpnDf2zg6LbNOG1WdAYjcf2S6HrTUDr1H4hfUHCTxWd328kpzSRKY8TgtHLLdWN5dP7LzJo+BTNafli+knumzyA2tKv3IjDlicpwoFKL4PnnnycmJqZWr9kSSmc3d7J0dvMnWwpVsJU4vRe+uW4KvXf+lxFXRBGz6M0LPiHYS0vY+dP3fPq3p3hj1i188/qLHNu9g/ihFzP5L08yd8kHTHror/QaOaZRE4JLdVHkKORE8XEsxScg/yjkHsLqLMFVkgUeBxNHj8VpdZCZZqfEEcT2Xfu45qbbysYGqm65/Pjjj4SGhlaqYFkbzal0dmJiImazmdTUVFJTU1EUhUWLFgHeKqbt27evcVprcnIywcHBJCYm0rlzZ1599VXf67fE0tlardZXnDAhIaHSiZ4VWysBAQG+M45fffVVevfuTe/evXnttdeAU0UO27Zt69vmqaeeOuP1hg0bRv/+/enVqxeffvopAF999RWjR4+mf//+XHbZZWRlZQHeKa/lZbD79u3Lp59+yj//+U8SExOJjY0lIiKCxMREZs2aRWpqKt27d2fatGn07du30VqnsqVwmrTtWax6ezsdDqyka2Agia++gKmKGisXCqGqpO3ewZ7knzi86XfcLichUdH0n3AVXQcNpV189xpLSldnxvdnHkV7PB60FU7sGxkzkum9p/vWn9R1Eld1voqTpSd5dO2jeIQbteyksaeHPYXJ7QG0GI1BxBsDUIyBoDWgAWbcPpN33vsfUVFR3Hzzzb5SANV5/vnnfaWza6OpSmfv3r0bPz8/Bg0axJVXXkl8fDz//ve/SUtLw2w2+wrwAXTt2pUvvviCOXPm8P3339OhQ4davbcLpXQ2gNls9pWt2Lx5c6WzmD0eDw8++CAPPPCAL1ls2bKFd999l40bNyKEYMiQIYwcOdJXBbems6F///13wHuQMX/+fK699louueQSfvnlF4KCgli8eDEvvvgir7zyCs8++yzBwcHs2uUtK19QUEBoaCj333//GWewp6amcuDAAZYsWcLFF1/M7bffzhtvvFHjWdnnSyaFMh6Xyrr/bWP3H0X4l2QTNziWTk++jMZsburQGkRhViZ71vzEnuSfseTlYPT3p9fosfQedRlRnbs2+riAt2y0k5zSLPbn76fYWYxb9c4MMgjQKhq6m6K8SUBX9UD29OnTfUeAX3755Vlfr7w+zfDhw2udFMq7j4QQzJs3j5deeslXJfXhhx/mueeeA6iydDZ46wOdftJXTcaOHes7gp4yZQrr1q0jPj4eIQQ2mw3zad9Po9FI165d2bNnD//3f//HrbfeSm1KwZTXPjp8+PAZZTXqu3T2Qw89hMvl4rrrruPDDz/kpptuYvHixezatYuffvqJl19+mVWrVjXIyVw2m43o08rPrFu3jmuuuQZ/f3/A+zn/+uuv9K/liajZ2dmMHj2aY8eO+S50k56ezn333UdOTg5Op9NXyvunn37ylQsHfK3N6nTo0IGLL74Y8Jby/te//iWTQmMoyCzlu1fXU1CsJSZ7PcNnDabNFWcvqtYSuex2Dm78jd3Jq0jfuxsUhY59Ehnxp+l0HTQMXT0Pnr87/t0zllWsB1NoL8DhLIHikygOC88M9u5g/T0qcYYwlo/6FxpjoLdOUC2SVPv27Rk8eDDZ2dn07dsXoEWUzq7ptU6/HxQUxDPPPEOXLl28pbPLklC51lw6uyYnT570VT4td7713yIjI9mzZw+///47zz33HBMnTuSee+7hrrvu4sYbb6xUJ+pspb2rci7lvs9Xqx5TEEKw++ejrFjwGyV5NgbaVnHFwttpc8WZF3xvqYQQnDiwjx8W/YtFc6by/Rv/pCQvj4tvnModC9/hur8+S/eLR9Z7QjidW3VTYM8nz5mFasmE3MPYi9MpcRQiSrz9rZ2MYXQOiiMqshf+4fFoAtt6Lwpfhx+C2WyudG3m5lA6Ozs7G/CWca5YWrk2Vq1aRX5+PjabjS+++MJ31BgZGSlLZ9exWzc3N5dff/31jHIcI0aM4IsvvsBqtVJaWsrnn39e64sv2e1232dlMpnYvXs3AEVFRb4WyXvvvedbf9y4cZVaYgUFBWd9/mPHjvm6p5YvX35GQmsIrbal4LC6OLGqhL35RwktSOHiYRpi73nugilkV5Kfx561v7Bnzc8UnExHbzQRP/QSeo+6jPY9ejXKEYfD48DiKMbiKMTqcQKgFwK3pQSDzkiUMdTbHWTwB42O84mouZTOrqhnz54899xzjBs3DlVV0ev1/Oc//6nVDq/cJZdcwtSpU2Xp7FqWzq7ps1ywYMEZ3UdJSUlMnz6dwYMHAzBr1qwau47Ky21nZWUxadIkb8l3t9s3SL1gwQKmTZtGTEwMQ4cO9V3f4YknnmDevHn07t0brVbL/PnzmTJlSrWv06NHD9577z3uvPNOunXr1ihFB1tl6Wzh8fDVX78mPd+PrnlruOixawgYOKABImwY1ZXOdrtcHNmykd3JP5G6fStCqLTv3pPeo8YSP/RiDGa/Bo1r7769xHWNw+IowuIsxqF6C9+ZhCBQFQTp/RCYMAdHglbfoLE0hPosP10bsnS2V32Uzm4K5/uZp6amMnHiRF/r41zVa+lsRVHuEkK8WXY7AXgX6AMcAWYLITaeV7RNxLppEzHfv0hIn8Fc/O7TaIOCmjqk85KdeoTdyavYt24NdksxAW3CGDz5OnqNHENodPsGfW2nx0mJq4Q2NgtuezFHi7xHRP6qSigKgYZADKZQMAaAovFenKQFJgTpFFk6+8JWU/fRHUD5WSMvA68BK4HhwELgzOvZtQD+w4bRffHrbLJYWmxCsFmK2bcumd3JP5GTegStTkeXQcPoPeoyOvZNPOdppLXhVt3oFC0iYwcTf7mTwQ4Xzx1PQX/5R7RTg/A3BaMzhdR6gFiqmiyd3brFxcWddyvhXNSUFCr+omOEEB+V3V6lKMpLDRRTo/AbOBAqDG61FCcO7OPIjyvZ/vZreNxuojp35dLb59D94pGYAxquayOzNJNf0lax+tCX5FpO8HmOBaXoOHMCAmjXphuMew4CowmO7NlgMUiS1PBqSgqimtsAaj3HIp3F8b272PDphxzbvQOtyUy/cVfSe9RlRHTs1CCvJ4TgYMFBVh/9gV+OfMM+60kA4pwuLrU7cUUNQj/yEabEj4eACO9G+/Y1SCySJDWempJCd0VRduJtMXQpu03Z/c4NGpmEEIJju3aw4bMPSd+3G7/gEEZOnUmR0Z/RYxtm2mxKYQqf7Pkfq9N+5oSrCEUI+jqc/NkFo6MvonPP66DLaO+MIUmSLjg1JYWzXYX9akVRbgPWCCHqNvlaOishBKnbt/D7p8vJOHSAgDZhjJ5+J33GjENvMFaa010fMksz0TqtRBxZS9aOd/lIyWOI3c4s/BgVO5bwXtdChyGgbbUzmCWp1TjryWtCiLSyHf6/q/h7BsgFHA0dZGshhODwHxtY9vgDfPaPBZQWFnDZrLnM/NdikiZchd5w9lo+daaqWA79wBWfjOP/3h8LX93HEJuNtXE388aUlVw3ZwfhV74KcRc3+4QwderUSlM3P/roI8aNO7M1lZycXGnmysqVK1EUpcZEK0tnn79zKZ396quvMmjQIPr27cuYMWPqfPKfVHe1/aX3AGZVuK8APYQQ39Z/SK2PUFUObVrPhs9WkJN2lOCotoybcy89h1+KVld/O2MhBHvy9vDFnv8jJ2snr59MJ7DwGM+GhNOv01i45g607ZPwb4EzhmbOnMn999/vq+r5zjvvVDqzuTqydHbjqmvp7P79+7NmzRqioqJ48803+ctf/sKKFSua9k1c4Gpb5sIihFhT4S8ZsDRgXK2CqnrY99sa3nv4br765z9wO51MmPcAt//zv/QZPa7eEkKeLY/3di5mykdjuPmbm/niyNf45RzAHdoJpizmynm7iZm0CGIGtNgppCNHjsRisbB161aOHz/O1q1bmTx58lm3kaWzvZpz6ezRo0fj5+c96XLo0KGkp6fX+Nzff/89SUlJ9OvXjzFjxgDeVsrUqVO59NJL6datG2+//XaV2wYEBPDggw+SlJTEmDFjyMnJAeDtt99m0KBB9OvXj2uvvdbXSvzb3/7GgAED6NGjB7NmzUJVVZKTk1EUhVWrVgHeUhZms9l3sl9KSgrjx49nwIABDB8+nP379wPe79GcOXMYPnw48fHxfP3114C3lEZ5ue3+/fuzevVqwPv/ExERQb9+/ejatauvGN/5qu1ep5eiKIeBfCAd+Bow1UsErZDq8bBvXTIbP/+IgowThMXEcuW9DxM/7JJ6O7/Apbr49fivfLF7Kb/mbseNoK/dwVMeI+O730Rg0jQIia2X16pK5t/+hmPf/jOWuz0e8s+xlIixR3faPv54lY8pisKMGTN45513ZOnsC7R09pIlS5gwYcJZnz8nJ4c77riDtWvX0qlTJ/Lz832P7dy5kw0bNlBaWkr//v258soradeuXaXtS0tLSUpK4pVXXuGZZ57h6aefZuHChUyZMoU77rgD8JaqWLJkCffccw+PP/44jz/+OA6Hg+7du3Po0CHAWzpj+fLlTJkyhQ8++KDSgcfs2bNZtGgR3bp1Y+PGjcydO5dffvkF8J7FvGbNGlJSUhg9ejSHDx/mP//5DwC7du1i//79jBs3joMHDwJw4403snDhQj7++GOWL1/OzTffXKv/h7OpbVJoB2iBAKATcD2QoCjKCGCvECL3vCNpBTxuF3vW/MKmLz+mKCuTiI6duOqBx+g2aBjKOdaOr8rutDXM+/Uh8j12wtweplodTGp7EV1GzIaOF0M9vlZzIktnX7ils99//302b97Mmhoum7phwwZGjBjhK1VdMb5JkyZhNpsxm82MHj2aTZs2ndGa1Gg03HjjjYC3VHV5XaLdu3fzxBNPUFhYSElJCZdffrlvmzlz5vgSQLdu3cjIyCA6Ohqn00l+fj4rV67k6quvxul0UlJSwvr167n++ut925cX1AO44YYb0Gg0dOvWjc6dO7N//37WrVvHPffcA3iLAHbs2NGXFFasWMHatWtJTU31XeDnfNUqKQgh8spuZuMtcfFz2fTU0XgHm2VSOAu3y8Xu1avY9OXHWHJziOrcjVEP30GXAYPrpTCdKlQ+2fchIQWpjEvbQafDPzEoLJiJ5hgu7jcdfe/rwNS4Z25Xd0TfkPWDZOlsrwutdPbq1at5/vnnWbNmTY2tv7OVpj6XMtTl60yfPp0vvviCfv36sXTp0koTExYtWsSrr77KhAkTfN2GANdffz2PPvooCQkJGAwGnE4nqqoSEhLiuwhQbWI8W3268pbCoUOHmDhxIgcOHKjxPdXknA8ZhRBvCCGeFkLsPe8oLlAup4Ot361kyT0z+XnJGwS0CWPKY0/zp7+9SteBQ84rIahC5XDBYcjcjeaHv/Lp+udYtX0xnNyO/7C7efmG7xl1+1r0A29v9ITQlGTp7AurdPa2bdu47777WLly5RmtrKpKZw8bNow1a9b4qpJW7D768ssvsdvt5OXlkZyc7GvBVaSqqm/c5IMPPvCVqrZYLERHR+NyuVi2bJlv/cLCQsBb5sNqtVb6/50wYQJbt27l9ttv9y0LCgqiU6dOfPzxx77PYceOHb7HP/74Y1RVJSUlhSNHjpCQkMCIESN8r3nw4EGOHTvmG3MpFxgYSF5eHvWhweYZKoryDjARyBZC9C5b9hJwFeAEUoAZQojCssceA2YCHuBeIcQPDRVbQ3PZ7Wxf9S2bv/oMa1EhMT16M37eA8T27nfeLYMcaw7f5X3O3z54nHyXhdVpxwlUdLwVP5ag4dOh65hmP320IcjS2ZVdKKWzH374YUpLS33dLbGxsaxcubLa0tkRERG89dZbTJkyBVVViYyM9A34Dh48mCuvvJJjx47x5JNP+sYTystgA/j7+7Nnzx4GDBhAcHCwb6bTs88+y5AhQ+jYsSN9+vTxFnYE7rvvPrZv347NZmPMmDGMGDHC1zVpMBh8XXcV/6+WLVvGXXfdxXPPPYfL5eKmm27yjTkkJCQwcuRIsrKyWLRoESaTiblz5zJnzhz69OmDTqdj6dKlvhbTihUrWLduHQ6Hg1deeeWMz+OcCCEa5A8YASQBuyssGwfoym6/ALxQdrsnsAMw4h2zSAG0Nb3GgAEDxPlYvXr1eW1fldSd28R/75ouXr7hSvHRM4+LY3t21svzZpRkiOfXPCqSlvYVfd7tJWa/0UV8999BwvHbQiFKcuvlNc7X3r17a1ynuLi4ESJpGI0d+7vvvivmzZtXL89Vn7GvXr1azJ8/v9Iyi8Uipk2bVm+vUVFVsX/11Vfi9ddfr/VzzJ8/X7z00ks1rufv71+n2M6mrp/5tGnTxMcff1xvr1+uqt8lsFlUs19tsENKIcRaRVHiTlv2Y4W7G4Drym5PAj4UQjiAo2UznQYDvzdUfPXN5XSw7oP32PrdSkKj23Pjgn8Q06N3zRvW4ETJCZb88U8+P/YjCJWrS21cpe/DwMlPQ3TdplJKUn2QpbMvbA16kZ2ypPC1KOs+Ou2xr4AVQoj3FUVZCGwQQrxf9tgS4DshxCdVbDcbmA0QFRU1oOJFsOuqpKTknAfKKirNziT152+xF+YT0ac/MUNGoNGf3zUDVKHySdYS1tt3okEwucTGlcYknB1uJM9tqpe461twcDBdu3Y96zoejwdtC726nYy9abTU2JtL3IcPH6aoqKjSstGjR5/bRXYaiqIofwXcQPmITVUd7VVmKyHEW8Bb4L3yWlVXIKut6q5gVlset5tNX3zMti8+xC84hGv/+ixxfc9+Gb+a5NpyCS/OhrUv8X3e79wkNEzvfDVtr30EAqPqJe6Gsm/fvhpnFjX21cvqk4y9abTU2JtL3CaTqcbLi1bU6ElBUZRpeAegx4hTzZR0oOJZNjHAycaOrS7yT6bz3cJXyEw5RI9LRnHpjDmYzvPo/eutb/Dkrjf5/PhJ4jQmXhg0C+Wie8A/vOaNJUmS6kGjJgVFUcYDjwAjhRAVq4mtBD5QFOVVvCfKdQM2NWZstSVUle0/fsPaZUvRGQxM/POjJAy75Jyfb1/ePtSsPfTa/jFDD//I9DbhhAyZBxf/GcWvbicGSZIkna+GnJK6HBgFhCuKkg7MBx7DO8NoVdnUzA1CiDlCiD2KonwE7MXbrTRPCHFmkZgmZsnL5fs3X+PYru10ShzAuDn3ERB6bjvuXTm7+O/Gf7AmbycXWW38t9hN+MjHuW/wHWAOqd/AJUmSaqnB6h0IIW4WQkQLIfRCiBghxBIhRFchRAchRGLZ35wK6z8vhOgihEgQQnzXUHGdCyEE+9Yl897D8zh5cB+XzZrHNY8uOKeEsC17G3NW3sgt397C9uxt3F3i5KWes+DPu2DkwzIhnCNZOrv5k6WzW4YLswhOPbJZivn69Rf59t8vE9Y+ltte/Df9xk6o80lof2T8wawvpnDbd7exL3cXfy5x80P8LO68YytBIx8FY9MPSLVkM2fOZMmSJb77DVU6e/v27ezZsweDwSBLOJ+D+++/n+3bt7N371527drFmjVrcLlczJ49m6+++oodO3awbds230SK8tLZO3fu5LrrruMvf/lL076BVkAmhbM4um0z7z18N4c3/c4lN93GjU//g9C27WresIL04uNM+2wSt/94Oyl5+3moxMN3PeYyc/ZW/C95QF7Wsp7I0tmydHY5rVZLYmIiiYmJJCQkVJqpV7G1EhAQ4Dvj+NVXX6V379707t2b1157DfCeTZ2YmEjbtm192zz11FNnvN6wYcPo378/vXr18hWl++qrrxg9ejT9+/fnsssuIysrC/BOgy8vg923b18+/fRT/vnPf5KYmEhsbCwREREkJiYya9YsUlNT6d69O9OmTaNv376N1jptffUQasFpt7H2/XfYseo7wmJimfLoAiLjan9JaiEEudYcIo7/QZs1L2BTsnjUbeDagX/GlDQNdPV8BbVm6vNXtp6x7PS523F9wuk/Lta3fvdh0fS4KBpbiZPv/7u70rbXPJhU7WvJ0tlerb10NnjrX5WXrdi8eTMPPfRQpZgffPBBHnjgAV+y2LJlC++++y4bN25ECMGQIUMYOXIkL730EuBNJAEBAZWep6Lff/eeY/vjjz8yf/58rr32Wi655BJ++eUXgoKCWLx4MS+++CKvvPIKzz77LMHBwezatQvwXmshNDSU+++/n6VLl7J582ZfN2hqaioHDhxgyZIlXHzxxdx+++288cYb1cZRX2RL4TQnD+7j//5yLzt++p6BV03h1r+/VqeEAPDoN9OY8dFYPB/egp+9mBUD/sqf7tyKafDsVpMQmsL06dNZsWJFrbqOKpbOrq3y7qPMzEz69Onj22nAqaPKxMTEKktnJyYm8vPPP3PkyJE6vafy0tlms9lXOhvwlc4+XVWls2ujvPbR6NGjuffeeys9Vt+ls7dv3052djalpaWUn3y6ePFifv75ZwYPHszLL79cqYgcnCqd/fDDD9fp9U5ns9kwmSpfCmbdunVcc801+Pv7ExAQwJQpU3zfj9rIzs6mV69eXHvttfz1r38FvPW1Jk+e7Pue7NmzB/DWQJo3b55v2/LWZnU6dOjgK4J46623+v7/G5JsKZTxuF38/slyNn3xCYHh4dzw1N/o0LNPrbcXQuCx5aP74QmuO/A9A0PaIya/CX1uQGmFBeqg6iP7s53QU3F9c4DhrC2DqsjS2V6tuXR2TU6ePOmrfFrufKs6REZGsmfPHn7//Xeee+45Jk6cyD333MNdd93FjTfeSHJysu+qa+Ispb2rci7lvs+XbCkAucdSWfbXB9n4+Uf0GjWG215cWKeEkGPNYe5XN/Pv/42EnSsYNPg+rp+1EV3iLa2yYmlTkqWzW3fp7LPJzc3l119/ZciQIZWWjxgxgi+++AKr1UppaSmff/55rVuQdrvd91mZTCZ27/Z2eRYVFREdHQ3Ae++951t/3LhxlWbJFRQUnPX5jx075uueWr58+RkJrSG06qQgVJXNX33G+4/9mZL8PCY99ASXz7kPY9nAVm38kPI113xyOZvzdhGNFmb+CJf+FXSGBoxcOp3VaqVDhw7k5+fXqnR2eTP/dE899RQrV66s8rHPPvuMxMRE+vbty7Zt23jyySfP+joVS2f37duXsWPHkpGRUbs3VKa8dHZiYiLXXnttpdLZ5QPKVfnuu++48sorKy1buXJllQOlcKr7KCkp6YzS2eVHueXKS2cnJyf7uszKS2cDzJo1q9qrvZUPqvbu3Ru3283cuXMRQvDiiy/6Bs7nz59fZensxMREX0nz6kpnn80ll1zCggULfDvrcklJSUyfPp3BgwczZMgQZs2aVWNZiPKxkKysLIYMGUK/fv249dZbfYPUCxYsYNq0aQwfPrxS8cAnnniCgoICevfuTb9+/XzXW65Ojx49eO+99+jbty/5+fmNU3SwuvKpLeHvfEpnF2ZlikX33SlevuFK8cVLz4rSwoK6bW8vFI98P1v0Xtpb3LyomzjyxRwhHCXnHE9dNETJ7/ogS2fXL1k626s+Smc3hfP9zI8ePSp69ep13nE0m9LZzdmJA/v47O9P4XZ7uPyuP9Nr5Jg69dX9nr6OJ5IfJM9dylyryh1jF6LrduaJUpJ0IZKlsy9srTIpRHbsRLfBF6HEdKb3qMtqvZ3NbeO1357mg9Rv6OR08a+gfvS64U2QNYqkBjB9+vQazzFoCpGRkWf07+t0ujP66qXzExcX5xujaEytckxBbzIxfu79GIOCa7+RELz+3Ww+SP2GW0sdfDR4Pr1uXCETgiRJF5RW2VKoC5fqojjvEGHfP8Hso6sZHTeEIbe+A0F1O7NZkiSpJZBJ4SyEEMz74jqseQf5X3YhbSa8xJCBM6ER5gpLkiQ1BZkUqqAKFaz5aL57hOuPbIQ2XdDM+RrCzj4vXZIkqaVrlWMKZ5NZmsnsL69n+dIRsPcLxg55kLEz1siE0AJUPLs2IyODLl268NVXX52xXsUCcOV/n3/+eY3PHxISQmJiIv369SMpKYn169cD3nMk/vSnP9GnTx969+7NJZdcQklJCQC33347kZGRleoTSVJzJlsKZYQQfH3wU/6+8XncHidXak0w6ydod37XXJYan8Vi4YorruCRRx6ptmhdeVmHuqhYaO2HH37gscceY82aNbz++utERUX5ipwdOHAAvV4PeGcQ3X333VUWwZOk5kgmBaDAXsCzqx9gVfZm+tvtPN/+Cjpc/g/Qm5s6NKmOXC4XU6ZM4eqrr2b27NkN9jrFxcW+YmYZGRm+sgyAr+wzeEsolJfRlqSWoNUnhbXHVjN/zV8o9Nj4sw2mX/422s6jmjqsFm/10rfITjuzIqjH7UGr01axRc0iO3Zm9PSz7+hvv/121qxZw7///e+zrlde1gG8O/HXXnvtjPIHp7PZbCQmJmK328nIyOCXX37xvea4ceP45JNPGDNmDNOmTaNbt261f2OS1Iy02jEFq8vKJ1lvM2/1vYTai/kwoD8zZ/wmE0ILVlpaSn5+PkuXLq1Unrgqw4cP9xXKK6/3U5Py7qP9+/fz/fffc9tttyGEIDExkSNHjvDwww+Tn5/PoEGD2LdvX329LUlqVK2zpaCqLPjqT6y1HWKG1cXdI/6OofeUpo7qglLdEf3ZSmefL6PRyEcffYS/vz//+9//WLZsGX/605+qLZ9d7uqrr+Z///tfnV5r2LBh5ObmkpOTQ2RkpK8O/5QpU9BoNHz77bdnVBaVpJagdbYUjq5h3t61/NPahgemrpUJ4QKh0+nw9/de3nThwoX89a9/paioqMry2RWtW7eOzp3rdiGl/fv34/F4CAsL47fffvOVQHY6nezdu7fSGIMktSSts6XQZTQdb/mMo2kqBEY1dTRSA+jatSszZszg8ccf5z//+c8Zj5ePKQghCAwMZMmSJYC3LPSiRYuqbFGUjymAd7bae++9h1arJSUlhbvuugshBKqqcuWVV3LttdcCcPPNN5OcnExubi4xMTE8/fTTNV4VTpKakiLO86pDTWngwIGiurrttZGcnFzpot4tRXONe9++fTV2mTRk91FDk7E3jZYae3OJu6rfpaIoW4QQZzabaa3dR5IkSS1YqcNNdrGdUoe73p+7dXYfSZIkNVOqKnCrAo+q4i677facuu9wq1gdbgSgURQ6hfvjb6y/XblMCpIkSfWs1OGm0K6iMbgx6jRlO/myHbyq4vGIapep1XTpK4BW4+3cKV9DCEGpwy2TgtR8CSHqdBU7SWpJhBCoAtyqWnb0Lny3y4/oHW4PNpcHgIKckmqfS6Mo6DQKWq2CTqPBpFPQarzLdFoFrUbjfbxsmVajoCgKpQ43R3NLfb+1syWEcxkzlklBqjcmk4m8vDzCwsJkYpCavVKH23eUbdBpynbsqm/nXvHoveKOv7ojea3i3Zmrpz0caNIT4qf37uw1p3b2Gs25/Ub8jTo6hfv7Yq8uKQghyMvLw2Qy1en5ZVKQ6k1MTAzp6enk5ORUu47dbq/zl7S5kLE3jXOJXQhQhXcH7lFP/esRZX32HhWXR3C242hF8R7NaxXQaBTvbY2CRqHs38rLFEVBBZxuldwSB0J4n0MEGLHrGmZOT14Nj5tMJmJiYur0nDIpSPVGr9fTqVOns66TnJxM//4ts/KsjL3xbUkrYPn6P7j5skEkxYZQbHeTY3GQY3GQW+L9N6f8X8up+3kljjOO2AH8DFoiAo24PSonCu2At69+TM8orktqT1iAkTB/A2EBRoJMunNu8W5JK2D5T964+3UMPY9PoPHJpCBJUpNSVUGB1Um2xUFWsZ3sYu+/u08WsWpvFqqATw+tR6tVcHvO3NPrtQoRAUbCA41EB5voGxNMRKDR+xdg9N0ODzD6ulq2pBXwp8UbcLlV9DoNd43swoB63HkP6BiKpYuhXp+zscikIEnSOduSVsCGI3kM7Rx2xg5QCEGxzU2WxU5WsZ2s4vKdftltizcBZFvsuKrY2Zv0Gt/RvgCSOoQwrlfbM3b2wWZ9nY/oB3QMZdmsodXG3prJpCBJUp3ZXR5+3pfF/St24PKoaDUKl/eKAhRvArB4d/xOt3rGtkEmHVFBJqKCTAzp7O+9HWgkKshEZJCJyEAjkUFGdp8o5k+LN+B0qRj0Gh6Z0KPej+ZlMjiTTAqSJFVid3nILLJzsshGZpGdjCI7GWW3TxbaySy2k1/qrLSNWxWs2ptNTBszUYEmkmJDvTv5sp29989IZKAJs6F219MoP5ov75uXO/DGIZOCJF3gtqQV8HWKk8BOBfRqF1TnHT5AiJ+e6GAz0cEmEmNDaBdswu5WeWvNEdyqikGrYdkdQ+t9x92S++ZbKpkUJOkCIYQgv9TJiUIbJwpspBfY2Ha8gO93Z6IK+OTQ+iq3q7jD7x8bQnSwibbBZtoFm2gbbCI62Fzt0f3ohEjZL3+BkUlBkloIVRXkljg4XmDjRKGN9AIrJ3y3vYmg/EzacgbtqcFaBbikaziT+7cnOthEdIiZtkG1786piuyXv/DIpCBJTax8Bs/gTm1oF2IuO8q3+o72TxTafEf/Tk/lgdtQPz3tQ810jQhgZHwEMaFm2oeYaR9qJibUj8PZJZUGa/88Nl7uxKWzkklBkhpRicNNWl4px/KspOVb2ZJawM/7s6o80QogPMBITKiZnu2CGNcripgKO/z2IeYaC6HJwVqprhosKSiK8g4wEcgWQvQuW9YGWAHEAanADUKIgrLHHgNmAh7gXiHEDw0VmyQ1FCEEuSVOjuWXkpZnLfsrJS3fyrE8K3mnDeKa9dpK3Ttje0Zx69COtC874jfpz71rp5wcrJXqoiFbCkuBhUDFK6I/CvwshPiHoiiPlt1/RFGUnsBNQC+gHfCToijxQggPktQMVJzB0y8mmIwiu3eH79v5e/89nm+l1Hnqa6so0C7YTGwbP8b2jCI2zI+4MH9i2/gRG+bHoaySSmfW3lnPZ9ZKUl01WFIQQqxVFCXutMWTgFFlt98DkoFHypZ/KIRwAEcVRTkMDAZ+b6j4JOlshBBkFTtIySlh9YFs3v0tFY8q+PTQejQKVDwB16DT0CHUTMcwf4Z2DqNj+Y4/zI+YUDNGXfVH+/LMWqm5adBrNJclha8rdB8VCiFCKjxeIIQIVRRlIbBBCPF+2fIlwHdCiE+qeM7ZwGyAqKioAR9++OE5x1dSUkJAQMA5b99UWmrc0Pxid3oE2VZBRqnq/StRySz13rdX005NCNVwUXsdkWYNkX4KoSZvtczmrLl97nXRUmNvznGPHj262ms0N5eB5qp+UVVmKyHEW8BbAAMHDhTncwH75ORkzmf7ptJS44amiV0IQV6pk5TsEo7klpKSXUJKTgkpOaUcL7BS8biofYiZzlH+jIwIoEuEP10iArA6Pdy9fKtvBs/fbqr/k7QamvzONL6WGndjJ4UsRVGihRAZiqJEA9lly9OBDhXWiwFONnJsUgu36WgeP+zJIjzAACik5JRwpGznX2Rz+dYz6jR0jgigb0ww1/RvT+eynX/nCH/8DFX/JOQMHqm1aOyksBKYBvyj7N8vKyz/QFGUV/EONHcDNjVybFILIYQgx+JgX6aF/RnF7M+0sDWtgLR8a6X1IgKNdInwZ2LfaLpEBNAlMoDO4f60DzHX+apXcgaP1Fo05JTU5XgHlcMVRUkH5uNNBh8pijITOAZcDyCE2KMoykfAXsANzJMzjyTwFmc7lFXCvsxi9mdY2J/pTQIV6/NEB5sw67UoePscNQrcfWlXHhib0GRxS1JL1ZCzj26u5qEx1az/PPB8Q8UjNW9CCE4U2nw7/vJWwNHcUt88frNeS3zbQMb1jKJ720C6RwfRvW0gIX6GMy6aMjI+smnfkCS1UM1loFlqBcrn+uticjHrtd6j/vKj/wwLFofbt25sGz+6tw3kyr7t6FGWAGLb+KGtpttHTu2UpPohk4LUoEodbnafKOKbXRm8vyGtrFrnRt/jgUYd3aMDmdy/Pd2jA+neNoiEtoEE1FC+oSqyOJsknT+ZFKR64/aoHMouYfvxQnYcL2T78UIOZlnOqOujANf0b88D4+JpH2I+54ujS5JU/2RSkM5J+RjAjuNF7EgvZPuxQnadKPKVbg7x09MvxntN3cQOwSjAXctOzfX/09COxIT6Ne2bkCTpDDIpSLVSZHOxs2znvyO9kO3Hi8gtcQDeMg+92gVx46AOJHYIIbFDCB3D/M5oAci5/pLU/MmkIFWyJa2A3w7nEBlkwuFSfd1AR3JLfet0ifBnRHw4/TuE0K9DCN3bBmHQaWp8bjnXX5KaP5kUJOwuD1vTCvh0azqfbTtRqexDRKCRxA4hXDsghn4xIfTtEEyQSd90wUqS1KBkUmiF3B6VnSeKWH84l/UpeWxOK8DpVlEUfAlBo8DsEZ15ZHx3ORAsSa2ITAqtgKoKDmRZ+O1wLr+n5LHxaD4lZecE9IgO4rahHbmoaxgGnZZZ7/3hOwFsbM+2MiFIUisjk8IFSAhBWp6V9Sl5/JaSy4aUPN8VvzqF+3N1Yjsu7hLOsC5htPE3VNpWngAmSa2bTAoXiKxiO+tTcvntcB6/p+RxotAGQFSQkZHxEVzUNZyLuoTRLsR81ueRJ4BJUusmk0ILU14qQonOxubyeFsDh3NJyfHODgrx0zOscxhzRnXhoi5hdA73l11AkiTVmkwKLcjK7Sd44KMduFXBJ4f+AMDPoGVwpzbcNCiWYV3C6BkdVOey0JIkSeVkUmjmjuSU8M3ODL7ZlcH+TItvuQLcPDiWBVf3qtU5ApIkSbUhk0IzdDS3lG92nuSbXZnsyygGYFBcKDMvjuP9jcdwub2lIq4dECMTgiRJ9UomhWYiNbeUb3Zl8M3ODPaWJYKBHUN5amJPrugTTdtgEwBX9G0nS0VIktRgZFJoQml5pxLBnpPeRJAUG8KTE3tyRZ+2RAefOVNIloqQJKkhyaTQyI7lWflmVwbf7spg14kiAPrHhvDElT24ok90jVNGJUmSGpJMCo3geL6Vb3d5B4t3pnsTQWKHEP56RQ8m9GkrS0hLktRsyKTQALakFfDjnkxsLg870ovYcbwQgH4xwTx+RXcm9I6mQxuZCCRJan5kUqhHQggW/3qUv3+3z3e1sS4R/jw2oTtX9JGJQJKk5k8mhXrgUQXf7MrgzeQU3xRS8FYanZIUw50juzRhdJIkSbUnk8J5cLg9fLrlBP9dm0JanpUuEf7cfWlXFv96xFdpdGjnsKYOU5IkqdZkUjgHJQ43H2xMY/GvR8m2OOgXE8xjtw5gXM8oNBqF0QmRstKoJEktkkwKdZBf6mTpb0d57/c0imwuLu4axj9vTOSiLmGVis7JSqOSJLVUMinUwslCG2+tPcKHfxzD7lK5vFcUc0d1pV+HkKYOTZIkqV7JpHAWh7NLWLQmhS+2nQBgUmJ77hrVma6RgU0cmSRJUsOQSaEKO9MLeWN1Cj/szcSo03Dr0I7cMaIz7eXZxpIkXeBkUigjhGB9Sh5vJB/mt8N5BJl03D26K9MviiMswNjU4UmSJDWKVp8UVFXw494s3lyTwo7jhUQEGnlsQnduGRJLoEnf1OFJkiQ1qlabFDYdzWPhNjt/3biaEwU2Ytv48fw1vbk2KQaTXtvU4UmSJDWJVpkUVvxxjEc/3YUAFGz8+bJu3D26KzqtvGCNJEmtW6vcC54osFFWmgiNAnqtRiYESZIkWmlSGJkQiUmvQQOyFIUkSVIFrTIpDOgYyrJZQ5nSTc+yWUPl2ceSJEllWuWYAsjLWkqSJFWlVbYUJEmSpKrJpCBJkiT5yKQgSZIk+cikIEmSJPnIpCBJkiT5yKQgSZIk+ShCiJrXaqYURckB0s7jKcKB3HoKpzG11LhBxt5UZOyNrznH3VEIEVHVAy06KZwvRVE2CyEGNnUcddVS4wYZe1ORsTe+lhq37D6SJEmSfGRSkCRJknxae1J4q6kDOEctNW6QsTcVGXvja5Fxt+oxBUmSJKmy1t5SkCRJkiqQSUGSJEnyueCTgqIo4xVFOaAoymFFUR6t4vE/KYqys+xvvaIo/ZoizqrUFHuF9QYpiuJRFOW6xozvbGoTu6IooxRF2a4oyh5FUdY0dozVqcV3JlhRlK8URdlRFvuMpojzdIqivKMoSraiKLureVxRFOVfZe9rp6IoSY0dY3VqEXtz/p2eNfYK6zW732mVhBAX7B+gBVKAzoAB2AH0PG2di4DQstsTgI1NHXdtY6+w3i/At8B1TR13HT73EGAvEFt2P7Kp465D7I8DL5TdjgDyAUMziH0EkATsrubxK4DvAAUY2ly+67WMvVn+TmsTe4XvVbP6nVb3d6G3FAYDh4UQR4QQTuBDYFLFFYQQ64UQBWV3NwAxjRxjdWqMvcw9wKdAdmMGV4PaxH4L8JkQ4hiAEKK5xF+b2AUQqCiKAgTgTQruxg3zTEKItWWxVGcS8D/htQEIURQlunGiO7uaYm/Gv9PafO7QPH+nVbrQk0J74HiF++lly6ozE++RVHNQY+yKorQHrgEWNWJctVGbzz0eCFUUJVlRlC2KotzWaNGdXW1iXwj0AE4Cu4D7hBBq44R3Xur6e2iumtPvtEbN+HdapQv9cpxKFcuqnIOrKMpovF+2Sxo0otqrTeyvAY8IITzeg9Zmozax64ABwBjADPyuKMoGIcTBhg6uBrWJ/XJgO3Ap0AVYpSjKr0KI4gaO7XzV+vfQXDXD32ltvEbz/J1W6UJPCulAhwr3Y/Ae3VWiKEpfYDEwQQiR10ix1aQ2sQ8EPiz7ooUDVyiK4hZCfNEoEVavNrGnA7lCiFKgVFGUtUA/oKmTQm1inwH8Q3g7iw8rinIU6A5sapwQz1mtfg/NVTP9ndZGc/2dVulC7z76A+imKEonRVEMwE3AyoorKIoSC3wGTG0GR6kV1Ri7EKKTECJOCBEHfALMbSZftBpjB74EhiuKolMUxQ8YAuxr5DirUpvYj+Ft4aAoShSQABxp1CjPzUrgtrJZSEOBIiFERlMHVRvN+Hdao2b8O63SBd1SEEK4FUW5G/gB7+j/O0KIPYqizCl7fBHwFBAGvFGWyd2iGVQ2rGXszVJtYhdC7FMU5XtgJ6ACi4UQZ53S1xhq+bk/CyxVFGUX3i6ZR4QQTV4iWVGU5cAoIFxRlHRgPqAHX9zf4p2BdBiw4m3xNAu1iL1Z/k6hVrG3KLLMhSRJkuRzoXcfSZIkSXUgk4IkSZLkI5OCJEmS5COTgiRJkuQjk4IkSZLkI5OCJEmS5COTgiRJkuQjk4IknSdFUeLKa+kritKj7DoLwxVFEeUnvSmKolUU5YSiKEubNFhJqoFMCpJUT8qqYX6Ityz4cbxnDk8ue3g8lSuUSlKzJJOCJNWPAOB7IFkIsadsmQNvwbxewFTg/aYKTpJqSyYFSaofHYC/A6MVRelRYfm7wF/w1hnLbIrAJKkuZFKQpPqxTwjxAd4rbP2XsmsXCCG2AJF4k4MkNXsyKUhSPRJCrAH2472OcPmyCUKIb5ouKkmqPVklVZIkSfKRLQVJkiTJRyYFSZIkyUcmBUmSJMlHJgVJkiTJRyYFSZIkyUcmBUmSJMlHJgVJkiTJ5/8B+yHjL97KEqwAAAAASUVORK5CYII=\n",
=======
      "image/png": "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\n",
>>>>>>> 60016208b276b5d7579f6e35022ac5827254751a
      "text/plain": [
       "<Figure size 432x288 with 1 Axes>"
      ]
     },
     "metadata": {
      "needs_background": "light"
     },
     "output_type": "display_data"
    }
   ],
   "source": [
    "plt.plot(d, Llos, '.-', label = 'У-И. В прям. вид.')\n",
    "plt.plot(d, Lnlos_1, '-', label = 'У-И. Вне прям. вид. BS1, ср.размеров')\n",
    "plt.plot(d, Lnlos_2, '-.', label = 'У-И. Вне прям. вид. BS1, плот.застр')\n",
    "plt.plot(d, Lnlos_3, '-', label = 'У-И. Вне прям. вид. BS2, ср.размеров')\n",
    "plt.plot(d, Lnlos_4, '-.', label = 'У-И. Вне прям. вид. BS2, плот.застр')\n",
    "plt.plot(d, L, '-', label = 'К-Б. BS1')\n",
    "plt.grid()\n",
    "plt.xlabel('км')\n",
    "plt.ylabel('дБ')\n",
    "plt.legend(loc = 'center right')"
   ]
  },
  {
   "cell_type": "markdown",
   "id": "fde1b64a",
   "metadata": {},
   "source": [
    "### 4. Выводы:\n",
    "- Затухание при средней и плотной застройкой не сильно отличаються \n",
    "- Наибольшее затухание наблюдается, когда высота анатенны базовой станции меньше средней высоты зданий "
   ]
  },
  {
   "cell_type": "code",
   "execution_count": null,
   "id": "8e6a1abf",
   "metadata": {},
   "outputs": [],
   "source": []
  }
 ],
 "metadata": {
  "kernelspec": {
   "display_name": "Python 3 (ipykernel)",
   "language": "python",
   "name": "python3"
  },
  "language_info": {
   "codemirror_mode": {
    "name": "ipython",
    "version": 3
   },
   "file_extension": ".py",
   "mimetype": "text/x-python",
   "name": "python",
   "nbconvert_exporter": "python",
   "pygments_lexer": "ipython3",
   "version": "3.9.7"
  }
 },
 "nbformat": 4,
 "nbformat_minor": 5
}
