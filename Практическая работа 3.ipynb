{
 "cells": [
  {
   "cell_type": "markdown",
   "id": "854efde1",
   "metadata": {},
   "source": [
    "<h1><center>Практическая работа 3</center></h1>\n",
    "<h1><center>Расчет потерь на трассе радиоканала по моделям Уолфиша-Икегами и Кся-Бертони</center></h1>\n",
    "<h4>Выполнил Дмитриев Егор ИКТУ-88 Вариант 3</h4>"
   ]
  },
  {
   "cell_type": "markdown",
   "id": "21068c24",
   "metadata": {},
   "source": [
    "## Цель работы:\n",
    ">Ознакомится с принципами расчета потерь в радиоканале согласно моделям Уолфиша-Икегами и Кся-Бертони"
   ]
  },
  {
   "cell_type": "markdown",
   "id": "ffd83fa6",
   "metadata": {},
   "source": [
    "## 1. Выбор значений по номеру варианта\n",
    "> $ f=1000МГц; h_r=25м; h_{bs1}=32м; h_{bs2}=22м; h_{ms}=1.4м; \\phi = 40град $"
   ]
  },
  {
   "cell_type": "markdown",
   "id": "46420998",
   "metadata": {},
   "source": [
    "## 2. Расчет и построение графиков зависимости величины потерь в дБ от расстояния "
   ]
  },
  {
   "cell_type": "code",
   "execution_count": 27,
   "id": "ec97ae38",
   "metadata": {},
   "outputs": [],
   "source": [
    "import math\n",
    "import numpy as np\n",
    "import matplotlib.pyplot as plt\n",
    "import cmath\n",
    "f = 1000\n",
    "hr = 25\n",
    "hbs1 = 32\n",
    "hbs2 = 22\n",
    "hms = 1.4\n",
    "phi = 40\n",
    "w = 15\n",
    "b = 40"
   ]
  },
  {
   "cell_type": "code",
   "execution_count": 50,
   "id": "8580cbcc",
   "metadata": {},
   "outputs": [
    {
     "name": "stdout",
     "output_type": "stream",
     "text": [
      "[0.2 0.3 0.4 0.5 0.6 0.7 0.8 0.9 1.  1.1 1.2 1.3 1.4 1.5]\n"
     ]
    }
   ],
   "source": [
    "d = np.zeros(14,)\n",
    "k = 0.2\n",
    "for i in range(14):\n",
    "    d[i] = k\n",
    "    k += 0.1\n",
    "print(d)"
   ]
  },
  {
   "cell_type": "markdown",
   "id": "33b913d9",
   "metadata": {},
   "source": [
    "### 2.a  Модель Уолфиша-Икегами. В зоне прямой видимости"
   ]
  },
  {
   "cell_type": "code",
   "execution_count": 51,
   "id": "d86eebfe",
   "metadata": {},
   "outputs": [
    {
     "name": "stdout",
     "output_type": "stream",
     "text": [
      "84.4267798872635 [дБ]\n",
      "89.00515262271122 [дБ]\n",
      "92.25355977452702 [дБ]\n",
      "94.77322011273648 [дБ]\n",
      "96.83193250997473 [дБ]\n",
      "98.57254904037069 [дБ]\n",
      "100.08033966179053 [дБ]\n",
      "101.41030524542245 [дБ]\n",
      "102.6 [дБ]\n",
      "103.67620981411386 [дБ]\n",
      "104.65871239723825 [дБ]\n",
      "105.56252715997775 [дБ]\n",
      "106.3993289276342 [дБ]\n",
      "107.17837273544771 [дБ]\n"
     ]
    }
   ],
   "source": [
    "Llos = np.zeros(14,)\n",
    "for i in range(14):\n",
    "    Llos[i] = 42.6 + 26*math.log10(d[i]) + 20*math.log10(f)\n",
    "    print(Llos[i], '[дБ]')"
   ]
  },
  {
   "cell_type": "markdown",
   "id": "08e1b712",
   "metadata": {},
   "source": [
    "### 2.б  Модель Уолфиша-Икегами. Вне зоны прямой видимости. Высота BS $h_{bs1}$. Город средних размеров"
   ]
  },
  {
   "cell_type": "markdown",
   "id": "68b7fa28",
   "metadata": {},
   "source": [
    "$ \\Delta h_{ms} = h_r - h_{ms}$ \\\n",
    "$ L_{ori} = 2,5+0,075(\\phi - 35),$ при $35 \\le \\phi < 55 $"
   ]
  },
  {
   "cell_type": "code",
   "execution_count": 52,
   "id": "6fe17cbb",
   "metadata": {},
   "outputs": [],
   "source": [
    "dhms = hr - hms\n",
    "Lori = 2.5 + 0.075*(phi - 35)\n",
    "Lrts = -16.9 - 10*math.log10(w) + 10*math.log10(f) + 20*math.log10(dhms) + Lori"
   ]
  },
  {
   "cell_type": "markdown",
   "id": "82d51116",
   "metadata": {},
   "source": [
    "$ \\Delta h_{bs} = h_{bs} - h_r $ \\\n",
    "\\\n",
    "$ L_{bsh} = -18lg(1 + \\Delta h_{bs}), $ при $ h_{bs} > h_r $ \\\n",
    "\\\n",
    "$ k_a = 54, $  при $ h_{bs} > h_r $ \\\n",
    "\\\n",
    "$ k_d = 18, $  при $ h_{bs} \\ge h_r $ \\\n",
    "\\\n",
    "$ k_f = -4+0,7*(\\frac{f}{925} - 1),$  для города средних размеров \\\n",
    "\\\n",
    "$ L_{msd}[дБ] = L_{bsh} + k_a + k_d \\cdot \\lg(d_{[км]} + k_f \\cdot \\lg(f_{[МГц]}) - 9 \\cdot \\lg(b_{[м]})$ \\\n",
    "\\\n",
    "$ L_{msd}[дБ] = -18lg(1 + \\Delta h_{bs}) + 54 + 18 \\cdot \\lg(d_{[км]}) + (-4+0,7\\cdot(\\frac{f}{925} - 1)) \\cdot \\lg(f_{[МГц]}) - 9 \\cdot \\lg(b_{[м]})$\\\n",
    "\\\n",
    "$ L_{NLOS}[дБ] = L_0 + L_{rts} + L_{msd} $"
   ]
  },
  {
   "cell_type": "code",
   "execution_count": 53,
   "id": "a8cac68b",
   "metadata": {},
   "outputs": [
    {
     "name": "stdout",
     "output_type": "stream",
     "text": [
      "Lmsd + Lrts =  30.586977973260602 > 0    ===>   Lnlos_1 =  109.04757788654021 [дБ]\n",
      "Lmsd + Lrts =  33.756620636262866 > 0    ===>   Lnlos_1 =  115.73904573065612 [дБ]\n",
      "Lmsd + Lrts =  36.005517895212265 > 0    ===>   Lnlos_1 =  120.48671772177151 [дБ]\n",
      "Lmsd + Lrts =  37.74989812935728 > 0    ===>   Lnlos_1 =  124.16929821607765 [дБ]\n",
      "Lmsd + Lrts =  39.17516055821452 > 0    ===>   Lnlos_1 =  127.17818556588739 [дБ]\n",
      "Lmsd + Lrts =  40.380202771565564 > 0    ===>   Lnlos_1 =  129.7221635718507 [дБ]\n",
      "Lmsd + Lrts =  41.42405781716392 > 0    ===>   Lnlos_1 =  131.9258575570028 [дБ]\n",
      "Lmsd + Lrts =  42.344803221216786 > 0    ===>   Lnlos_1 =  133.86965341000328 [дБ]\n",
      "Lmsd + Lrts =  43.16843805130894 > 0    ===>   Lnlos_1 =  135.60843805130892 [дБ]\n",
      "Lmsd + Lrts =  43.91350638415699 > 0    ===>   Lnlos_1 =  137.18136008732148 [дБ]\n",
      "Lmsd + Lrts =  44.593700480166184 > 0    ===>   Lnlos_1 =  138.61732540111868 [дБ]\n",
      "Lmsd + Lrts =  45.219418392832004 > 0    ===>   Lnlos_1 =  139.93828543896876 [дБ]\n",
      "Lmsd + Lrts =  45.79874269351723 > 0    ===>   Lnlos_1 =  141.161303407082 [дБ]\n",
      "Lmsd + Lrts =  46.338080714311204 > 0    ===>   Lnlos_1 =  142.2999058954248 [дБ]\n"
     ]
    }
   ],
   "source": [
    "dhbs = hbs1 - hr\n",
    "Lnlos_1 = np.zeros(14,)\n",
    "for i in range(14):\n",
    "    Lmsd = (-18*math.log10(1 + dhbs) \n",
    "            + 54 + 18*math.log10(d[i]) \n",
    "            + (-4 + 0.7*(f/925 - 1))*math.log10(f)\n",
    "            - 9*math.log10(b)\n",
    "           )\n",
    "    Lnlos_1[i] = 32.44 + 20*math.log10(d[i]) + 20*math.log10(f) + Lrts + Lmsd\n",
    "    print('Lmsd + Lrts = ', Lmsd+Lrts, '> 0  ', ' ===>   Lnlos_1 = ', Lnlos_1[i], '[дБ]' )"
   ]
  },
  {
   "cell_type": "markdown",
   "id": "229921f3",
   "metadata": {},
   "source": [
    "### 2.в  Модель Уолфиша-Икегами. Вне зоны прямой видимости. Высота BS $h_{bs1}$. Город с плотной застройкой"
   ]
  },
  {
   "cell_type": "markdown",
   "id": "9ac4b3a6",
   "metadata": {},
   "source": [
    "$ \\Delta h_{ms} = h_r - h_{ms}$ \\\n",
    "$ L_{ori} = 2,5+0,075(\\phi - 35),$ при $35 \\le \\phi < 55 $"
   ]
  },
  {
   "cell_type": "code",
   "execution_count": 54,
   "id": "9240d8e2",
   "metadata": {},
   "outputs": [],
   "source": [
    "dhms = hr - hms\n",
    "Lori = 2.5 + 0.075*(phi - 35)\n",
    "Lrts = -16.9 - 10*math.log10(w) + 10*math.log10(f) + 20*math.log10(dhms) + Lori"
   ]
  },
  {
   "cell_type": "markdown",
   "id": "82414d42",
   "metadata": {},
   "source": [
    "$ \\Delta h_{bs} = h_{bs} - h_r $ \\\n",
    "\\\n",
    "$ L_{bsh} = -18lg(1 + \\Delta h_{bs}), $ при $ h_{bs} > h_r $ \\\n",
    "\\\n",
    "$ k_a = 54, $  при $ h_{bs} > h_r $ \\\n",
    "\\\n",
    "$ k_d = 18, $  при $ h_{bs} \\ge h_r $ \\\n",
    "\\\n",
    "$ k_f = -4+1,5*(\\frac{f}{925} - 1),$  для города с плотной застройкой \\\n",
    "\\\n",
    "$ L_{msd}[дБ] = L_{bsh} + k_a + k_d \\cdot \\lg(d_{[км]} + k_f \\cdot \\lg(f_{[МГц]}) - 9 \\cdot \\lg(b_{[м]})$ \\\n",
    "\\\n",
    "$ L_{msd}[дБ] = -18lg(1 + \\Delta h_{bs}) + 54 + 18 \\cdot \\lg(d_{[км]}) + (-4+1,5\\cdot(\\frac{f}{925} - 1)) \\cdot \\lg(f_{[МГц]}) - 9 \\cdot \\lg(b_{[м]})$\\\n",
    "\\\n",
    "$ L_{NLOS}[дБ] = L_0 + L_{rts} + L_{msd} $"
   ]
  },
  {
   "cell_type": "code",
   "execution_count": 55,
   "id": "a6406177",
   "metadata": {},
   "outputs": [
    {
     "name": "stdout",
     "output_type": "stream",
     "text": [
      "Lmsd + Lrts =  30.7815725678552 > 0    ===>   Lnlos_2 =  109.24217248113482 [дБ]\n",
      "Lmsd + Lrts =  33.951215230857464 > 0    ===>   Lnlos_2 =  115.9336403252507 [дБ]\n",
      "Lmsd + Lrts =  36.20011248980686 > 0    ===>   Lnlos_2 =  120.6813123163661 [дБ]\n",
      "Lmsd + Lrts =  37.944492723951875 > 0    ===>   Lnlos_2 =  124.36389281067224 [дБ]\n",
      "Lmsd + Lrts =  39.36975515280912 > 0    ===>   Lnlos_2 =  127.37278016048198 [дБ]\n",
      "Lmsd + Lrts =  40.57479736616016 > 0    ===>   Lnlos_2 =  129.91675816644528 [дБ]\n",
      "Lmsd + Lrts =  41.61865241175852 > 0    ===>   Lnlos_2 =  132.1204521515974 [дБ]\n",
      "Lmsd + Lrts =  42.539397815811384 > 0    ===>   Lnlos_2 =  134.06424800459789 [дБ]\n",
      "Lmsd + Lrts =  43.36303264590354 > 0    ===>   Lnlos_2 =  135.80303264590353 [дБ]\n",
      "Lmsd + Lrts =  44.10810097875159 > 0    ===>   Lnlos_2 =  137.37595468191606 [дБ]\n",
      "Lmsd + Lrts =  44.78829507476078 > 0    ===>   Lnlos_2 =  138.81191999571328 [дБ]\n",
      "Lmsd + Lrts =  45.4140129874266 > 0    ===>   Lnlos_2 =  140.13288003356334 [дБ]\n",
      "Lmsd + Lrts =  45.993337288111825 > 0    ===>   Lnlos_2 =  141.35589800167656 [дБ]\n",
      "Lmsd + Lrts =  46.5326753089058 > 0    ===>   Lnlos_2 =  142.49450049001942 [дБ]\n"
     ]
    }
   ],
   "source": [
    "dhbs = hbs1 - hr\n",
    "Lnlos_2 = np.zeros(14,)\n",
    "for i in range(14):\n",
    "    Lmsd = (-18*math.log10(1 + dhbs) \n",
    "            + 54 + 18*math.log10(d[i]) \n",
    "            + (-4 + 1.5*(f/925 - 1))*math.log10(f)\n",
    "            - 9*math.log10(b))\n",
    "    Lnlos_2[i] = 32.44 + 20*math.log10(d[i]) + 20*math.log10(f) + Lrts + Lmsd\n",
    "    print('Lmsd + Lrts = ', Lmsd+Lrts, '> 0  ', ' ===>   Lnlos_2 = ', Lnlos_2[i], '[дБ]' )"
   ]
  },
  {
   "cell_type": "markdown",
   "id": "bb3a052e",
   "metadata": {},
   "source": [
    "### 2.г  Модель Уолфиша-Икегами. Вне зоны прямой видимости. Высота BS $h_{bs2}$. Город средних размеров"
   ]
  },
  {
   "cell_type": "markdown",
   "id": "8e83f5fa",
   "metadata": {},
   "source": [
    "$ \\Delta h_{bs} = h_{bs} - h_r $ \\\n",
    "\\\n",
    "$ L_{bsh} = 0, $ при $ h_{bs} \\le h_r $ \\\n",
    "\\\n",
    "$\n",
    "\\  k_a = \\left\\{\n",
    "\\begin{array}{ll}\n",
    "    54 - 0,8\\Delta h_{bs} & \\textrm{при } d \\ge 0,5 \\textrm{км и } h_{bs} \\le h_r \\textrm{,}\\\\\n",
    "    54 - 1,6\\Delta h_{bs} \\cdot d & \\textrm{при } d < 0,5 \\textrm{км и } h_{bs} \\le h_r \\textrm{,}\n",
    "\\end{array} \\right. \\ \n",
    "$\\\n",
    "\\\n",
    "$ k_d = 18 - 15 \\cdot \\frac{\\Delta h_{bs}}{h_r}, $  при $ h_{bs} < h_r $ \\\n",
    "\\\n",
    "$ k_f = -4+0,7*(\\frac{f}{925} - 1),$  для города средних размеров \\\n",
    "\\\n",
    "$ L_{msd}[дБ] = L_{bsh} + k_a + k_d \\cdot \\lg(d_{[км]} + k_f \\cdot \\lg(f_{[МГц]}) - 9 \\cdot \\lg(b_{[м]})$ \\\n",
    "\\\n",
    "$ L_{NLOS}[дБ] = L_0 + L_{rts} + L_{msd} $"
   ]
  },
  {
   "cell_type": "code",
   "execution_count": 70,
   "id": "6469596b",
   "metadata": {},
   "outputs": [
    {
     "name": "stdout",
     "output_type": "stream",
     "text": [
      "Lmsd + Lrts =  47.984451731310756 > 0    ===>   Lnlos_3 =  126.44505164459036 [дБ]\n",
      "Lmsd + Lrts =  51.471058660613245 > 0    ===>   Lnlos_3 =  133.4534837550065 [дБ]\n",
      "Lmsd + Lrts =  53.94484564545758 > 0    ===>   Lnlos_3 =  138.42604547201682 [дБ]\n",
      "Lmsd + Lrts =  55.8636639030171 > 0    ===>   Lnlos_3 =  142.28306398973746 [дБ]\n",
      "Lmsd + Lrts =  57.91145257476008 > 0    ===>   Lnlos_3 =  145.91447758243294 [дБ]\n",
      "Lmsd + Lrts =  59.71699900944621 > 0    ===>   Lnlos_3 =  149.05895980973133 [дБ]\n",
      "Lmsd + Lrts =  61.345239559604416 > 0    ===>   Lnlos_3 =  151.84703929944328 [дБ]\n",
      "Lmsd + Lrts =  62.83805950406256 > 0    ===>   Lnlos_3 =  154.36290969284906 [дБ]\n",
      "Lmsd + Lrts =  64.22405781716392 > 0    ===>   Lnlos_3 =  156.66405781716392 [дБ]\n",
      "Lmsd + Lrts =  65.52363298329678 > 0    ===>   Lnlos_3 =  158.79148668646127 [дБ]\n",
      "Lmsd + Lrts =  66.75184648890689 > 0    ===>   Lnlos_3 =  160.7754714098594 [дБ]\n",
      "Lmsd + Lrts =  67.9201361928393 > 0    ===>   Lnlos_3 =  162.63900323897604 [дБ]\n",
      "Lmsd + Lrts =  69.03739292359305 > 0    ===>   Lnlos_3 =  164.3999536371578 [дБ]\n",
      "Lmsd + Lrts =  70.11066474646643 > 0    ===>   Lnlos_3 =  166.07248992758005 [дБ]\n"
     ]
    }
   ],
   "source": [
    "dhbs = hbs2 - hr\n",
    "Lnlos_3 = np.zeros(14,)\n",
    "for i in range(14):\n",
    "    if (d[i] < 0.5):\n",
    "        Lmsd = (\n",
    "            - 0 \n",
    "            + 54 - 0.8*dhbs \n",
    "            + (18 - 15*(dhbs/hr))*math.log10(d[i]) \n",
    "            + (-4 + 0.7*(f/925 - 1))*math.log10(f)\n",
    "            - 9*math.log10(b)\n",
    "        )\n",
    "    else:\n",
    "        Lmsd = (\n",
    "            - 0\n",
    "            + 54 - 1.6*dhbs*d[i] \n",
    "            + (18 - 15*(dhbs/hr))*math.log10(d[i])\n",
    "            + (-4 + 0.7*(f/925 - 1))*math.log10(f)\n",
    "            - 9*math.log10(b)\n",
    "        )\n",
    "    Lnlos_3[i] = 32.44 + 20*math.log10(d[i]) + 20*math.log10(f) + Lrts + Lmsd\n",
    "    print('Lmsd + Lrts = ', Lmsd+Lrts, '> 0  ', ' ===>   Lnlos_3 = ', Lnlos_3[i], '[дБ]' )"
   ]
  },
  {
   "cell_type": "markdown",
   "id": "bff8deb7",
   "metadata": {},
   "source": [
    "### 2.д  Модель Уолфиша-Икегами. Вне зоны прямой видимости. Высота BS $h_{bs2}$. Город с плотной застройкой"
   ]
  },
  {
   "cell_type": "markdown",
   "id": "bf57a6d4",
   "metadata": {},
   "source": [
    "$ \\Delta h_{bs} = h_{bs} - h_r $ \\\n",
    "\\\n",
    "$ L_{bsh} = 0, $ при $ h_{bs} \\le h_r $ \\\n",
    "\\\n",
    "$\n",
    "\\  k_a = \\left\\{\n",
    "\\begin{array}{ll}\n",
    "    54 - 0,8\\Delta h_{bs} & \\textrm{при } d \\ge 0,5 \\textrm{км и } h_{bs} \\le h_r \\textrm{,}\\\\\n",
    "    54 - 1,6\\Delta h_{bs} \\cdot d & \\textrm{при } d < 0,5 \\textrm{км и } h_{bs} \\le h_r \\textrm{,}\n",
    "\\end{array} \\right. \\ \n",
    "$\\\n",
    "\\\n",
    "$ k_d = 18 - 15 \\cdot \\frac{\\Delta h_{bs}}{h_r}, $  при $ h_{bs} < h_r $ \\\n",
    "\\\n",
    "$ k_f = -4+1,5*(\\frac{f}{925} - 1),$  для города с полной застройкой\\\n",
    "\\\n",
    "$ L_{msd}[дБ] = L_{bsh} + k_a + k_d \\cdot \\lg(d_{[км]} + k_f \\cdot \\lg(f_{[МГц]}) - 9 \\cdot \\lg(b_{[м]})$ \\\n",
    "\\\n",
    "$ L_{NLOS}[дБ] = L_0 + L_{rts} + L_{msd} $"
   ]
  },
  {
   "cell_type": "code",
   "execution_count": 71,
   "id": "c907f9d7",
   "metadata": {},
   "outputs": [
    {
     "name": "stdout",
     "output_type": "stream",
     "text": [
      "Lmsd + Lrts =  48.179046325905354 > 0    ===>   Lnlos_4 =  126.63964623918497 [дБ]\n",
      "Lmsd + Lrts =  51.665653255207836 > 0    ===>   Lnlos_4 =  133.64807834960106 [дБ]\n",
      "Lmsd + Lrts =  54.139440240052174 > 0    ===>   Lnlos_4 =  138.62064006661143 [дБ]\n",
      "Lmsd + Lrts =  56.058258497611696 > 0    ===>   Lnlos_4 =  142.47765858433206 [дБ]\n",
      "Lmsd + Lrts =  58.106047169354675 > 0    ===>   Lnlos_4 =  146.10907217702754 [дБ]\n",
      "Lmsd + Lrts =  59.91159360404081 > 0    ===>   Lnlos_4 =  149.25355440432594 [дБ]\n",
      "Lmsd + Lrts =  61.539834154199006 > 0    ===>   Lnlos_4 =  152.0416338940379 [дБ]\n",
      "Lmsd + Lrts =  63.032654098657154 > 0    ===>   Lnlos_4 =  154.55750428744363 [дБ]\n",
      "Lmsd + Lrts =  64.41865241175853 > 0    ===>   Lnlos_4 =  156.8586524117585 [дБ]\n",
      "Lmsd + Lrts =  65.71822757789138 > 0    ===>   Lnlos_4 =  158.98608128105587 [дБ]\n",
      "Lmsd + Lrts =  66.9464410835015 > 0    ===>   Lnlos_4 =  160.970066004454 [дБ]\n",
      "Lmsd + Lrts =  68.1147307874339 > 0    ===>   Lnlos_4 =  162.83359783357065 [дБ]\n",
      "Lmsd + Lrts =  69.23198751818762 > 0    ===>   Lnlos_4 =  164.59454823175238 [дБ]\n",
      "Lmsd + Lrts =  70.30525934106103 > 0    ===>   Lnlos_4 =  166.26708452217463 [дБ]\n"
     ]
    }
   ],
   "source": [
    "dhbs = hbs2 - hr\n",
    "Lnlos_4 = np.zeros(14,)\n",
    "for i in range(14):\n",
    "    if (d[i] < 0.5):\n",
    "        Lmsd = (\n",
    "            - 0 \n",
    "            + 54 - 0.8*dhbs \n",
    "            + (18 - 15*(dhbs/hr))*math.log10(d[i]) \n",
    "            + (-4 + 1.5*(f/925 - 1))*math.log10(f)\n",
    "            - 9*math.log10(b)\n",
    "        )\n",
    "    else:\n",
    "        Lmsd = (\n",
    "            - 0\n",
    "            + 54 - 1.6*dhbs*d[i] \n",
    "            + (18 - 15*(dhbs/hr))*math.log10(d[i])\n",
    "            + (-4 + 1.5*(f/925 - 1))*math.log10(f)\n",
    "            - 9*math.log10(b)\n",
    "        )\n",
    "    Lnlos_4[i] = 32.44 + 20*math.log10(d[i]) + 20*math.log10(f) + Lrts + Lmsd\n",
    "    print('Lmsd + Lrts = ', Lmsd+Lrts, '> 0  ', ' ===>   Lnlos_4 = ', Lnlos_4[i], '[дБ]' )"
   ]
  },
  {
   "cell_type": "markdown",
   "id": "6df20bb3",
   "metadata": {},
   "source": [
    "### 2.е  Модель Кся-Бертони.Высота BS $h_{bs1}$."
   ]
  },
  {
   "cell_type": "code",
   "execution_count": 68,
   "id": "39dc27f4",
   "metadata": {},
   "outputs": [
    {
     "name": "stdout",
     "output_type": "stream",
     "text": [
      "53.634453584886955 [дБ]\n",
      "60.32592142900284 [дБ]\n",
      "65.07359342011824 [дБ]\n",
      "68.75617391442438 [дБ]\n",
      "71.76506126423413 [дБ]\n",
      "74.30903927019743 [дБ]\n",
      "76.51273325534953 [дБ]\n",
      "78.45652910835001 [дБ]\n",
      "80.19531374965567 [дБ]\n",
      "81.76823578566822 [дБ]\n",
      "83.20420109946542 [дБ]\n",
      "84.52516113731548 [дБ]\n",
      "85.74817910542873 [дБ]\n",
      "86.88678159377156 [дБ]\n"
     ]
    }
   ],
   "source": [
    "d1 = np.zeros(14,)\n",
    "k = 200\n",
    "for i in range(14):\n",
    "    d1[i] = k\n",
    "    k += 100\n",
    "la = 3*10**8/(f*10)\n",
    "dhbs = hbs1 - hr\n",
    "dhms = hr - hms\n",
    "x = w/2\n",
    "r = math.sqrt(dhms**2 + x**2)\n",
    "o = math.atan(dhms/x)\n",
    "L = np.zeros(14,)\n",
    "for i in range(14):\n",
    "    L[i] = (\n",
    "    - 10*math.log10((la/(4*math.pi*d1[i])**2))\n",
    "    - 10*math.log10(la/(2*math.pi**2*r)*(1/o - 1/(2*math.pi + o))**2)\n",
    "    - 10*math.log10( (2.35**2) * ((dhbs/d1[i]) * math.sqrt(b/la))**1.8 )\n",
    "    )\n",
    "    print(L[i], '[дБ]')"
   ]
  },
  {
   "cell_type": "markdown",
   "id": "7206e833",
   "metadata": {},
   "source": [
    "### 3. График"
   ]
  },
  {
   "cell_type": "code",
   "execution_count": 72,
   "id": "2813d2ab",
   "metadata": {},
   "outputs": [
    {
     "data": {
      "text/plain": [
       "<matplotlib.legend.Legend at 0x7fbb37b94610>"
      ]
     },
     "execution_count": 72,
     "metadata": {},
     "output_type": "execute_result"
    },
    {
     "data": {
      "image/png": "[encoded data removed]",
      "text/plain": [
       "<Figure size 432x288 with 1 Axes>"
      ]
     },
     "metadata": {
      "needs_background": "light"
     },
     "output_type": "display_data"
    }
   ],
   "source": [
    "plt.plot(d, Llos, '.-', label = 'У-И. В прям. вид.')\n",
    "plt.plot(d, Lnlos_1, '-', label = 'У-И. Вне прям. вид. BS1, ср.размеров')\n",
    "plt.plot(d, Lnlos_2, '-.', label = 'У-И. Вне прям. вид. BS1, плот.застр')\n",
    "plt.plot(d, Lnlos_3, '-', label = 'У-И. Вне прям. вид. BS2, ср.размеров')\n",
    "plt.plot(d, Lnlos_4, '-.', label = 'У-И. Вне прям. вид. BS2, плот.застр')\n",
    "plt.plot(d, L, '-', label = 'К-Б. BS1')\n",
    "plt.grid()\n",
    "plt.xlabel('км')\n",
    "plt.ylabel('дБ')\n",
    "plt.legend(loc = 'center right')"
   ]
  },
  {
   "cell_type": "markdown",
   "id": "fde1b64a",
   "metadata": {},
   "source": [
    "### 4. Выводы:\n",
    "- Затухание при средней и плотной застройкой не сильно отличаються \n",
    "- Наибольшее затухание наблюдается, когда высота анатенны базовой станции меньше средней высоты зданий "
   ]
  },
  {
   "cell_type": "code",
   "execution_count": null,
   "id": "8e6a1abf",
   "metadata": {},
   "outputs": [],
   "source": []
  }
 ],
 "metadata": {
  "kernelspec": {
   "display_name": "Python 3 (ipykernel)",
   "language": "python",
   "name": "python3"
  },
  "language_info": {
   "codemirror_mode": {
    "name": "ipython",
    "version": 3
   },
   "file_extension": ".py",
   "mimetype": "text/x-python",
   "name": "python",
   "nbconvert_exporter": "python",
   "pygments_lexer": "ipython3",
   "version": "3.9.7"
  }
 },
 "nbformat": 4,
 "nbformat_minor": 5
}
