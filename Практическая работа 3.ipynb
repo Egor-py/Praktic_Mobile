{
 "cells": [
  {
   "cell_type": "markdown",
   "id": "854efde1",
   "metadata": {},
   "source": [
    "<h1><center>Практическая работа 3</center></h1>\n",
    "<h1><center>Расчет потерь на трассе радиоканала по моделям Уолфиша-Икегами и Кся-Бертони</center></h1>\n",
    "<h4>Выполнил Дмитриев Егор ИКТУ-88 Вариант 3</h4>"
   ]
  },
  {
   "cell_type": "markdown",
   "id": "21068c24",
   "metadata": {},
   "source": [
    "## Цель работы:\n",
    ">Ознакомится с принципами расчета потерь в радиоканале согласно моделям Уолфиша-Икегами и Кся-Бертони"
   ]
  },
  {
   "cell_type": "markdown",
   "id": "ffd83fa6",
   "metadata": {},
   "source": [
    "## 1. Выбор значений по номеру варианта\n",
    "> $ f=1000МГц; h_r=25м; h_{bs1}=32м; h_{bs2}=22м; h_{ms}=1.4м; \\phi = 40град $"
   ]
  },
  {
   "cell_type": "markdown",
   "id": "46420998",
   "metadata": {},
   "source": [
    "## 2. Расчет и построение графиков зависимости величины потерь в дБ от расстояния "
   ]
  },
  {
   "cell_type": "code",
   "execution_count": 66,
   "id": "ec97ae38",
   "metadata": {},
   "outputs": [],
   "source": [
    "import math\n",
    "import numpy as np\n",
    "import matplotlib.pyplot as plt\n",
    "import cmath\n",
    "f = 1000\n",
    "hr = 25\n",
    "hbs1 = 32\n",
    "hbs2 = 22\n",
    "hms = 1.4\n",
    "phi = 40\n",
    "w = 15\n",
    "b = 40"
   ]
  },
  {
   "cell_type": "code",
   "execution_count": 18,
   "id": "8580cbcc",
   "metadata": {},
   "outputs": [
    {
     "name": "stdout",
     "output_type": "stream",
     "text": [
      "[0.2 0.3 0.4 0.5 0.6 0.7 0.8 0.9 1.  1.1 1.2 1.3 1.4 1.5]\n"
     ]
    }
   ],
   "source": [
    "d = np.zeros(14,)\n",
    "k = 0.2\n",
    "for i in range(14):\n",
    "    d[i] = k\n",
    "    k += 0.1\n",
    "print(d)"
   ]
  },
  {
   "cell_type": "markdown",
   "id": "33b913d9",
   "metadata": {},
   "source": [
    "### 2.a  Модель Уолфиша-Икегами. В зоне прямой видимости"
   ]
  },
  {
   "cell_type": "code",
   "execution_count": 93,
   "id": "d86eebfe",
   "metadata": {},
   "outputs": [
    {
     "name": "stdout",
     "output_type": "stream",
     "text": [
      "84.4267798872635 [дБ]\n",
      "89.00515262271122 [дБ]\n",
      "92.25355977452702 [дБ]\n",
      "94.77322011273648 [дБ]\n",
      "96.83193250997473 [дБ]\n",
      "98.57254904037069 [дБ]\n",
      "100.08033966179053 [дБ]\n",
      "101.41030524542245 [дБ]\n",
      "102.6 [дБ]\n",
      "103.67620981411386 [дБ]\n",
      "104.65871239723825 [дБ]\n",
      "105.56252715997775 [дБ]\n",
      "106.3993289276342 [дБ]\n",
      "107.17837273544771 [дБ]\n"
     ]
    }
   ],
   "source": [
    "Llos = np.zeros(14,)\n",
    "for i in range(14):\n",
    "    Llos[i] = 42.6 + 26*math.log10(d[i]) + 20*math.log10(f)\n",
    "    print(Llos[i], '[дБ]')"
   ]
  },
  {
   "cell_type": "markdown",
   "id": "08e1b712",
   "metadata": {},
   "source": [
    "### 2.б  Модель Уолфиша-Икегами. Вне зоны прямой видимости. Высота BS $h_{bs1}$. Город средних размеров"
   ]
  },
  {
   "cell_type": "markdown",
   "id": "68b7fa28",
   "metadata": {},
   "source": [
    "$ \\Delta h_{ms} = h_r - h_{ms}$ \\\n",
    "$ L_{ori} = 2,5+0,075(\\phi - 35),$ при $35 \\le \\phi < 55 $"
   ]
  },
  {
   "cell_type": "code",
   "execution_count": 24,
   "id": "6fe17cbb",
   "metadata": {},
   "outputs": [],
   "source": [
    "dhms = hr - hms\n",
    "Lori = 2.5 + 0.075*(phi - 35)\n",
    "Lrts = -16.9 - 10*math.log10(w) + 10*math.log10(f) + 20*math.log10(dhms) - Lori"
   ]
  },
  {
   "cell_type": "markdown",
   "id": "82d51116",
   "metadata": {},
   "source": [
    "$ \\Delta h_{bs} = h_{bs} - h_r $ \\\n",
    "\\\n",
    "$ L_{bsh} = -18lg(1 + \\Delta h_{bs}), $ при $ h_{bs} > h_r $ \\\n",
    "\\\n",
    "$ k_a = 54, $  при $ h_{bs} > h_r $ \\\n",
    "\\\n",
    "$ k_d = 18, $  при $ h_{bs} \\ge h_r $ \\\n",
    "\\\n",
    "$ k_f = -4+0,7*(\\frac{f}{925} - 1),$  для города средних размеров \\\n",
    "\\\n",
    "$ L_{msd}[дБ] = L_{bsh} + k_a + k_d \\cdot \\lg(d_{[км]} + k_f \\cdot \\lg(f_{[МГц]}) - 9 \\cdot \\lg(b_{[м]})$ \\\n",
    "\\\n",
    "$ L_{msd}[дБ] = -18lg(1 + \\Delta h_{bs}) + 54 + 18 \\cdot \\lg(d_{[км]}) + (-4+0,7\\cdot(\\frac{f}{925} - 1)) \\cdot \\lg(f_{[МГц]}) - 9 \\cdot \\lg(b_{[м]})$\\\n",
    "\\\n",
    "$ L_{NLOS}[дБ] = L_0 + L_{rts} + L_{msd} $"
   ]
  },
  {
   "cell_type": "code",
   "execution_count": 95,
   "id": "a8cac68b",
   "metadata": {},
   "outputs": [
    {
     "name": "stdout",
     "output_type": "stream",
     "text": [
      "Lmsd + Lrts =  24.836977973260602 > 0    ===>   Lnlos_1 =  103.29757788654021 [дБ]\n",
      "Lmsd + Lrts =  28.006620636262866 > 0    ===>   Lnlos_1 =  109.98904573065612 [дБ]\n",
      "Lmsd + Lrts =  30.255517895212265 > 0    ===>   Lnlos_1 =  114.73671772177151 [дБ]\n",
      "Lmsd + Lrts =  31.999898129357277 > 0    ===>   Lnlos_1 =  118.41929821607765 [дБ]\n",
      "Lmsd + Lrts =  33.42516055821452 > 0    ===>   Lnlos_1 =  121.42818556588739 [дБ]\n",
      "Lmsd + Lrts =  34.630202771565564 > 0    ===>   Lnlos_1 =  123.9721635718507 [дБ]\n",
      "Lmsd + Lrts =  35.67405781716392 > 0    ===>   Lnlos_1 =  126.17585755700279 [дБ]\n",
      "Lmsd + Lrts =  36.594803221216786 > 0    ===>   Lnlos_1 =  128.11965341000328 [дБ]\n",
      "Lmsd + Lrts =  37.41843805130894 > 0    ===>   Lnlos_1 =  129.85843805130892 [дБ]\n",
      "Lmsd + Lrts =  38.16350638415699 > 0    ===>   Lnlos_1 =  131.43136008732148 [дБ]\n",
      "Lmsd + Lrts =  38.843700480166184 > 0    ===>   Lnlos_1 =  132.86732540111868 [дБ]\n",
      "Lmsd + Lrts =  39.469418392832004 > 0    ===>   Lnlos_1 =  134.18828543896876 [дБ]\n",
      "Lmsd + Lrts =  40.04874269351723 > 0    ===>   Lnlos_1 =  135.411303407082 [дБ]\n",
      "Lmsd + Lrts =  40.588080714311204 > 0    ===>   Lnlos_1 =  136.5499058954248 [дБ]\n"
     ]
    }
   ],
   "source": [
    "dhbs = hbs1 - hr\n",
    "Lnlos_1 = np.zeros(14,)\n",
    "for i in range(14):\n",
    "    Lmsd = -18*math.log10(1 + dhbs) + 54 + 18*math.log10(d[i]) + (-4 + 0.7*(f/925 - 1))*math.log10(f) \\\n",
    "    - 9*math.log10(b)\n",
    "    Lnlos_1[i] = 32.44 + 20*math.log10(d[i]) + 20*math.log10(f) + Lrts + Lmsd\n",
    "    print('Lmsd + Lrts = ', Lmsd+Lrts, '> 0  ', ' ===>   Lnlos_1 = ', Lnlos_1[i], '[дБ]' )"
   ]
  },
  {
   "cell_type": "markdown",
   "id": "229921f3",
   "metadata": {},
   "source": [
    "### 2.в  Модель Уолфиша-Икегами. Вне зоны прямой видимости. Высота BS $h_{bs1}$. Город с плотной застройкой"
   ]
  },
  {
   "cell_type": "markdown",
   "id": "9ac4b3a6",
   "metadata": {},
   "source": [
    "$ \\Delta h_{ms} = h_r - h_{ms}$ \\\n",
    "$ L_{ori} = 2,5+0,075(\\phi - 35),$ при $35 \\le \\phi < 55 $"
   ]
  },
  {
   "cell_type": "code",
   "execution_count": 39,
   "id": "9240d8e2",
   "metadata": {},
   "outputs": [],
   "source": [
    "dhms = hr - hms\n",
    "Lori = 2.5 + 0.075*(phi - 35)\n",
    "Lrts = -16.9 - 10*math.log10(w) + 10*math.log10(f) + 20*math.log10(dhms) - Lori"
   ]
  },
  {
   "cell_type": "markdown",
   "id": "82414d42",
   "metadata": {},
   "source": [
    "$ \\Delta h_{bs} = h_{bs} - h_r $ \\\n",
    "\\\n",
    "$ L_{bsh} = -18lg(1 + \\Delta h_{bs}), $ при $ h_{bs} > h_r $ \\\n",
    "\\\n",
    "$ k_a = 54, $  при $ h_{bs} > h_r $ \\\n",
    "\\\n",
    "$ k_d = 18, $  при $ h_{bs} \\ge h_r $ \\\n",
    "\\\n",
    "$ k_f = -4+1,5*(\\frac{f}{925} - 1),$  для города с плотной застройкой \\\n",
    "\\\n",
    "$ L_{msd}[дБ] = L_{bsh} + k_a + k_d \\cdot \\lg(d_{[км]} + k_f \\cdot \\lg(f_{[МГц]}) - 9 \\cdot \\lg(b_{[м]})$ \\\n",
    "\\\n",
    "$ L_{msd}[дБ] = -18lg(1 + \\Delta h_{bs}) + 54 + 18 \\cdot \\lg(d_{[км]}) + (-4+1,5\\cdot(\\frac{f}{925} - 1)) \\cdot \\lg(f_{[МГц]}) - 9 \\cdot \\lg(b_{[м]})$\\\n",
    "\\\n",
    "$ L_{NLOS}[дБ] = L_0 + L_{rts} + L_{msd} $"
   ]
  },
  {
   "cell_type": "code",
   "execution_count": 43,
   "id": "a6406177",
   "metadata": {},
   "outputs": [
    {
     "name": "stdout",
     "output_type": "stream",
     "text": [
      "Lmsd + Lrts =  25.0315725678552 > 0    ===>   Lnlos_2 =  103.49217248113482 [дБ]\n",
      "Lmsd + Lrts =  28.201215230857464 > 0    ===>   Lnlos_2 =  110.1836403252507 [дБ]\n",
      "Lmsd + Lrts =  30.450112489806862 > 0    ===>   Lnlos_2 =  114.9313123163661 [дБ]\n",
      "Lmsd + Lrts =  32.194492723951875 > 0    ===>   Lnlos_2 =  118.61389281067224 [дБ]\n",
      "Lmsd + Lrts =  33.61975515280912 > 0    ===>   Lnlos_2 =  121.62278016048198 [дБ]\n",
      "Lmsd + Lrts =  34.82479736616016 > 0    ===>   Lnlos_2 =  124.16675816644529 [дБ]\n",
      "Lmsd + Lrts =  35.86865241175852 > 0    ===>   Lnlos_2 =  126.37045215159738 [дБ]\n",
      "Lmsd + Lrts =  36.789397815811384 > 0    ===>   Lnlos_2 =  128.31424800459789 [дБ]\n",
      "Lmsd + Lrts =  37.61303264590354 > 0    ===>   Lnlos_2 =  130.05303264590353 [дБ]\n",
      "Lmsd + Lrts =  38.35810097875159 > 0    ===>   Lnlos_2 =  131.62595468191606 [дБ]\n",
      "Lmsd + Lrts =  39.03829507476078 > 0    ===>   Lnlos_2 =  133.06191999571328 [дБ]\n",
      "Lmsd + Lrts =  39.6640129874266 > 0    ===>   Lnlos_2 =  134.38288003356334 [дБ]\n",
      "Lmsd + Lrts =  40.243337288111825 > 0    ===>   Lnlos_2 =  135.60589800167656 [дБ]\n",
      "Lmsd + Lrts =  40.7826753089058 > 0    ===>   Lnlos_2 =  136.74450049001942 [дБ]\n"
     ]
    }
   ],
   "source": [
    "dhbs = hbs1 - hr\n",
    "Lnlos_2 = np.zeros(14,)\n",
    "for i in range(14):\n",
    "    Lmsd = -18*math.log10(1 + dhbs) + 54 + 18*math.log10(d[i]) + (-4 + 1.5*(f/925 - 1))*math.log10(f) \\\n",
    "    - 9*math.log10(b)\n",
    "    Lnlos_2[i] = 32.44 + 20*math.log10(d[i]) + 20*math.log10(f) + Lrts + Lmsd\n",
    "    print('Lmsd + Lrts = ', Lmsd+Lrts, '> 0  ', ' ===>   Lnlos_2 = ', Lnlos_2[i], '[дБ]' )"
   ]
  },
  {
   "cell_type": "markdown",
   "id": "bb3a052e",
   "metadata": {},
   "source": [
    "### 2.г  Модель Уолфиша-Икегами. Вне зоны прямой видимости. Высота BS $h_{bs2}$. Город средних размеров"
   ]
  },
  {
   "cell_type": "markdown",
   "id": "8e83f5fa",
   "metadata": {},
   "source": [
    "$ \\Delta h_{bs} = h_{bs} - h_r $ \\\n",
    "\\\n",
    "$ L_{bsh} = 0, $ при $ h_{bs} \\le h_r $ \\\n",
    "\\\n",
    "$\n",
    "\\  k_a = \\left\\{\n",
    "\\begin{array}{ll}\n",
    "    54 - 0,8\\Delta h_{bs} & \\textrm{при } d \\ge 0,5 \\textrm{км и } h_{bs} \\le h_r \\textrm{,}\\\\\n",
    "    54 - 1,6\\Delta h_{bs} \\cdot d & \\textrm{при } d < 0,5 \\textrm{км и } h_{bs} \\le h_r \\textrm{,}\n",
    "\\end{array} \\right. \\ \n",
    "$\\\n",
    "\\\n",
    "$ k_d = 18 - 15 \\cdot \\frac{\\Delta h_{bs}}{h_r}, $  при $ h_{bs} < h_r $ \\\n",
    "\\\n",
    "$ k_f = -4+0,7*(\\frac{f}{925} - 1),$  для города средних размеров \\\n",
    "\\\n",
    "$ L_{msd}[дБ] = L_{bsh} + k_a + k_d \\cdot \\lg(d_{[км]} + k_f \\cdot \\lg(f_{[МГц]}) - 9 \\cdot \\lg(b_{[м]})$ \\\n",
    "\\\n",
    "$ L_{NLOS}[дБ] = L_0 + L_{rts} + L_{msd} $"
   ]
  },
  {
   "cell_type": "code",
   "execution_count": 82,
   "id": "6469596b",
   "metadata": {},
   "outputs": [
    {
     "name": "stdout",
     "output_type": "stream",
     "text": [
      "Lmsd + Lrts =  42.234451731310756 > 0    ===>   Lnlos_3 =  120.69505164459036 [дБ]\n",
      "Lmsd + Lrts =  45.721058660613245 > 0    ===>   Lnlos_3 =  127.70348375500649 [дБ]\n",
      "Lmsd + Lrts =  48.19484564545758 > 0    ===>   Lnlos_3 =  132.67604547201682 [дБ]\n",
      "Lmsd + Lrts =  64.53220382496876 > 0    ===>   Lnlos_3 =  150.95160391168912 [дБ]\n",
      "Lmsd + Lrts =  66.57999249671174 > 0    ===>   Lnlos_3 =  154.5830175043846 [дБ]\n",
      "Lmsd + Lrts =  68.38553893139787 > 0    ===>   Lnlos_3 =  157.727499731683 [дБ]\n",
      "Lmsd + Lrts =  70.01377948155607 > 0    ===>   Lnlos_3 =  160.51557922139494 [дБ]\n",
      "Lmsd + Lrts =  71.50659942601422 > 0    ===>   Lnlos_3 =  163.03144961480072 [дБ]\n",
      "Lmsd + Lrts =  72.89259773911559 > 0    ===>   Lnlos_3 =  165.33259773911558 [дБ]\n",
      "Lmsd + Lrts =  74.19217290524844 > 0    ===>   Lnlos_3 =  167.46002660841293 [дБ]\n",
      "Lmsd + Lrts =  75.42038641085855 > 0    ===>   Lnlos_3 =  169.44401133181105 [дБ]\n",
      "Lmsd + Lrts =  76.58867611479096 > 0    ===>   Lnlos_3 =  171.3075431609277 [дБ]\n",
      "Lmsd + Lrts =  77.70593284554471 > 0    ===>   Lnlos_3 =  173.06849355910947 [дБ]\n",
      "Lmsd + Lrts =  78.77920466841809 > 0    ===>   Lnlos_3 =  174.7410298495317 [дБ]\n"
     ]
    }
   ],
   "source": [
    "dhbs = hbs2 - hr\n",
    "Lnlos_3 = np.zeros(14,)\n",
    "for i in range(14):\n",
    "    if (d[i] < 0.5):\n",
    "        Lmsd = (\n",
    "            - 0 \n",
    "            + 54 - 0.8*dhbs \n",
    "            + (18 - 15*(dhbs/hr))*math.log10(d[i]) \n",
    "            + (-4 + 0.7*(f/925 - 1))*math.log10(f)\n",
    "            - 9*math.log10(b)\n",
    "        )\n",
    "    else:\n",
    "        Lmsd = (\n",
    "            - 0\n",
    "            + 54 - 1.6*dhbs*d[i] \n",
    "            + (18 - 15*(dhbs/hr))*math.log10(d[i])\n",
    "            + (-4 + 0.7*(f/925 - 1))*math.log10(f)\n",
    "        )\n",
    "    Lnlos_3[i] = 32.44 + 20*math.log10(d[i]) + 20*math.log10(f) + Lrts + Lmsd\n",
    "    print('Lmsd + Lrts = ', Lmsd+Lrts, '> 0  ', ' ===>   Lnlos_3 = ', Lnlos_3[i], '[дБ]' )"
   ]
  },
  {
   "cell_type": "markdown",
   "id": "bff8deb7",
   "metadata": {},
   "source": [
    "### 2.д  Модель Уолфиша-Икегами. Вне зоны прямой видимости. Высота BS $h_{bs2}$. Город с плотной застройкой"
   ]
  },
  {
   "cell_type": "markdown",
   "id": "bf57a6d4",
   "metadata": {},
   "source": [
    "$ \\Delta h_{bs} = h_{bs} - h_r $ \\\n",
    "\\\n",
    "$ L_{bsh} = 0, $ при $ h_{bs} \\le h_r $ \\\n",
    "\\\n",
    "$\n",
    "\\  k_a = \\left\\{\n",
    "\\begin{array}{ll}\n",
    "    54 - 0,8\\Delta h_{bs} & \\textrm{при } d \\ge 0,5 \\textrm{км и } h_{bs} \\le h_r \\textrm{,}\\\\\n",
    "    54 - 1,6\\Delta h_{bs} \\cdot d & \\textrm{при } d < 0,5 \\textrm{км и } h_{bs} \\le h_r \\textrm{,}\n",
    "\\end{array} \\right. \\ \n",
    "$\\\n",
    "\\\n",
    "$ k_d = 18 - 15 \\cdot \\frac{\\Delta h_{bs}}{h_r}, $  при $ h_{bs} < h_r $ \\\n",
    "\\\n",
    "$ k_f = -4+1,5*(\\frac{f}{925} - 1),$  для города с полной застройкой\\\n",
    "\\\n",
    "$ L_{msd}[дБ] = L_{bsh} + k_a + k_d \\cdot \\lg(d_{[км]} + k_f \\cdot \\lg(f_{[МГц]}) - 9 \\cdot \\lg(b_{[м]})$ \\\n",
    "\\\n",
    "$ L_{NLOS}[дБ] = L_0 + L_{rts} + L_{msd} $"
   ]
  },
  {
   "cell_type": "code",
   "execution_count": 84,
   "id": "c907f9d7",
   "metadata": {},
   "outputs": [
    {
     "name": "stdout",
     "output_type": "stream",
     "text": [
      "Lmsd + Lrts =  42.429046325905354 > 0    ===>   Lnlos_4 =  120.88964623918497 [дБ]\n",
      "Lmsd + Lrts =  45.915653255207836 > 0    ===>   Lnlos_4 =  127.89807834960108 [дБ]\n",
      "Lmsd + Lrts =  48.389440240052174 > 0    ===>   Lnlos_4 =  132.87064006661143 [дБ]\n",
      "Lmsd + Lrts =  64.72679841956335 > 0    ===>   Lnlos_4 =  151.14619850628372 [дБ]\n",
      "Lmsd + Lrts =  66.77458709130633 > 0    ===>   Lnlos_4 =  154.7776120989792 [дБ]\n",
      "Lmsd + Lrts =  68.58013352599247 > 0    ===>   Lnlos_4 =  157.9220943262776 [дБ]\n",
      "Lmsd + Lrts =  70.20837407615068 > 0    ===>   Lnlos_4 =  160.71017381598955 [дБ]\n",
      "Lmsd + Lrts =  71.70119402060882 > 0    ===>   Lnlos_4 =  163.2260442093953 [дБ]\n",
      "Lmsd + Lrts =  73.08719233371019 > 0    ===>   Lnlos_4 =  165.52719233371016 [дБ]\n",
      "Lmsd + Lrts =  74.38676749984305 > 0    ===>   Lnlos_4 =  167.65462120300754 [дБ]\n",
      "Lmsd + Lrts =  75.61498100545316 > 0    ===>   Lnlos_4 =  169.63860592640566 [дБ]\n",
      "Lmsd + Lrts =  76.78327070938556 > 0    ===>   Lnlos_4 =  171.5021377555223 [дБ]\n",
      "Lmsd + Lrts =  77.90052744013929 > 0    ===>   Lnlos_4 =  173.26308815370405 [дБ]\n",
      "Lmsd + Lrts =  78.9737992630127 > 0    ===>   Lnlos_4 =  174.9356244441263 [дБ]\n"
     ]
    }
   ],
   "source": [
    "dhbs = hbs2 - hr\n",
    "Lnlos_4 = np.zeros(14,)\n",
    "for i in range(14):\n",
    "    if (d[i] < 0.5):\n",
    "        Lmsd = (\n",
    "            - 0 \n",
    "            + 54 - 0.8*dhbs \n",
    "            + (18 - 15*(dhbs/hr))*math.log10(d[i]) \n",
    "            + (-4 + 1.5*(f/925 - 1))*math.log10(f)\n",
    "            - 9*math.log10(b)\n",
    "        )\n",
    "    else:\n",
    "        Lmsd = (\n",
    "            - 0\n",
    "            + 54 - 1.6*dhbs*d[i] \n",
    "            + (18 - 15*(dhbs/hr))*math.log10(d[i])\n",
    "            + (-4 + 1.5*(f/925 - 1))*math.log10(f)\n",
    "        )\n",
    "    Lnlos_4[i] = 32.44 + 20*math.log10(d[i]) + 20*math.log10(f) + Lrts + Lmsd\n",
    "    print('Lmsd + Lrts = ', Lmsd+Lrts, '> 0  ', ' ===>   Lnlos_4 = ', Lnlos_4[i], '[дБ]' )"
   ]
  },
  {
   "cell_type": "markdown",
   "id": "6df20bb3",
   "metadata": {},
   "source": [
    "### 2.е  Модель Кся-Бертони.Высота BS $h_{bs1}$."
   ]
  },
  {
   "cell_type": "code",
   "execution_count": 142,
   "id": "39dc27f4",
   "metadata": {},
   "outputs": [
    {
     "name": "stdout",
     "output_type": "stream",
     "text": [
      "-5.3655464151130445 [дБ]\n",
      "1.3259214290028467 [дБ]\n",
      "6.073593420118243 [дБ]\n",
      "9.756173914424387 [дБ]\n",
      "12.765061264234127 [дБ]\n",
      "15.309039270197424 [дБ]\n",
      "17.512733255349524 [дБ]\n",
      "19.45652910835001 [дБ]\n",
      "21.195313749655668 [дБ]\n",
      "22.768235785668224 [дБ]\n",
      "24.204201099465408 [дБ]\n",
      "25.52516113731548 [дБ]\n",
      "26.74817910542871 [дБ]\n",
      "27.886781593771552 [дБ]\n"
     ]
    }
   ],
   "source": [
    "la = 3*10**8/(f*10**6)\n",
    "dhbs = hbs1 - hr\n",
    "dhms = hr - hms\n",
    "x = w/2\n",
    "r = math.sqrt(dhms**2 + x**2)\n",
    "o = math.atan(dhms/x)\n",
    "L = np.zeros(14,)\n",
    "for i in range(14):\n",
    "    L[i] = (\n",
    "    - 10*math.log10((la/(4*math.pi*d[i])**2))\n",
    "    - 10*math.log10(la/(2*math.pi**2*r)*(1/o - 1/(2*math.pi + o))**2)\n",
    "    - 10*math.log10( (2.35**2) * ((dhbs/d[i]) * math.sqrt(b/la))**1.8 )\n",
    "    )\n",
    "    print(L[i], '[дБ]')"
   ]
  },
  {
   "cell_type": "markdown",
   "id": "7206e833",
   "metadata": {},
   "source": [
    "### 3. График"
   ]
  },
  {
   "cell_type": "code",
   "execution_count": 143,
   "id": "2813d2ab",
   "metadata": {},
   "outputs": [
    {
     "data": {
      "text/plain": [
       "<matplotlib.legend.Legend at 0x7f92da124220>"
      ]
     },
     "execution_count": 143,
     "metadata": {},
     "output_type": "execute_result"
    },
    {
     "data": {
      "image/png": "[encoded data removed]",
      "text/plain": [
       "<Figure size 432x288 with 1 Axes>"
      ]
     },
     "metadata": {
      "needs_background": "light"
     },
     "output_type": "display_data"
    }
   ],
   "source": [
    "plt.plot(d, Llos, '.-', label = 'У-И. В прям. вид.')\n",
    "plt.plot(d, Lnlos_1, '-', label = 'У-И. Вне прям. вид. BS1, ср.размеров')\n",
    "plt.plot(d, Lnlos_2, '-.', label = 'У-И. Вне прям. вид. BS1, плот.застр')\n",
    "plt.plot(d, Lnlos_3, '-', label = 'У-И. Вне прям. вид. BS2, ср.размеров')\n",
    "plt.plot(d, Lnlos_4, '-.', label = 'У-И. Вне прям. вид. BS2, плот.застр')\n",
    "plt.plot(d, L, '-', label = 'К-Б. BS1')\n",
    "plt.grid()\n",
    "plt.xlabel('км')\n",
    "plt.ylabel('дБ')\n",
    "plt.legend(loc = 'center right')"
   ]
  },
  {
   "cell_type": "markdown",
   "id": "fde1b64a",
   "metadata": {},
   "source": [
    "### 4. Выводы:\n",
    "- Затухание при средней и плотной застройкой не сильно отличаються \n",
    "- Наибольшее затухание наблюдается, когда высота анатенны базовой станции меньше средней высоты зданий \n",
    "- Затухание резко увеличивается при удалении мобильной станции от базовой на расстояние более 500м"
   ]
  },
  {
   "cell_type": "code",
   "execution_count": null,
   "id": "71a01902",
   "metadata": {},
   "outputs": [],
   "source": []
  }
 ],
 "metadata": {
  "kernelspec": {
   "display_name": "Python 3 (ipykernel)",
   "language": "python",
   "name": "python3"
  },
  "language_info": {
   "codemirror_mode": {
    "name": "ipython",
    "version": 3
   },
   "file_extension": ".py",
   "mimetype": "text/x-python",
   "name": "python",
   "nbconvert_exporter": "python",
   "pygments_lexer": "ipython3",
   "version": "3.9.7"
  }
 },
 "nbformat": 4,
 "nbformat_minor": 5
}
