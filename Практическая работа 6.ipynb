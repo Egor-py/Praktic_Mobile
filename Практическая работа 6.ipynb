{
 "cells": [
  {
   "cell_type": "markdown",
   "id": "96787510",
   "metadata": {},
   "source": [
    "<h1><center>Практическая работа 6</center></h1>\n",
    "<h1><center>Оценка потерь на трассе радиоканала в случает дифракции на цилиндре</center></h1>\n",
    "<h4>Выполнил Дмитриев Егор ИКТУ-88 Вариант 3</h4>"
   ]
  },
  {
   "cell_type": "markdown",
   "id": "c8b9e93c",
   "metadata": {},
   "source": [
    "### Цель работы: \n",
    ">Целью данной работы является ознакомление с механизмом дифракции радиосигала на цилиндре, в также принципами оценки величины потерь, вызываемых данным типом дифракции"
   ]
  },
  {
   "cell_type": "markdown",
   "id": "a45a648f",
   "metadata": {},
   "source": [
    "### 1. Выбор значений по номеру варианта \n",
    "$ f = 1000 МГц; h_T = 58 м; h_R = 35м; a = 5км; b = 5км; H' = 62м; D_S = 21м $"
   ]
  },
  {
   "cell_type": "code",
   "execution_count": 68,
   "id": "109b6454",
   "metadata": {},
   "outputs": [],
   "source": [
    "import numpy as np\n",
    "import matplotlib.pyplot as plt\n",
    "import math\n",
    "\n",
    "f = 1000\n",
    "hT = 58\n",
    "hR = 35\n",
    "H_ne = 62\n",
    "Ds = 21"
   ]
  },
  {
   "cell_type": "code",
   "execution_count": 69,
   "id": "62ebe5e3",
   "metadata": {},
   "outputs": [],
   "source": [
    "b = 5000\n",
    "k = 1000\n",
    "a = np.zeros(10,)\n",
    "for i in range(10,):\n",
    "    a[i] = k\n",
    "    k += 1000"
   ]
  },
  {
   "cell_type": "code",
   "execution_count": 70,
   "id": "66b28472",
   "metadata": {},
   "outputs": [
    {
     "name": "stdout",
     "output_type": "stream",
     "text": [
      "Llos =  122.83193250997473 дБ\n",
      "Llos =  124.57254904037067 дБ\n",
      "Llos =  126.08033966179053 дБ\n",
      "Llos =  127.41030524542245 дБ\n",
      "Llos =  128.6 дБ\n",
      "Llos =  129.67620981411386 дБ\n",
      "Llos =  130.65871239723825 дБ\n",
      "Llos =  131.56252715997775 дБ\n",
      "Llos =  132.3993289276342 дБ\n",
      "Llos =  133.1783727354477 дБ\n"
     ]
    }
   ],
   "source": [
    "Llos = np.zeros(10,)\n",
    "for i in range(10):\n",
    "    Llos[i] = 42.6 + 26*math.log10((a[i]*10**-3)+(b*10**-3)) + 20*math.log10(f)\n",
    "    print('Llos = ',Llos[i], 'дБ')"
   ]
  },
  {
   "cell_type": "code",
   "execution_count": 71,
   "id": "e2a23e2a",
   "metadata": {},
   "outputs": [
    {
     "name": "stdout",
     "output_type": "stream",
     "text": [
      "Ldif_1 =  22.666661691167157 дБ\n",
      "Ldif_1_65 =  18.947396067794486 дБ\n",
      "Ldif_1 =  25.033690963792004 дБ\n",
      "Ldif_1_65 =  20.576443260998353 дБ\n",
      "Ldif_1 =  26.440424129845937 дБ\n",
      "Ldif_1_65 =  21.59890409274702 дБ\n",
      "Ldif_1 =  27.140526853082058 дБ\n",
      "Ldif_1_65 =  22.147519307809706 дБ\n",
      "Ldif_1 =  27.39763711491195 дБ\n",
      "Ldif_1_65 =  22.39436269619939 дБ\n",
      "Ldif_1 =  27.39899102622259 дБ\n",
      "Ldif_1_65 =  22.464205323641572 дБ\n",
      "Ldif_1 =  27.262510484748255 дБ\n",
      "Ldif_1_65 =  22.436261899348207 дБ\n",
      "Ldif_1 =  27.057992328308067 дБ\n",
      "Ldif_1_65 =  22.35779442827257 дБ\n",
      "Ldif_1 =  26.825292487424743 дБ\n",
      "Ldif_1_65 =  22.256085192999713 дБ\n",
      "Ldif_1 =  26.5865669091909 дБ\n",
      "Ldif_1_65 =  22.146543790818576 дБ\n"
     ]
    }
   ],
   "source": [
    "Ldif_1 = np.zeros(10,)\n",
    "Ldif_1_65 = np.zeros(10,)\n",
    "d = np.zeros(10,)\n",
    "lambd = (3*10**8)/(f*10**6)\n",
    "for i in range(10):\n",
    "    d_1 = (a[i]*10**-3)+(b*10**-3)\n",
    "    h0 = ((a[i]*10**-3)*(d_1-(a[i]*10**-3)))/17\n",
    "    H = H_ne + h0\n",
    "    d1 = math.sqrt(a[i]**2+(H-hT)**2)\n",
    "    d2 = math.sqrt(b**2+(H-hR)**2)\n",
    "    d[i] = d1+d2\n",
    "    beta1 = math.acos((H-hT)/d1)\n",
    "    beta2 = math.acos((H-hR)/d2)\n",
    "    beta = beta1 + beta2\n",
    "    alpha = (180*(math.pi/180))-beta\n",
    "    r = (2*Ds*a[i]*b)/(alpha*((a[i]**2) + (b**2)))\n",
    "    Lr = 11.7 * alpha * math.sqrt((math.pi*r)/lambd)\n",
    "    h = H - (hT+a[i]*((hR-hT)/(a[i]+b)))\n",
    "    v = h*math.sqrt((2/lambd)*(1/d1+1/d2))\n",
    "    if (v > - 0.7):\n",
    "        Lwdg = 6.9 + 20*math.log10(math.sqrt((v-0.1)**2+1)+v-0.1)\n",
    "    else:\n",
    "        Lwdg = 0\n",
    "    \n",
    "    Ldif_1[i] = Lwdg + Lr\n",
    "    Ldif_1_65[i] = Lwdg + (Lr*0.65)\n",
    "    print('Ldif_1 = ',Ldif_1[i], 'дБ')\n",
    "    print('Ldif_1_65 = ',Ldif_1_65[i], 'дБ')"
   ]
  },
  {
   "cell_type": "code",
   "execution_count": 72,
   "id": "1b1ffc4e",
   "metadata": {},
   "outputs": [
    {
     "name": "stdout",
     "output_type": "stream",
     "text": [
      "Ldif_2 =  41.55456187248056 дБ\n",
      "Ldif_2_65 =  31.26742503375519 дБ\n",
      "Ldif_2 =  42.52361361498765 дБ\n",
      "Ldif_2_65 =  31.99500872653232 дБ\n",
      "Ldif_2 =  43.70240661022122 дБ\n",
      "Ldif_2_65 =  32.87702903573745 дБ\n",
      "Ldif_2 =  44.74232277330276 дБ\n",
      "Ldif_2_65 =  33.65246851610975 дБ\n",
      "Ldif_2 =  45.64370586182605 дБ\n",
      "Ldif_2_65 =  34.322657725447854 дБ\n",
      "Ldif_2 =  46.43520531514257 дБ\n",
      "Ldif_2_65 =  34.909701318100495 дБ\n",
      "Ldif_2 =  47.14205190580293 дБ\n",
      "Ldif_2_65 =  35.43284770646841 дБ\n",
      "Ldif_2 =  47.78334015947243 дБ\n",
      "Ldif_2_65 =  35.9065883255324 дБ\n",
      "Ldif_2 =  48.37317596637851 дБ\n",
      "Ldif_2_65 =  36.34159209918985 дБ\n",
      "Ldif_2 =  48.922029296909415 дБ\n",
      "Ldif_2_65 =  36.745757901383584 дБ\n"
     ]
    }
   ],
   "source": [
    "Ldif_2 = np.zeros(10,)\n",
    "Ldif_2_65 = np.zeros(10,)\n",
    "for i in range(10):\n",
    "    pl = math.sqrt(((a[i]+b)**2)+(hT-hR)**2)\n",
    "    Hbeam = ((b*hT) + (a[i]*hR))/(a[i]+b)\n",
    "    d_1 = (a[i]*10**-3)+(b*10**-3)\n",
    "    h0 = ((a[i]*10**-3)*(d_1-(a[i]*10**-3)))/17\n",
    "    H = H_ne + h0\n",
    "    F = Hbeam - H\n",
    "    F1 = 17.31 * math.sqrt((1/(f*10**-3)) * (((a[i]*10**-3) * (b*10**-3))/((a[i]*10**-3)+(b*10**-3))))\n",
    "    x = F/F1\n",
    "    Lsph = -38.68 * x + 21.66\n",
    "    if (x >= -0.5):\n",
    "        Lwdg = (1.377 * (x**2)) - (11.31 * x) + 6\n",
    "    else:\n",
    "        Lwdg = -50.4/(1.6 - x) + 36\n",
    "    Ldif_2[i] = Lwdg + (Lsph - Lwdg)\n",
    "    Ldif_2_65[i] = Lwdg + 0.65 * (Lsph - Lwdg)\n",
    "    print('Ldif_2 = ',Ldif_2[i], 'дБ')\n",
    "    print('Ldif_2_65 = ',Ldif_2_65[i], 'дБ')\n"
   ]
  },
  {
   "cell_type": "code",
   "execution_count": 73,
   "id": "935749b4",
   "metadata": {},
   "outputs": [
    {
     "data": {
      "text/plain": [
       "<function matplotlib.pyplot.show(close=None, block=None)>"
      ]
     },
     "execution_count": 73,
     "metadata": {},
     "output_type": "execute_result"
    },
    {
     "data": {
      "image/png": "[encoded data removed]",
      "text/plain": [
       "<Figure size 432x288 with 1 Axes>"
      ]
     },
     "metadata": {
      "needs_background": "light"
     },
     "output_type": "display_data"
    }
   ],
   "source": [
    "plt.plot(d, Ldif_1, '--', label = 'Потери 1 способ')\n",
    "plt.plot(d, Ldif_1_65, '--', label = 'Потери 1 способ при 65%')\n",
    "plt.plot(d, Ldif_2, '-', label = 'Потери 2 способ')\n",
    "plt.plot(d, Ldif_2_65, '-', label = 'Потери 2 способ при 65%')\n",
    "plt.plot(d, Llos, '.-', label = 'Потери в свободном пространстве')\n",
    "plt.xlabel('м')\n",
    "plt.ylabel('дБ')\n",
    "plt.legend()\n",
    "plt.grid()\n",
    "plt.show"
   ]
  },
  {
   "cell_type": "code",
   "execution_count": 74,
   "id": "72d10fc6",
   "metadata": {},
   "outputs": [],
   "source": [
    "a = 5000\n",
    "k = 1000\n",
    "b = np.zeros(10,)\n",
    "for i in range(10,):\n",
    "    b[i] = k\n",
    "    k += 1000"
   ]
  },
  {
   "cell_type": "code",
   "execution_count": 75,
   "id": "f24ca116",
   "metadata": {},
   "outputs": [
    {
     "name": "stdout",
     "output_type": "stream",
     "text": [
      "Llos =  122.83193250997473 дБ\n",
      "Llos =  124.57254904037067 дБ\n",
      "Llos =  126.08033966179053 дБ\n",
      "Llos =  127.41030524542245 дБ\n",
      "Llos =  128.6 дБ\n",
      "Llos =  129.67620981411386 дБ\n",
      "Llos =  130.65871239723825 дБ\n",
      "Llos =  131.56252715997775 дБ\n",
      "Llos =  132.3993289276342 дБ\n",
      "Llos =  133.1783727354477 дБ\n"
     ]
    }
   ],
   "source": [
    "Llos = np.zeros(10,)\n",
    "for i in range(10):\n",
    "    Llos[i] = 42.6 + 26*math.log10((a*10**-3)+(b[i]*10**-3)) + 20*math.log10(f)\n",
    "    print('Llos = ',Llos[i], 'дБ')"
   ]
  },
  {
   "cell_type": "code",
   "execution_count": 76,
   "id": "48f9de42",
   "metadata": {},
   "outputs": [],
   "source": [
    "a = 5000\n",
    "k = 1000\n",
    "b = np.zeros(10,)\n",
    "for i in range(10,):\n",
    "    b[i] = k\n",
    "    k += 1000"
   ]
  },
  {
   "cell_type": "code",
   "execution_count": 77,
   "id": "cc087299",
   "metadata": {},
   "outputs": [
    {
     "name": "stdout",
     "output_type": "stream",
     "text": [
      "Llos =  122.83193250997473 дБ\n",
      "Llos =  124.57254904037067 дБ\n",
      "Llos =  126.08033966179053 дБ\n",
      "Llos =  127.41030524542245 дБ\n",
      "Llos =  128.6 дБ\n",
      "Llos =  129.67620981411386 дБ\n",
      "Llos =  130.65871239723825 дБ\n",
      "Llos =  131.56252715997775 дБ\n",
      "Llos =  132.3993289276342 дБ\n",
      "Llos =  133.1783727354477 дБ\n"
     ]
    }
   ],
   "source": [
    "Llos = np.zeros(10,)\n",
    "for i in range(10):\n",
    "    Llos[i] = 42.6 + 26*math.log10((a*10**-3)+(b[i]*10**-3)) + 20*math.log10(f)\n",
    "    print('Llos = ',Llos[i], 'дБ')"
   ]
  },
  {
   "cell_type": "code",
   "execution_count": 78,
   "id": "0aaeb6db",
   "metadata": {},
   "outputs": [
    {
     "name": "stdout",
     "output_type": "stream",
     "text": [
      "Ldif_1 =  37.48407088268516 дБ\n",
      "Ldif_1_65 =  31.165762592941093 дБ\n",
      "Ldif_1 =  33.93073894924986 дБ\n",
      "Ldif_1_65 =  27.814093179933124 дБ\n",
      "Ldif_1 =  31.365127593187538 дБ\n",
      "Ldif_1_65 =  25.58428657282836 дБ\n",
      "Ldif_1 =  29.222072991098166 дБ\n",
      "Ldif_1_65 =  23.83065926833187 дБ\n",
      "Ldif_1 =  27.39763711491195 дБ\n",
      "Ldif_1_65 =  22.39436269619939 дБ\n",
      "Ldif_1 =  25.852477074314677 дБ\n",
      "Ldif_1_65 =  21.207983915457223 дБ\n",
      "Ldif_1 =  24.55122764367427 дБ\n",
      "Ldif_1_65 =  20.22594042088469 дБ\n",
      "Ldif_1 =  23.45773520741157 дБ\n",
      "Ldif_1_65 =  19.41125291405284 дБ\n",
      "Ldif_1 =  22.538053683493764 дБ\n",
      "Ldif_1_65 =  18.733248711240208 дБ\n",
      "Ldif_1 =  21.76247890174941 дБ\n",
      "Ldif_1_65 =  18.166840218308252 дБ\n"
     ]
    }
   ],
   "source": [
    "Ldif_1 = np.zeros(10,)\n",
    "Ldif_1_65 = np.zeros(10,)\n",
    "d = np.zeros(10,)\n",
    "lambd = (3*10**8)/(f*10**6)\n",
    "for i in range(10):\n",
    "    d_1 = (a*10**-3)+(b[i]*10**-3)\n",
    "    h0 = ((a*10**-3)*(d_1-(a*10**-3)))/17\n",
    "    H = H_ne + h0\n",
    "    d1 = math.sqrt(a**2+(H-hT)**2)\n",
    "    d2 = math.sqrt(b[i]**2+(H-hR)**2)\n",
    "    d[i] = d1+d2\n",
    "    beta1 = math.acos((H-hT)/d1)\n",
    "    beta2 = math.acos((H-hR)/d2)\n",
    "    beta = beta1 + beta2\n",
    "    alpha = (180*(math.pi/180))-beta\n",
    "    r = (2*Ds*a*b[i])/(alpha*((a**2) + (b[i]**2)))\n",
    "    Lr = 11.7 * alpha * math.sqrt((math.pi*r)/lambd)\n",
    "    h = H - (hT+a*((hR-hT)/(a+b[i])))\n",
    "    v = h*math.sqrt((2/lambd)*(1/d1+1/d2))\n",
    "    if (v > - 0.7):\n",
    "        Lwdg = 6.9 + 20*math.log10(math.sqrt((v-0.1)**2+1)+v-0.1)\n",
    "    else:\n",
    "        Lwdg = 0\n",
    "    \n",
    "    Ldif_1[i] = Lwdg + Lr\n",
    "    Ldif_1_65[i] = Lwdg + (Lr*0.65)\n",
    "    print('Ldif_1 = ',Ldif_1[i], 'дБ')\n",
    "    print('Ldif_1_65 = ',Ldif_1_65[i], 'дБ')"
   ]
  },
  {
   "cell_type": "code",
   "execution_count": 79,
   "id": "db6a196e",
   "metadata": {},
   "outputs": [
    {
     "name": "stdout",
     "output_type": "stream",
     "text": [
      "Ldif_2 =  79.0878486861833 дБ\n",
      "Ldif_2_65 =  58.28853862599169 дБ\n",
      "Ldif_2 =  60.95209160473203 дБ\n",
      "Ldif_2_65 =  45.475287866292625 дБ\n",
      "Ldif_2 =  53.085728313646904 дБ\n",
      "Ldif_2_65 =  39.79366747886665 дБ\n",
      "Ldif_2 =  48.57304781759876 дБ\n",
      "Ldif_2_65 =  36.48884201671211 дБ\n",
      "Ldif_2 =  45.64370586182605 дБ\n",
      "Ldif_2_65 =  34.322657725447854 дБ\n",
      "Ldif_2 =  43.60602737173697 дБ\n",
      "Ldif_2_65 =  32.80503646394956 дБ\n",
      "Ldif_2 =  42.12645548236023 дБ\n",
      "Ldif_2_65 =  31.69709241002086 дБ\n",
      "Ldif_2 =  41.021937245293 дБ\n",
      "Ldif_2_65 =  30.866527184859375 дБ\n",
      "Ldif_2 =  40.18274130426991 дБ\n",
      "Ldif_2_65 =  30.224913498678283 дБ\n",
      "Ldif_2 =  39.53870759348372 дБ\n",
      "Ldif_2_65 =  29.73282946155564 дБ\n"
     ]
    }
   ],
   "source": [
    "Ldif_2 = np.zeros(10,)\n",
    "Ldif_2_65 = np.zeros(10,)\n",
    "for i in range(10):\n",
    "    pl = math.sqrt(((a+b[i])**2)+(hT-hR)**2)\n",
    "    Hbeam = ((b[i]*hT) + (a*hR))/(a+b[i])\n",
    "    d_1 = (a*10**-3)+(b[i]*10**-3)\n",
    "    h0 = ((a*10**-3)*(d_1-(a*10**-3)))/17\n",
    "    H = H_ne + h0\n",
    "    F = Hbeam - H\n",
    "    F1 = 17.31 * math.sqrt((1/(f*10**-3)) * (((a*10**-3) * (b[i]*10**-3))/((a*10**-3)+(b[i]*10**-3))))\n",
    "    x = F/F1\n",
    "    Lsph = -38.68 * x + 21.66\n",
    "    if (x >= -0.5):\n",
    "        Lwdg = (1.377 * (x**2)) - (11.31 * x) + 6\n",
    "    else:\n",
    "        Lwdg = -50.4/(1.6 - x) + 36\n",
    "    Ldif_2[i] = Lwdg + (Lsph - Lwdg)\n",
    "    Ldif_2_65[i] = Lwdg + 0.65 * (Lsph - Lwdg)\n",
    "    print('Ldif_2 = ',Ldif_2[i], 'дБ')\n",
    "    print('Ldif_2_65 = ',Ldif_2_65[i], 'дБ')"
   ]
  },
  {
   "cell_type": "code",
   "execution_count": 80,
   "id": "445906e5",
   "metadata": {},
   "outputs": [
    {
     "data": {
      "text/plain": [
       "<function matplotlib.pyplot.show(close=None, block=None)>"
      ]
     },
     "execution_count": 80,
     "metadata": {},
     "output_type": "execute_result"
    },
    {
     "data": {
      "image/png": "[encoded data removed]",
      "text/plain": [
       "<Figure size 432x288 with 1 Axes>"
      ]
     },
     "metadata": {
      "needs_background": "light"
     },
     "output_type": "display_data"
    }
   ],
   "source": [
    "plt.plot(d, Ldif_1, '--', label = 'Потери 1 способ')\n",
    "plt.plot(d, Ldif_1_65, '--', label = 'Потери 1 способ при 65%')\n",
    "plt.plot(d, Ldif_2, '-', label = 'Потери 2 способ')\n",
    "plt.plot(d, Ldif_2_65, '-', label = 'Потери 2 способ при 65%')\n",
    "plt.plot(d, Llos, '.-', label = 'Потери в свободном пространстве')\n",
    "plt.xlabel('м')\n",
    "plt.ylabel('дБ')\n",
    "plt.legend()\n",
    "plt.grid()\n",
    "plt.show"
   ]
  },
  {
   "cell_type": "code",
   "execution_count": null,
   "id": "8d525098",
   "metadata": {},
   "outputs": [],
   "source": []
  },
  {
   "cell_type": "code",
   "execution_count": null,
   "id": "e85d37f6",
   "metadata": {},
   "outputs": [],
   "source": []
  }
 ],
 "metadata": {
  "kernelspec": {
   "display_name": "Python 3 (ipykernel)",
   "language": "python",
   "name": "python3"
  },
  "language_info": {
   "codemirror_mode": {
    "name": "ipython",
    "version": 3
   },
   "file_extension": ".py",
   "mimetype": "text/x-python",
   "name": "python",
   "nbconvert_exporter": "python",
   "pygments_lexer": "ipython3",
   "version": "3.9.7"
  }
 },
 "nbformat": 4,
 "nbformat_minor": 5
}
