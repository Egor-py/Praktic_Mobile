{
 "cells": [
  {
   "cell_type": "markdown",
   "id": "96787510",
   "metadata": {},
   "source": [
    "<h1><center>Практическая работа 6</center></h1>\n",
    "<h1><center>Оценка потерь на трассе радиоканала в случает дифракции на цилиндре</center></h1>\n",
    "<h4>Выполнил Дмитриев Егор ИКТУ-88 Вариант 3</h4>"
   ]
  },
  {
   "cell_type": "markdown",
   "id": "c8b9e93c",
   "metadata": {},
   "source": [
    "### Цель работы: \n",
    ">Целью данной работы является ознакомление с механизмом дифракции радиосигала на цилиндре, в также принципами оценки величины потерь, вызываемых данным типом дифракции"
   ]
  },
  {
   "cell_type": "markdown",
   "id": "a45a648f",
   "metadata": {},
   "source": [
    "### 1. Выбор значений по номеру варианта \n",
    "$ f = 1000 МГц; h_T = 58 м; h_R = 35м; a = 5км; b = 5км; H' = 62м; D_S = 21м $"
   ]
  },
  {
   "cell_type": "code",
   "execution_count": 1,
   "id": "109b6454",
   "metadata": {},
   "outputs": [],
   "source": [
    "import numpy as np\n",
    "import matplotlib.pyplot as plt\n",
    "import math\n",
    "\n",
    "f = 1000\n",
    "hT = 58\n",
    "hR = 35\n",
    "H = 62\n",
    "Ds = 21"
   ]
  },
  {
   "cell_type": "code",
   "execution_count": 4,
   "id": "62ebe5e3",
   "metadata": {},
   "outputs": [],
   "source": [
    "b = 5000\n",
    "k = 1000\n",
    "a = np.zeros(10,)\n",
    "for i in range(10):\n",
    "    a[i] = k\n",
    "    k += 1000"
   ]
  },
  {
   "cell_type": "code",
   "execution_count": null,
   "id": "66b28472",
   "metadata": {},
   "outputs": [],
   "source": []
  }
 ],
 "metadata": {
  "kernelspec": {
   "display_name": "Python 3 (ipykernel)",
   "language": "python",
   "name": "python3"
  },
  "language_info": {
   "codemirror_mode": {
    "name": "ipython",
    "version": 3
   },
   "file_extension": ".py",
   "mimetype": "text/x-python",
   "name": "python",
   "nbconvert_exporter": "python",
   "pygments_lexer": "ipython3",
   "version": "3.9.7"
  }
 },
 "nbformat": 4,
 "nbformat_minor": 5
}
