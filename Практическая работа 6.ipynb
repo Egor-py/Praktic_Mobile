{
 "cells": [
  {
   "cell_type": "markdown",
   "id": "96787510",
   "metadata": {},
   "source": [
    "<h1><center>Практическая работа 6</center></h1>\n",
    "<h1><center>Оценка потерь на трассе радиоканала в случает дифракции на цилиндре</center></h1>\n",
    "<h4>Выполнил Дмитриев Егор ИКТУ-88 Вариант 3</h4>"
   ]
  },
  {
   "cell_type": "markdown",
   "id": "c8b9e93c",
   "metadata": {},
   "source": [
    "### Цель работы: \n",
    ">Целью данной работы является ознакомление с механизмом дифракции радиосигала на цилиндре, в также принципами оценки величины потерь, вызываемых данным типом дифракции"
   ]
  },
  {
   "cell_type": "markdown",
   "id": "a45a648f",
   "metadata": {},
   "source": [
    "### 1. Выбор значений по номеру варианта \n",
    "$ f = 1000 МГц; h_T = 58 м; h_R = 35м; a = 5км; b = 5км; H' = 62м; D_S = 21м $"
   ]
  },
  {
   "cell_type": "code",
   "execution_count": 2,
   "id": "109b6454",
   "metadata": {},
   "outputs": [],
   "source": [
    "import numpy as np\n",
    "import matplotlib.pyplot as plt\n",
    "import math\n",
    "\n",
    "f = 1000\n",
    "hT = 58\n",
    "hR = 35\n",
    "H = 62\n",
    "Ds = 21"
   ]
  },
  {
   "cell_type": "code",
   "execution_count": 3,
   "id": "62ebe5e3",
   "metadata": {},
   "outputs": [],
   "source": [
    "b = 5000\n",
    "k = 1000\n",
    "a = np.zeros(10,)\n",
    "for i in range(10):\n",
    "    a[i] = k\n",
    "    k += 1000"
   ]
  },
  {
   "cell_type": "code",
   "execution_count": 5,
   "id": "66b28472",
   "metadata": {},
   "outputs": [
    {
     "name": "stdout",
     "output_type": "stream",
     "text": [
      "Ldif_1 =  200.47704754035783 дБ\n",
      "Ldif_1_65 =  134.52414686976843 дБ\n",
      "Ldif_1 =  266.0359967309918 дБ\n",
      "Ldif_1_65 =  177.27862964051008 дБ\n",
      "Ldif_1 =  300.2807692486158 дБ\n",
      "Ldif_1_65 =  199.7242092769903 дБ\n",
      "Ldif_1 =  315.8714767477426 дБ\n",
      "Ldif_1_65 =  210.0530204613061 дБ\n",
      "Ldif_1 =  320.3318156529839 дБ\n",
      "Ldif_1_65 =  213.15303760705484 дБ\n",
      "Ldif_1 =  318.4794011177971 дБ\n",
      "Ldif_1_65 =  212.15603841547122 дБ\n",
      "Ldif_1 =  313.26028016775786 дБ\n",
      "Ldif_1_65 =  208.9769071953577 дБ\n",
      "Ldif_1 =  306.40097533903815 дБ\n",
      "Ldif_1_65 =  204.73725549587206 дБ\n",
      "Ldif_1 =  298.88356295922614 дБ\n",
      "Ldif_1_65 =  200.07440687461292 дБ\n",
      "Ldif_1 =  291.25255764264676 дБ\n",
      "Ldif_1_65 =  195.3410687291879 дБ\n"
     ]
    }
   ],
   "source": [
    "Ldif_1 = np.zeros(10,)\n",
    "Ldif_1_65 = np.zeros(10,)\n",
    "d = np.zeros(10,)\n",
    "lambd = (3*10**8)/(f*10**6)\n",
    "for i in range(10):\n",
    "    d_1 = (a[i]*10**-3)+(b*10**-3)\n",
    "    h0 = ((a[i]*10**-3)*(d_1-(a[i]*10**-3)))/17\n",
    "    H = H + h0\n",
    "    d1 = math.sqrt(a[i]**2+(H-hT)**2)\n",
    "    d2 = math.sqrt(b**2+(H-hR)**2)\n",
    "    d[i] = d1+d2\n",
    "    beta1 = math.asin(H/d1)\n",
    "    beta2 = math.asin(H/d2)\n",
    "    beta = beta1 + beta2\n",
    "    alpha = (180*(math.pi/180))-beta\n",
    "    r = (2*Ds*a[i]*b)/(alpha*((a[i]**2) + (b**2)))\n",
    "    Lr = 11.7 * alpha * math.sqrt((math.pi*r)/lambd)\n",
    "    h = H - (hT+a[i]*((hR-hT)/(a[i]+b)))\n",
    "    v = h*math.sqrt((2/lambd)*(1/d1+1/d2))\n",
    "    if (v > - 0.7):\n",
    "        Lwdg = 6.9 + 20*math.log10(math.sqrt((v-0.1)**2+1)+v-0.1)\n",
    "    else:\n",
    "        Lwdg = 0\n",
    "    \n",
    "    Ldif_1[i] = Lwdg + Lr\n",
    "    Ldif_1_65[i] = Lwdg + (Lr*0.65)\n",
    "    print('Ldif_1 = ',Ldif_1[i], 'дБ')\n",
    "    print('Ldif_1_65 = ',Ldif_1_65[i], 'дБ')"
   ]
  },
  {
   "cell_type": "code",
   "execution_count": 6,
   "id": "e2a23e2a",
   "metadata": {},
   "outputs": [
    {
     "data": {
      "text/plain": [
       "<function matplotlib.pyplot.show(close=None, block=None)>"
      ]
     },
     "execution_count": 6,
     "metadata": {},
     "output_type": "execute_result"
    },
    {
     "data": {
      "image/png": "[encoded data removed]",
      "text/plain": [
       "<Figure size 432x288 with 1 Axes>"
      ]
     },
     "metadata": {
      "needs_background": "light"
     },
     "output_type": "display_data"
    }
   ],
   "source": [
    "plt.plot(d, Ldif_1, '.-', label = 'Потери')\n",
    "plt.plot(d, Ldif_1_65, '--', label = 'Потери при 65%')\n",
    "plt.xlabel('м')\n",
    "plt.ylabel('дБ')\n",
    "plt.legend()\n",
    "plt.grid()\n",
    "plt.show"
   ]
  },
  {
   "cell_type": "code",
   "execution_count": 7,
   "id": "f0e74f70",
   "metadata": {},
   "outputs": [],
   "source": [
    "a = 5000\n",
    "k = 1000\n",
    "b = np.zeros(10,)\n",
    "for i in range(10):\n",
    "    b[i] = k\n",
    "    k += 1000"
   ]
  },
  {
   "cell_type": "code",
   "execution_count": 8,
   "id": "1b1ffc4e",
   "metadata": {},
   "outputs": [
    {
     "name": "stdout",
     "output_type": "stream",
     "text": [
      "Ldif_1 =  211.67964233922743 дБ\n",
      "Ldif_1_65 =  145.93544726371263 дБ\n",
      "Ldif_1 =  274.2085654378061 дБ\n",
      "Ldif_1_65 =  185.61352095033277 дБ\n",
      "Ldif_1 =  306.59543375687616 дБ\n",
      "Ldif_1_65 =  206.1785399740467 дБ\n",
      "Ldif_1 =  320.8891634051736 дБ\n",
      "Ldif_1_65 =  215.19452305021096 дБ\n",
      "Ldif_1 =  324.38173866221706 дБ\n",
      "Ldif_1_65 =  217.31433621171564 дБ\n",
      "Ldif_1 =  321.7773780036815 дБ\n",
      "Ldif_1_65 =  215.5552420518483 дБ\n",
      "Ldif_1 =  315.95848722896824 дБ\n",
      "Ldif_1_65 =  211.7679233241746 дБ\n",
      "Ldif_1 =  308.6124701511115 дБ\n",
      "Ldif_1_65 =  207.03450149735028 дБ\n",
      "Ldif_1 =  300.69562213967436 дБ\n",
      "Ldif_1_65 =  201.9662428011288 дБ\n",
      "Ldif_1 =  292.73445374243073 дБ\n",
      "Ldif_1_65 =  196.89763753935975 дБ\n"
     ]
    }
   ],
   "source": [
    "Ldif_1 = np.zeros(10,)\n",
    "Ldif_1_65 = np.zeros(10,)\n",
    "d = np.zeros(10,)\n",
    "lambd = (3*10**8)/(f*10**6)\n",
    "for i in range(10):\n",
    "    d_1 = (a*10**-3)+(b[i]*10**-3)\n",
    "    h0 = ((a*10**-3)*(d_1-(a*10**-3)))/17\n",
    "    H = H + h0\n",
    "    d1 = math.sqrt(a**2+(H-hT)**2)\n",
    "    d2 = math.sqrt(b[i]**2+(H-hR)**2)\n",
    "    d[i] = d1+d2\n",
    "    beta1 = math.asin(H/d1)\n",
    "    beta2 = math.asin(H/d2)\n",
    "    beta = beta1 + beta2\n",
    "    alpha = (180*(math.pi/180))-beta\n",
    "    r = (2*Ds*a*b[i])/(alpha*((a**2) + (b[i]**2)))\n",
    "    Lr = 11.7 * alpha * math.sqrt((math.pi*r)/lambd)\n",
    "    h = H - (hT+a*((hR-hT)/(a+b[i])))\n",
    "    v = h*math.sqrt((2/lambd)*(1/d1+1/d2))\n",
    "    if (v > - 0.7):\n",
    "        Lwdg = 6.9 + 20*math.log10(math.sqrt((v-0.1)**2+1)+v-0.1)\n",
    "    else:\n",
    "        Lwdg = 0\n",
    "    \n",
    "    Ldif_1[i] = Lwdg + Lr\n",
    "    Ldif_1_65[i] = Lwdg + (Lr*0.65)\n",
    "    print('Ldif_1 = ',Ldif_1[i], 'дБ')\n",
    "    print('Ldif_1_65 = ',Ldif_1_65[i], 'дБ')"
   ]
  },
  {
   "cell_type": "code",
   "execution_count": 9,
   "id": "72d10fc6",
   "metadata": {},
   "outputs": [
    {
     "data": {
      "text/plain": [
       "<function matplotlib.pyplot.show(close=None, block=None)>"
      ]
     },
     "execution_count": 9,
     "metadata": {},
     "output_type": "execute_result"
    },
    {
     "data": {
      "image/png": "[encoded data removed]",
      "text/plain": [
       "<Figure size 432x288 with 1 Axes>"
      ]
     },
     "metadata": {
      "needs_background": "light"
     },
     "output_type": "display_data"
    }
   ],
   "source": [
    "plt.plot(d, Ldif_1, '.-', label = 'Потери')\n",
    "plt.plot(d, Ldif_1_65, '--', label = 'Потери при 65%')\n",
    "plt.xlabel('м')\n",
    "plt.ylabel('дБ')\n",
    "plt.legend()\n",
    "plt.grid()\n",
    "plt.show"
   ]
  },
  {
   "cell_type": "code",
   "execution_count": null,
   "id": "48f9de42",
   "metadata": {},
   "outputs": [],
   "source": []
  }
 ],
 "metadata": {
  "kernelspec": {
   "display_name": "Python 3 (ipykernel)",
   "language": "python",
   "name": "python3"
  },
  "language_info": {
   "codemirror_mode": {
    "name": "ipython",
    "version": 3
   },
   "file_extension": ".py",
   "mimetype": "text/x-python",
   "name": "python",
   "nbconvert_exporter": "python",
   "pygments_lexer": "ipython3",
   "version": "3.9.7"
  }
 },
 "nbformat": 4,
 "nbformat_minor": 5
}
