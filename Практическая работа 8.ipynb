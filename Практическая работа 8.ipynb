{
 "cells": [
  {
   "cell_type": "markdown",
   "id": "8984aec0",
   "metadata": {},
   "source": [
    "<h1><center>Практическая работа 8</center></h1>\n",
    "<h1><center>Предварительное пралнирование беспроводной локальной сети</center></h1>\n",
    "<h4>Выполнил Дмитриев Егор ИКТУ-88 Вариант 3</h4>"
   ]
  },
  {
   "cell_type": "markdown",
   "id": "a83a0d29",
   "metadata": {},
   "source": [
    "### Цель работы:\n",
    "> Ознакомиться с принципами предварительного планирования беспроводной сети IEEE 802.11."
   ]
  },
  {
   "cell_type": "markdown",
   "id": "0fa46104",
   "metadata": {},
   "source": [
    "### 1. Задание 1. Выбор значений в соответствии с вариантом."
   ]
  },
  {
   "cell_type": "markdown",
   "id": "ec75e99b",
   "metadata": {},
   "source": [
    "$N = 120чел.; F = 2 Мбит/с; D_T = 0,6; D_L = 0,4; D_{2,4GHz} = 0,7; D_{5GHz} = 0,3$"
   ]
  },
  {
   "cell_type": "markdown",
   "id": "c434f703",
   "metadata": {},
   "source": [
    "### 2. Оценка тербуемого количества точек при заданных параметрах:"
   ]
  },
  {
   "cell_type": "code",
   "execution_count": 24,
   "id": "cf49df76",
   "metadata": {},
   "outputs": [],
   "source": [
    "import numpy as np\n",
    "import matplotlib.pyplot as plt\n",
    "import math\n",
    "N = 120\n",
    "F = 2\n",
    "F_T = 35\n",
    "F_L = 70\n",
    "D_T = 0.6\n",
    "D_L = 0.4\n",
    "D_24 = 0.7\n",
    "D_5 = 0.3"
   ]
  },
  {
   "cell_type": "markdown",
   "id": "2107d170",
   "metadata": {},
   "source": [
    "#### Коэффициент эфирного времени"
   ]
  },
  {
   "cell_type": "code",
   "execution_count": 25,
   "id": "978473b2",
   "metadata": {},
   "outputs": [
    {
     "name": "stdout",
     "output_type": "stream",
     "text": [
      "airtime tablet =  0.05714285714285714\n",
      "airtime laptop =  0.02857142857142857\n"
     ]
    }
   ],
   "source": [
    "A_T = F/F_T\n",
    "print('airtime tablet = ', A_T)\n",
    "A_L = F/F_L\n",
    "print('airtime laptop = ', A_L)"
   ]
  },
  {
   "cell_type": "markdown",
   "id": "472f01b8",
   "metadata": {},
   "source": [
    "#### Общий коэффициент эфирного вермени"
   ]
  },
  {
   "cell_type": "code",
   "execution_count": 26,
   "id": "73c2cb39",
   "metadata": {},
   "outputs": [
    {
     "name": "stdout",
     "output_type": "stream",
     "text": [
      "airtime all tablet =  4.114285714285714\n",
      "airtime all laptop =  1.3714285714285714\n"
     ]
    }
   ],
   "source": [
    "A_T_all = A_T*N*D_T\n",
    "print('airtime all tablet = ', A_T_all)\n",
    "A_L_all = A_L*N*D_L\n",
    "print('airtime all laptop = ', A_L_all)"
   ]
  },
  {
   "cell_type": "markdown",
   "id": "32054811",
   "metadata": {},
   "source": [
    "#### Общий коэффициент эфирного времени с учетом служебного трафика"
   ]
  },
  {
   "cell_type": "code",
   "execution_count": 27,
   "id": "22a79857",
   "metadata": {},
   "outputs": [
    {
     "name": "stdout",
     "output_type": "stream",
     "text": [
      "airtime =  6.857142857142858\n"
     ]
    }
   ],
   "source": [
    "A = (A_L_all + A_T_all)*1.25\n",
    "print('airtime = ', A)"
   ]
  },
  {
   "cell_type": "markdown",
   "id": "47910a35",
   "metadata": {},
   "source": [
    "#### Определение числа радиомодулей"
   ]
  },
  {
   "cell_type": "code",
   "execution_count": 28,
   "id": "95fdedf0",
   "metadata": {},
   "outputs": [
    {
     "name": "stdout",
     "output_type": "stream",
     "text": [
      "Кол-во радиомодулей, работающих в диапазоне 2,4ГГц: 5\n",
      "Кол-во радиомодулей, работающих в диапазоне 5ГГц: 3\n"
     ]
    }
   ],
   "source": [
    "N_24 = math.ceil(A*D_24)\n",
    "print('Кол-во радиомодулей, работающих в диапазоне 2,4ГГц:', N_24)\n",
    "N_5 = math.ceil(A*D_5)\n",
    "print('Кол-во радиомодулей, работающих в диапазоне 5ГГц:', N_5)"
   ]
  },
  {
   "cell_type": "markdown",
   "id": "38807df2",
   "metadata": {},
   "source": [
    "### 3. Задание 2. Выбор значений в соответствии с вариантом "
   ]
  },
  {
   "cell_type": "markdown",
   "id": "6d43ca32",
   "metadata": {},
   "source": [
    "$P_t = 12; G_t = 3: G_r = 1, L = 5; $ **Тип перегородок - несущие** "
   ]
  },
  {
   "cell_type": "code",
   "execution_count": 29,
   "id": "f2e73a2c",
   "metadata": {},
   "outputs": [],
   "source": [
    "P_t = 12\n",
    "G_t = 3\n",
    "G_r = 1\n",
    "L = 5"
   ]
  },
  {
   "cell_type": "markdown",
   "id": "54664651",
   "metadata": {},
   "source": [
    "### 4. Расчет радиуса сети 802.11g на открытом пространстве и определение зоны покрытия сети на схеме"
   ]
  },
  {
   "cell_type": "markdown",
   "id": "a645ba86",
   "metadata": {},
   "source": [
    "**Для расчета радиус сети 802.11g был взят 1 канал $f = 2412МГц $**\\\n",
    "**При скорости 54 Мбит/с для сети 802.11g $ P_{min} = -66дБм $**"
   ]
  },
  {
   "cell_type": "code",
   "execution_count": 34,
   "id": "711117c8",
   "metadata": {},
   "outputs": [
    {
     "name": "stdout",
     "output_type": "stream",
     "text": [
      "D(2,4ГГц) = 36.95070224435097 м\n"
     ]
    }
   ],
   "source": [
    "F_k_24 = 2412 \n",
    "SOM = 10\n",
    "Pmin_1 = -66\n",
    "Vpd1 = 54\n",
    "\n",
    "Y = P_t + G_t + G_r - Pmin_1\n",
    "FSL = Y - SOM\n",
    "D_24g_1 = 10**((FSL-33)/20 - math.log10(F_k_24))*1000\n",
    "print('D(2,4ГГц) =', D_24g_1, 'м')"
   ]
  },
  {
   "cell_type": "markdown",
   "id": "b608d456",
   "metadata": {},
   "source": [
    "#### Так как тип перегородок - несущие, то после прохождения первой стены радиус уменьшится до 10%, т.е. до 3.69м"
   ]
  },
  {
   "cell_type": "markdown",
   "id": "bcd3931f",
   "metadata": {},
   "source": [
    "<img src=24ГГц.png>"
   ]
  },
  {
   "cell_type": "markdown",
   "id": "ed4f3474",
   "metadata": {},
   "source": [
    "### 5. Распределение точек доступа"
   ]
  },
  {
   "cell_type": "markdown",
   "id": "424e2f64",
   "metadata": {},
   "source": [
    "**Использованные каналы:**\\\n",
    "Канал 1 - $f = 2412МГц$\\\n",
    "Канал 6 - $f = 2437МГц$\\\n",
    "Канал 11 - $f = 2462МГц$"
   ]
  },
  {
   "cell_type": "code",
   "execution_count": 35,
   "id": "c7e5e4bf",
   "metadata": {},
   "outputs": [
    {
     "name": "stdout",
     "output_type": "stream",
     "text": [
      "D(2,4ГГц)_кан1 = 36.95070224435097 м\n",
      "D(2,4ГГц)_кан6 = 36.571642927113075 м\n",
      "D(2,4ГГц)_кан11 = 36.20028180884426 м\n"
     ]
    }
   ],
   "source": [
    "F_k_24_1 = 2412 \n",
    "F_k_24_6 = 2437 \n",
    "F_k_24_11 = 2462 \n",
    "SOM = 10\n",
    "Pmin_1 = -66\n",
    "Vpd1 = 54\n",
    "\n",
    "Y = P_t + G_t + G_r - Pmin_1\n",
    "FSL = Y - SOM\n",
    "D_24g_1 = 10**((FSL-33)/20 - math.log10(F_k_24_1))*1000\n",
    "D_24g_6 = 10**((FSL-33)/20 - math.log10(F_k_24_6))*1000\n",
    "D_24g_11 = 10**((FSL-33)/20 - math.log10(F_k_24_11))*1000\n",
    "print('D(2,4ГГц)_кан1 =', D_24g_1, 'м')\n",
    "print('D(2,4ГГц)_кан6 =', D_24g_6, 'м')\n",
    "print('D(2,4ГГц)_кан11 =', D_24g_11, 'м')"
   ]
  },
  {
   "cell_type": "markdown",
   "id": "c7872c91",
   "metadata": {},
   "source": [
    "<img src=Распределение_точек_доступа_24.png >"
   ]
  },
  {
   "cell_type": "markdown",
   "id": "6850b54e",
   "metadata": {},
   "source": [
    "### 6. Расчет радиуса сети 802.11n на открытом пространстве и определение зоны покрытия сети на схеме"
   ]
  },
  {
   "cell_type": "markdown",
   "id": "4cdc3beb",
   "metadata": {},
   "source": [
    "**Для расчета радиус сети 802.11n был взят 44 канал $f = 5220МГц $**\\\n",
    "**При скорости 150 Мбит/с для сети 802.11n $ P_{min} = -74дБм $**"
   ]
  },
  {
   "cell_type": "code",
   "execution_count": 33,
   "id": "eca843b4",
   "metadata": {},
   "outputs": [
    {
     "name": "stdout",
     "output_type": "stream",
     "text": [
      "D(5ГГц) = 42.88737813349311 м\n"
     ]
    }
   ],
   "source": [
    "F_k_5 = 5220 \n",
    "SOM = 10\n",
    "Pmin_2 = -74\n",
    "Vpd1 = 150\n",
    "\n",
    "Y = P_t + G_t + G_r - Pmin_2\n",
    "FSL = Y - SOM\n",
    "D_5g_1 = 10**((FSL-33)/20 - math.log10(F_k_5))*1000\n",
    "print('D(5ГГц) =', D_5g_1, 'м')"
   ]
  },
  {
   "cell_type": "markdown",
   "id": "a04bbcdb",
   "metadata": {},
   "source": [
    "#### Так как тип перегородок - несущие, то после прохождения первой стены радиус уменьшится до 10%, т.е. до 4.29м"
   ]
  },
  {
   "cell_type": "markdown",
   "id": "bfc0e822",
   "metadata": {},
   "source": [
    "<img src=5ГГц.png>"
   ]
  },
  {
   "cell_type": "markdown",
   "id": "47315427",
   "metadata": {},
   "source": [
    "### 7. Распределение точек доступа"
   ]
  },
  {
   "cell_type": "markdown",
   "id": "ff11b3c9",
   "metadata": {},
   "source": [
    "**Использованные каналы:**\\\n",
    "Канал 44 - $f = 5220МГц$\\\n",
    "Канал 100 - $f = 5500МГц$"
   ]
  },
  {
   "cell_type": "code",
   "execution_count": 36,
   "id": "96584074",
   "metadata": {},
   "outputs": [
    {
     "name": "stdout",
     "output_type": "stream",
     "text": [
      "D(5ГГц)_кан44 = 42.88737813349311 м\n",
      "D(5ГГц)_кан100 = 42.88737813349311 м\n"
     ]
    }
   ],
   "source": [
    "F_k_5_44 = 5220 \n",
    "F_k_5_100 = 5220 \n",
    "SOM = 10\n",
    "Pmin_2 = -74\n",
    "Vpd1 = 150\n",
    "\n",
    "Y = P_t + G_t + G_r - Pmin_2\n",
    "FSL = Y - SOM\n",
    "D_5g_44 = 10**((FSL-33)/20 - math.log10(F_k_5_44))*1000\n",
    "D_5g_100 = 10**((FSL-33)/20 - math.log10(F_k_5_100))*1000\n",
    "print('D(5ГГц)_кан44 =', D_5g_44, 'м')\n",
    "print('D(5ГГц)_кан100 =', D_5g_100, 'м')"
   ]
  },
  {
   "cell_type": "markdown",
   "id": "298ab133",
   "metadata": {},
   "source": [
    "<img src=Распределение_точек_доступа_5.png >"
   ]
  },
  {
   "cell_type": "code",
   "execution_count": null,
   "id": "360b5b13",
   "metadata": {},
   "outputs": [],
   "source": []
  }
 ],
 "metadata": {
  "kernelspec": {
   "display_name": "Python 3 (ipykernel)",
   "language": "python",
   "name": "python3"
  },
  "language_info": {
   "codemirror_mode": {
    "name": "ipython",
    "version": 3
   },
   "file_extension": ".py",
   "mimetype": "text/x-python",
   "name": "python",
   "nbconvert_exporter": "python",
   "pygments_lexer": "ipython3",
   "version": "3.9.7"
  }
 },
 "nbformat": 4,
 "nbformat_minor": 5
}
